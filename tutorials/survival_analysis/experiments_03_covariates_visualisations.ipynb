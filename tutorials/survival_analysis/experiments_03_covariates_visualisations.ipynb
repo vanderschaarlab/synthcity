{
 "cells": [
  {
   "cell_type": "code",
   "execution_count": 1,
   "id": "527e47e4",
   "metadata": {},
   "outputs": [],
   "source": [
    "from datasets import get_dataset\n",
    "\n",
    "from sklearn.manifold import TSNE\n",
    "import plotly.express as px\n",
    "from umap import UMAP\n",
    "import matplotlib.pyplot as plt\n",
    "\n",
    "import pandas as pd\n",
    "from synthcity.plugins.models.time_to_event.loader import get_model_template\n",
    "from synthcity.plugins import Plugins\n",
    "from synthcity.utils.serialization import save_to_file, load_from_file\n",
    "from pathlib import Path\n",
    "\n",
    "out_dir = Path(\"output\")\n",
    "\n",
    "\n",
    "def plot_2d(\n",
    "    dataset: str,\n",
    "    models: list,\n",
    "    individual: bool = False,\n",
    "    ci_show: bool = True,\n",
    "    ci_alpha: float = 0.2,\n",
    "    **kwargs,\n",
    "):\n",
    "    df, duration_col, event_col, time_horizons = get_dataset(dataset)\n",
    "\n",
    "    Xcov = df.drop(columns=[duration_col, event_col])\n",
    "    T = df[duration_col]\n",
    "    E = df[event_col]\n",
    "    scenario = \"synth_gen\"\n",
    "\n",
    "    # tsne = TSNE(n_components=2, random_state=0)\n",
    "    # proj_real = tsne.fit_transform(Xcov)\n",
    "\n",
    "    umap_real = UMAP(n_components=2, init=\"random\", random_state=0)\n",
    "    proj_real = umap_real.fit_transform(Xcov)\n",
    "\n",
    "    fig = px.scatter(proj_real, x=0, y=1)\n",
    "\n",
    "    preds = []\n",
    "    for ref in models:\n",
    "        model_bkp = out_dir / f\"umap_{scenario}_{dataset}_{ref}\"\n",
    "\n",
    "        if model_bkp.exists():\n",
    "            syn_df = load_from_file(model_bkp)\n",
    "        else:\n",
    "            syn_model = Plugins().get(ref, **kwargs)\n",
    "\n",
    "            try:\n",
    "                syn_model.fit(df)\n",
    "\n",
    "                syn_df = syn_model.generate(len(df))\n",
    "            except BaseException as e:\n",
    "                print(\"plugin failed\", e)\n",
    "                continue\n",
    "\n",
    "                save_to_file(model_bkp, syn_df)\n",
    "\n",
    "        umap_syn = UMAP(n_components=2, init=\"random\", random_state=0)\n",
    "        proj_syn = umap_syn.fit_transform(syn_df)\n",
    "\n",
    "        px.scatter(proj_syn, x=0, y=1)\n",
    "        fig.show()"
   ]
  },
  {
   "cell_type": "code",
   "execution_count": 2,
   "id": "8802cec4",
   "metadata": {},
   "outputs": [],
   "source": [
    "baseline_models = [\"adsgan\", \"ctgan\", \"tvae\", \"privbayes\", \"nflow\", \"survival_gan\"]"
   ]
  },
  {
   "cell_type": "code",
   "execution_count": null,
   "id": "dd9ef0f6",
   "metadata": {},
   "outputs": [],
   "source": []
  },
  {
   "cell_type": "markdown",
   "id": "7a8edb94",
   "metadata": {},
   "source": [
    "## AIDS"
   ]
  },
  {
   "cell_type": "code",
   "execution_count": null,
   "id": "c1666896",
   "metadata": {},
   "outputs": [
    {
     "name": "stdout",
     "output_type": "stream",
     "text": [
      "plugin failed \n"
     ]
    }
   ],
   "source": [
    "plot_2d(\n",
    "    \"aids\",\n",
    "    models=baseline_models,\n",
    ")"
   ]
  },
  {
   "cell_type": "code",
   "execution_count": null,
   "id": "b497b5a1",
   "metadata": {},
   "outputs": [],
   "source": []
  },
  {
   "cell_type": "code",
   "execution_count": null,
   "id": "5dc71f92",
   "metadata": {},
   "outputs": [],
   "source": []
  },
  {
   "cell_type": "markdown",
   "id": "071d09df",
   "metadata": {},
   "source": [
    "## CUTRACT"
   ]
  },
  {
   "cell_type": "code",
   "execution_count": null,
   "id": "b417ed95",
   "metadata": {
    "scrolled": false
   },
   "outputs": [],
   "source": [
    "plot_dataset_perf_baselines(\n",
    "    \"cutract\",\n",
    "    models=baseline_models,\n",
    ")"
   ]
  },
  {
   "cell_type": "code",
   "execution_count": null,
   "id": "bae721da",
   "metadata": {},
   "outputs": [],
   "source": []
  },
  {
   "cell_type": "code",
   "execution_count": null,
   "id": "753b72d4",
   "metadata": {},
   "outputs": [],
   "source": []
  },
  {
   "cell_type": "markdown",
   "id": "a8cf5b0c",
   "metadata": {},
   "source": [
    "## MAGGIC"
   ]
  },
  {
   "cell_type": "code",
   "execution_count": null,
   "id": "5a5842f7",
   "metadata": {},
   "outputs": [],
   "source": [
    "plot_dataset_perf_baselines(\n",
    "    \"maggic\",\n",
    "    models=baseline_models,\n",
    ")"
   ]
  },
  {
   "cell_type": "code",
   "execution_count": null,
   "id": "cf7556e1",
   "metadata": {
    "scrolled": false
   },
   "outputs": [],
   "source": []
  },
  {
   "cell_type": "code",
   "execution_count": null,
   "id": "e370a6bb",
   "metadata": {},
   "outputs": [],
   "source": []
  },
  {
   "cell_type": "code",
   "execution_count": null,
   "id": "15981514",
   "metadata": {},
   "outputs": [],
   "source": []
  },
  {
   "cell_type": "markdown",
   "id": "c4eb61a5",
   "metadata": {},
   "source": [
    "## SEER"
   ]
  },
  {
   "cell_type": "code",
   "execution_count": null,
   "id": "245f8ac8",
   "metadata": {},
   "outputs": [],
   "source": [
    "plot_dataset_perf_baselines(\n",
    "    \"seer\",\n",
    "    models=baseline_models,\n",
    ")"
   ]
  },
  {
   "cell_type": "code",
   "execution_count": null,
   "id": "29694b4d",
   "metadata": {},
   "outputs": [],
   "source": []
  },
  {
   "cell_type": "code",
   "execution_count": null,
   "id": "4d4e31a0",
   "metadata": {},
   "outputs": [],
   "source": []
  },
  {
   "cell_type": "code",
   "execution_count": null,
   "id": "85c428ab",
   "metadata": {},
   "outputs": [],
   "source": []
  },
  {
   "cell_type": "code",
   "execution_count": null,
   "id": "a793ce61",
   "metadata": {},
   "outputs": [],
   "source": []
  },
  {
   "cell_type": "code",
   "execution_count": null,
   "id": "26bdbb38",
   "metadata": {},
   "outputs": [],
   "source": []
  },
  {
   "cell_type": "code",
   "execution_count": null,
   "id": "69941c8f",
   "metadata": {},
   "outputs": [],
   "source": []
  },
  {
   "cell_type": "code",
   "execution_count": null,
   "id": "526122c9",
   "metadata": {},
   "outputs": [],
   "source": []
  },
  {
   "cell_type": "code",
   "execution_count": null,
   "id": "50d9a3d5",
   "metadata": {},
   "outputs": [],
   "source": []
  }
 ],
 "metadata": {
  "kernelspec": {
   "display_name": "py38",
   "language": "python",
   "name": "py38"
  },
  "language_info": {
   "codemirror_mode": {
    "name": "ipython",
    "version": 3
   },
   "file_extension": ".py",
   "mimetype": "text/x-python",
   "name": "python",
   "nbconvert_exporter": "python",
   "pygments_lexer": "ipython3",
   "version": "3.8.12"
  }
 },
 "nbformat": 4,
 "nbformat_minor": 5
}
