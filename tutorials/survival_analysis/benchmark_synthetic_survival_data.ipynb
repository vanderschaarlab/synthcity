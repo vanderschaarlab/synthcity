{
 "cells": [
  {
   "cell_type": "code",
   "execution_count": null,
   "id": "733120b1",
   "metadata": {},
   "outputs": [],
   "source": [
    "import numpy as np\n",
    "import os\n",
    "\n",
    "import sys\n",
    "from pycox import datasets\n",
    "from lifelines.datasets import load_rossi\n",
    "from sksurv.datasets import (\n",
    "    load_aids,\n",
    "    load_breast_cancer,\n",
    "    load_flchain,\n",
    "    load_gbsg2,\n",
    "    load_whas500,\n",
    ")\n",
    "from sklearn.preprocessing import LabelEncoder\n",
    "import synthcity.logger as log\n",
    "from medicaldata.CUTRACT import download as cutract_download, load as cutract_load\n",
    "from medicaldata.SEER_prostate_cancer import (\n",
    "    download as seer_download,\n",
    "    load as seer_load,\n",
    ")\n",
    "from pathlib import Path\n",
    "\n",
    "log.add(sink=sys.stderr, level=\"INFO\")\n",
    "\n",
    "\n",
    "def get_dataset(name: str):\n",
    "    if name == \"metabric\":\n",
    "        df = datasets.metabric.read_df()\n",
    "    elif name == \"support\":\n",
    "        df = datasets.support.read_df()\n",
    "    elif name == \"gbsg\":\n",
    "        df = datasets.gbsg.read_df()\n",
    "    elif name == \"rossi\":\n",
    "        df = load_rossi()\n",
    "        df = df.rename(columns={\"week\": \"duration\", \"arrest\": \"event\"})\n",
    "    elif name == \"aids\":\n",
    "        X, Y = load_aids()\n",
    "        Y_unp = np.array(Y, dtype=[(\"event\", \"int\"), (\"duration\", \"float\")])\n",
    "        df = X.copy()\n",
    "        df[\"event\"] = Y_unp[\"event\"]\n",
    "        df[\"duration\"] = Y_unp[\"duration\"]\n",
    "    elif name == \"flchain\":\n",
    "        X, Y = load_flchain()\n",
    "        Y_unp = np.array(Y, dtype=[(\"event\", \"int\"), (\"duration\", \"float\")])\n",
    "        df = X.copy()\n",
    "        df[\"event\"] = Y_unp[\"event\"]\n",
    "        df[\"duration\"] = Y_unp[\"duration\"]\n",
    "    elif name == \"gbsg2\":\n",
    "        X, Y = load_gbsg2()\n",
    "        Y_unp = np.array(Y, dtype=[(\"event\", \"int\"), (\"duration\", \"float\")])\n",
    "        df = X.copy()\n",
    "        df[\"event\"] = Y_unp[\"event\"]\n",
    "        df[\"duration\"] = Y_unp[\"duration\"]\n",
    "    elif name == \"whas500\":\n",
    "        X, Y = load_whas500()\n",
    "        Y_unp = np.array(Y, dtype=[(\"event\", \"int\"), (\"duration\", \"float\")])\n",
    "        df = X.copy()\n",
    "        df[\"event\"] = Y_unp[\"event\"]\n",
    "        df[\"duration\"] = Y_unp[\"duration\"]\n",
    "    elif name == \"cutract\":\n",
    "        file_id = \"1mew1S3-N2GdVu5nGjaqmpLo7sTKRf4Vj\"\n",
    "        csv_path = Path(\"data/cutract.csv\")\n",
    "        if not csv_path.exists():\n",
    "            cutract_download(file_id, csv_path)\n",
    "\n",
    "        X, T, Y = cutract_load(csv_path, preprocess=False)\n",
    "        df = X.copy()\n",
    "        df[\"event\"] = Y\n",
    "        df[\"duration\"] = T\n",
    "\n",
    "    elif name == \"seer\":\n",
    "        file_id = \"1PNXLjy8r1xHZq7SspduAMK6SGUTvuwM6\"\n",
    "\n",
    "        csv_path = Path(\"data/seer.csv\")\n",
    "        if not csv_path.exists():\n",
    "            seer_download(file_id, csv_path)\n",
    "\n",
    "        X, T, Y = seer_load(csv_path, preprocess=False)\n",
    "        df = X.copy()\n",
    "        df[\"event\"] = Y\n",
    "        df[\"duration\"] = T\n",
    "    for col in df.columns:\n",
    "        if df[col].dtype.name in [\"object\", \"category\"]:\n",
    "            df[col] = LabelEncoder().fit_transform(df[col])\n",
    "\n",
    "    duration_col = \"duration\"\n",
    "    event_col = \"event\"\n",
    "\n",
    "    df = df.fillna(0)\n",
    "\n",
    "    T = df[duration_col]\n",
    "\n",
    "    time_horizons = np.linspace(T.min(), T.max(), num=5)[1:-1].tolist()\n",
    "\n",
    "    return df, duration_col, event_col, time_horizons"
   ]
  },
  {
   "cell_type": "code",
   "execution_count": null,
   "id": "5653b25b",
   "metadata": {},
   "outputs": [],
   "source": [
    "from lifelines import KaplanMeierFitter\n",
    "from lifelines.datasets import load_waltons\n",
    "\n",
    "waltons = load_waltons()\n",
    "\n",
    "kmf = KaplanMeierFitter(label=\"waltons_data\")\n",
    "kmf.fit(waltons[\"T\"], waltons[\"E\"])\n",
    "kmf.plot(ci_alpha=0.1)"
   ]
  },
  {
   "cell_type": "code",
   "execution_count": null,
   "id": "d93d9738",
   "metadata": {},
   "outputs": [],
   "source": [
    "df, duration_col, event_col, time_horizons = get_dataset(\"cutract\")\n",
    "\n",
    "df"
   ]
  },
  {
   "cell_type": "code",
   "execution_count": null,
   "id": "1f7740a4",
   "metadata": {},
   "outputs": [],
   "source": [
    "from synthcity.plugins import Plugins\n",
    "from synthcity.benchmark import Benchmarks\n",
    "\n",
    "plugins = Plugins().list(skip_debug=True)\n",
    "\n",
    "plugins"
   ]
  },
  {
   "cell_type": "code",
   "execution_count": null,
   "id": "6549c43a",
   "metadata": {},
   "outputs": [],
   "source": [
    "base_plugins = [\n",
    "    \"privbayes\",\n",
    "    \"adsgan\",\n",
    "    \"bayesian_network\",\n",
    "    \"ctgan\",\n",
    "    \"tvae\",\n",
    "    \"nflow\",\n",
    "]\n",
    "survival_plugins = [\n",
    "    \"survival_gan\",\n",
    "    \"survival_ctgan\",\n",
    "    \"survival_tvae\",\n",
    "    \"survival_bayesian_network\",\n",
    "    \"survival_nflow\",\n",
    "]\n",
    "\n",
    "repeats = 3"
   ]
  },
  {
   "cell_type": "code",
   "execution_count": null,
   "id": "28b87d4b",
   "metadata": {},
   "outputs": [],
   "source": []
  },
  {
   "cell_type": "markdown",
   "id": "d3d23f67",
   "metadata": {},
   "source": [
    "## AIDS dataset"
   ]
  },
  {
   "cell_type": "code",
   "execution_count": null,
   "id": "a4dbe168",
   "metadata": {},
   "outputs": [],
   "source": [
    "import pandas as pd\n",
    "\n",
    "df, duration_col, event_col, time_horizons = get_dataset(\"aids\")\n",
    "\n",
    "df"
   ]
  },
  {
   "cell_type": "code",
   "execution_count": null,
   "id": "e2b2aec2",
   "metadata": {
    "scrolled": false
   },
   "outputs": [],
   "source": [
    "# base_plugins\n",
    "base_score = Benchmarks.evaluate(\n",
    "    base_plugins,\n",
    "    df,\n",
    "    task_type=\"survival_analysis\",\n",
    "    target_column=event_col,\n",
    "    time_to_event_column=duration_col,\n",
    "    time_horizons=time_horizons,\n",
    "    synthetic_size=len(df),\n",
    "    repeats=repeats,\n",
    ")"
   ]
  },
  {
   "cell_type": "code",
   "execution_count": null,
   "id": "6a5363d4",
   "metadata": {
    "scrolled": false
   },
   "outputs": [],
   "source": [
    "Benchmarks.print(base_score)"
   ]
  },
  {
   "cell_type": "code",
   "execution_count": null,
   "id": "0bf84751",
   "metadata": {},
   "outputs": [],
   "source": [
    "# survival plugins\n",
    "survival_score = Benchmarks.evaluate(\n",
    "    survival_plugins,\n",
    "    df,\n",
    "    task_type=\"survival_analysis\",\n",
    "    target_column=event_col,\n",
    "    time_to_event_column=duration_col,\n",
    "    time_horizons=time_horizons,\n",
    "    synthetic_size=len(df),\n",
    "    repeats=repeats,\n",
    ")"
   ]
  },
  {
   "cell_type": "code",
   "execution_count": null,
   "id": "14f8e6c0",
   "metadata": {},
   "outputs": [],
   "source": [
    "Benchmarks.print(survival_score)"
   ]
  },
  {
   "cell_type": "markdown",
   "id": "eaa55f97",
   "metadata": {},
   "source": [
    "## FLChain dataset"
   ]
  },
  {
   "cell_type": "code",
   "execution_count": null,
   "id": "16a46e3b",
   "metadata": {
    "scrolled": false
   },
   "outputs": [],
   "source": [
    "import pandas as pd\n",
    "\n",
    "df, duration_col, event_col, time_horizons = get_dataset(\"flchain\")\n",
    "\n",
    "df"
   ]
  },
  {
   "cell_type": "code",
   "execution_count": null,
   "id": "0b35b08b",
   "metadata": {},
   "outputs": [],
   "source": [
    "base_score = Benchmarks.evaluate(\n",
    "    base_plugins,\n",
    "    df,\n",
    "    task_type=\"survival_analysis\",\n",
    "    target_column=event_col,\n",
    "    time_to_event_column=duration_col,\n",
    "    time_horizons=time_horizons,\n",
    "    synthetic_size=len(df),\n",
    "    repeats=repeats,\n",
    ")"
   ]
  },
  {
   "cell_type": "code",
   "execution_count": null,
   "id": "a3c0798c",
   "metadata": {},
   "outputs": [],
   "source": [
    "Benchmarks.print(base_score)"
   ]
  },
  {
   "cell_type": "code",
   "execution_count": null,
   "id": "62bb4fbb",
   "metadata": {},
   "outputs": [],
   "source": [
    "# survival plugins\n",
    "survival_score = Benchmarks.evaluate(\n",
    "    survival_plugins,\n",
    "    df,\n",
    "    task_type=\"survival_analysis\",\n",
    "    target_column=event_col,\n",
    "    time_to_event_column=duration_col,\n",
    "    time_horizons=time_horizons,\n",
    "    synthetic_size=len(df),\n",
    "    repeats=repeats,\n",
    ")"
   ]
  },
  {
   "cell_type": "code",
   "execution_count": null,
   "id": "3eb85ac6",
   "metadata": {},
   "outputs": [],
   "source": [
    "Benchmarks.print(survival_score)"
   ]
  },
  {
   "cell_type": "markdown",
   "id": "b388f565",
   "metadata": {},
   "source": [
    "## gbsg2 dataset"
   ]
  },
  {
   "cell_type": "code",
   "execution_count": null,
   "id": "3ddd9b12",
   "metadata": {},
   "outputs": [],
   "source": [
    "import pandas as pd\n",
    "\n",
    "df, duration_col, event_col, time_horizons = get_dataset(\"gbsg2\")\n",
    "\n",
    "df"
   ]
  },
  {
   "cell_type": "code",
   "execution_count": null,
   "id": "86290d20",
   "metadata": {},
   "outputs": [],
   "source": [
    "base_score = Benchmarks.evaluate(\n",
    "    base_plugins,\n",
    "    df,\n",
    "    task_type=\"survival_analysis\",\n",
    "    target_column=event_col,\n",
    "    time_to_event_column=duration_col,\n",
    "    time_horizons=time_horizons,\n",
    "    synthetic_size=len(df),\n",
    "    repeats=repeats,\n",
    ")"
   ]
  },
  {
   "cell_type": "code",
   "execution_count": null,
   "id": "5a68759e",
   "metadata": {},
   "outputs": [],
   "source": [
    "Benchmarks.print(base_score)"
   ]
  },
  {
   "cell_type": "code",
   "execution_count": null,
   "id": "69bce77c",
   "metadata": {},
   "outputs": [],
   "source": [
    "# survival plugins\n",
    "survival_score = Benchmarks.evaluate(\n",
    "    survival_plugins,\n",
    "    df,\n",
    "    task_type=\"survival_analysis\",\n",
    "    target_column=event_col,\n",
    "    time_to_event_column=duration_col,\n",
    "    time_horizons=time_horizons,\n",
    "    synthetic_size=len(df),\n",
    "    repeats=repeats,\n",
    ")"
   ]
  },
  {
   "cell_type": "code",
   "execution_count": null,
   "id": "ba66b54a",
   "metadata": {},
   "outputs": [],
   "source": [
    "Benchmarks.print(survival_score)"
   ]
  },
  {
   "cell_type": "markdown",
   "id": "930277a1",
   "metadata": {},
   "source": [
    "## Metabric"
   ]
  },
  {
   "cell_type": "code",
   "execution_count": null,
   "id": "70add6ac",
   "metadata": {},
   "outputs": [],
   "source": [
    "import pandas as pd\n",
    "\n",
    "df, duration_col, event_col, time_horizons = get_dataset(\"gbsg2\")\n",
    "\n",
    "df"
   ]
  },
  {
   "cell_type": "code",
   "execution_count": null,
   "id": "b2d3ad43",
   "metadata": {},
   "outputs": [],
   "source": [
    "base_score = Benchmarks.evaluate(\n",
    "    base_plugins,\n",
    "    df,\n",
    "    task_type=\"survival_analysis\",\n",
    "    target_column=event_col,\n",
    "    time_to_event_column=duration_col,\n",
    "    time_horizons=time_horizons,\n",
    "    synthetic_size=len(df),\n",
    "    repeats=repeats,\n",
    ")"
   ]
  },
  {
   "cell_type": "code",
   "execution_count": null,
   "id": "4a5cb5a3",
   "metadata": {},
   "outputs": [],
   "source": [
    "Benchmarks.print(base_score)"
   ]
  },
  {
   "cell_type": "code",
   "execution_count": null,
   "id": "859f2119",
   "metadata": {},
   "outputs": [],
   "source": [
    "# survival plugins\n",
    "survival_score = Benchmarks.evaluate(\n",
    "    survival_plugins,\n",
    "    df,\n",
    "    task_type=\"survival_analysis\",\n",
    "    target_column=event_col,\n",
    "    time_to_event_column=duration_col,\n",
    "    time_horizons=time_horizons,\n",
    "    synthetic_size=len(df),\n",
    "    repeats=repeats,\n",
    ")"
   ]
  },
  {
   "cell_type": "code",
   "execution_count": null,
   "id": "2300946c",
   "metadata": {},
   "outputs": [],
   "source": [
    "Benchmarks.print(survival_score)"
   ]
  },
  {
   "cell_type": "markdown",
   "id": "05ea858b",
   "metadata": {},
   "source": [
    "## gbsg"
   ]
  },
  {
   "cell_type": "code",
   "execution_count": null,
   "id": "785dc368",
   "metadata": {},
   "outputs": [],
   "source": [
    "import pandas as pd\n",
    "\n",
    "df, duration_col, event_col, time_horizons = get_dataset(\"gbsg\")\n",
    "\n",
    "df"
   ]
  },
  {
   "cell_type": "code",
   "execution_count": null,
   "id": "5c655774",
   "metadata": {},
   "outputs": [],
   "source": [
    "base_score = Benchmarks.evaluate(\n",
    "    base_plugins,\n",
    "    df,\n",
    "    task_type=\"survival_analysis\",\n",
    "    target_column=event_col,\n",
    "    time_to_event_column=duration_col,\n",
    "    time_horizons=time_horizons,\n",
    "    synthetic_size=len(df),\n",
    "    repeats=repeats,\n",
    ")"
   ]
  },
  {
   "cell_type": "code",
   "execution_count": null,
   "id": "39daa7fc",
   "metadata": {},
   "outputs": [],
   "source": [
    "Benchmarks.print(base_score)"
   ]
  },
  {
   "cell_type": "code",
   "execution_count": null,
   "id": "21a5c0e0",
   "metadata": {},
   "outputs": [],
   "source": [
    "# survival plugins\n",
    "survival_score = Benchmarks.evaluate(\n",
    "    survival_plugins,\n",
    "    df,\n",
    "    task_type=\"survival_analysis\",\n",
    "    target_column=event_col,\n",
    "    time_to_event_column=duration_col,\n",
    "    time_horizons=time_horizons,\n",
    "    synthetic_size=len(df),\n",
    "    repeats=repeats,\n",
    ")"
   ]
  },
  {
   "cell_type": "code",
   "execution_count": null,
   "id": "b52f4b7e",
   "metadata": {},
   "outputs": [],
   "source": [
    "Benchmarks.print(survival_score)"
   ]
  },
  {
   "cell_type": "markdown",
   "id": "aa7a4c6d",
   "metadata": {},
   "source": [
    "## Support"
   ]
  },
  {
   "cell_type": "code",
   "execution_count": null,
   "id": "b29b3af6",
   "metadata": {},
   "outputs": [],
   "source": [
    "import pandas as pd\n",
    "\n",
    "df, duration_col, event_col, time_horizons = get_dataset(\"support\")\n",
    "\n",
    "df"
   ]
  },
  {
   "cell_type": "code",
   "execution_count": null,
   "id": "ec13eaed",
   "metadata": {},
   "outputs": [],
   "source": [
    "base_score = Benchmarks.evaluate(\n",
    "    base_plugins,\n",
    "    df,\n",
    "    task_type=\"survival_analysis\",\n",
    "    target_column=event_col,\n",
    "    time_to_event_column=duration_col,\n",
    "    time_horizons=time_horizons,\n",
    "    synthetic_size=len(df),\n",
    "    repeats=repeats,\n",
    ")"
   ]
  },
  {
   "cell_type": "code",
   "execution_count": null,
   "id": "7ae0e49c",
   "metadata": {},
   "outputs": [],
   "source": [
    "Benchmarks.print(base_score)"
   ]
  },
  {
   "cell_type": "code",
   "execution_count": null,
   "id": "f0ba44e6",
   "metadata": {},
   "outputs": [],
   "source": [
    "# survival plugins\n",
    "survival_score = Benchmarks.evaluate(\n",
    "    survival_plugins,\n",
    "    df,\n",
    "    task_type=\"survival_analysis\",\n",
    "    target_column=event_col,\n",
    "    time_to_event_column=duration_col,\n",
    "    time_horizons=time_horizons,\n",
    "    synthetic_size=len(df),\n",
    "    repeats=repeats,\n",
    ")"
   ]
  },
  {
   "cell_type": "code",
   "execution_count": null,
   "id": "a4e81c30",
   "metadata": {},
   "outputs": [],
   "source": [
    "Benchmarks.print(survival_score)"
   ]
  },
  {
   "cell_type": "markdown",
   "id": "b39d62ce",
   "metadata": {},
   "source": [
    "## CUTRACT"
   ]
  },
  {
   "cell_type": "code",
   "execution_count": null,
   "id": "64a7f44c",
   "metadata": {},
   "outputs": [],
   "source": [
    "import pandas as pd\n",
    "\n",
    "df, duration_col, event_col, time_horizons = get_dataset(\"cutract\")\n",
    "\n",
    "df"
   ]
  },
  {
   "cell_type": "code",
   "execution_count": null,
   "id": "3c7dff7e",
   "metadata": {},
   "outputs": [],
   "source": [
    "base_score = Benchmarks.evaluate(\n",
    "    base_plugins,\n",
    "    df,\n",
    "    task_type=\"survival_analysis\",\n",
    "    target_column=event_col,\n",
    "    time_to_event_column=duration_col,\n",
    "    time_horizons=time_horizons,\n",
    "    synthetic_size=len(df),\n",
    "    repeats=repeats,\n",
    ")"
   ]
  },
  {
   "cell_type": "code",
   "execution_count": null,
   "id": "3248f5af",
   "metadata": {},
   "outputs": [],
   "source": [
    "Benchmarks.print(base_score)"
   ]
  },
  {
   "cell_type": "code",
   "execution_count": null,
   "id": "8759ef8b",
   "metadata": {},
   "outputs": [],
   "source": [
    "# survival plugins\n",
    "survival_score = Benchmarks.evaluate(\n",
    "    survival_plugins,\n",
    "    df,\n",
    "    task_type=\"survival_analysis\",\n",
    "    target_column=event_col,\n",
    "    time_to_event_column=duration_col,\n",
    "    time_horizons=time_horizons,\n",
    "    synthetic_size=len(df),\n",
    "    repeats=repeats,\n",
    ")"
   ]
  },
  {
   "cell_type": "code",
   "execution_count": null,
   "id": "8ad07aae",
   "metadata": {},
   "outputs": [],
   "source": [
    "Benchmarks.print(survival_score)"
   ]
  },
  {
   "cell_type": "markdown",
   "id": "8beb9ffb",
   "metadata": {},
   "source": [
    "## SEER prostate "
   ]
  },
  {
   "cell_type": "code",
   "execution_count": null,
   "id": "08b5efc9",
   "metadata": {},
   "outputs": [],
   "source": [
    "import pandas as pd\n",
    "\n",
    "df, duration_col, event_col, time_horizons = get_dataset(\"seer\")\n",
    "\n",
    "df"
   ]
  },
  {
   "cell_type": "code",
   "execution_count": null,
   "id": "3498b893",
   "metadata": {},
   "outputs": [],
   "source": [
    "base_score = Benchmarks.evaluate(\n",
    "    base_plugins,\n",
    "    df,\n",
    "    task_type=\"survival_analysis\",\n",
    "    target_column=event_col,\n",
    "    time_to_event_column=duration_col,\n",
    "    time_horizons=time_horizons,\n",
    "    synthetic_size=len(df),\n",
    "    repeats=repeats,\n",
    ")"
   ]
  },
  {
   "cell_type": "code",
   "execution_count": null,
   "id": "081d3237",
   "metadata": {},
   "outputs": [],
   "source": [
    "Benchmarks.print(base_score)"
   ]
  },
  {
   "cell_type": "code",
   "execution_count": null,
   "id": "e7838210",
   "metadata": {},
   "outputs": [],
   "source": [
    "# survival plugins\n",
    "survival_score = Benchmarks.evaluate(\n",
    "    survival_plugins,\n",
    "    df,\n",
    "    task_type=\"survival_analysis\",\n",
    "    target_column=event_col,\n",
    "    time_to_event_column=duration_col,\n",
    "    time_horizons=time_horizons,\n",
    "    synthetic_size=len(df),\n",
    "    repeats=repeats,\n",
    ")"
   ]
  },
  {
   "cell_type": "code",
   "execution_count": null,
   "id": "67a48d86",
   "metadata": {},
   "outputs": [],
   "source": [
    "Benchmarks.print(survival_score)"
   ]
  },
  {
   "cell_type": "code",
   "execution_count": null,
   "id": "fd5db905",
   "metadata": {},
   "outputs": [],
   "source": []
  }
 ],
 "metadata": {
  "kernelspec": {
   "display_name": "py38",
   "language": "python",
   "name": "py38"
  },
  "language_info": {
   "codemirror_mode": {
    "name": "ipython",
    "version": 3
   },
   "file_extension": ".py",
   "mimetype": "text/x-python",
   "name": "python",
   "nbconvert_exporter": "python",
   "pygments_lexer": "ipython3",
   "version": "3.8.12"
  }
 },
 "nbformat": 4,
 "nbformat_minor": 5
}
