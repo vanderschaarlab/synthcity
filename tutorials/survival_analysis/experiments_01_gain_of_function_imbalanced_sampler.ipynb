{
 "cells": [
  {
   "cell_type": "code",
   "execution_count": 1,
   "id": "733120b1",
   "metadata": {},
   "outputs": [],
   "source": [
    "from datasets import get_dataset\n",
    "from plots import plot_survival_individual, plot_survival_grouped\n",
    "\n",
    "import matplotlib.pyplot as plt\n",
    "import pandas as pd\n",
    "from synthcity.plugins.models.time_to_event.loader import get_model_template\n",
    "from synthcity.plugins import Plugins\n",
    "from synthcity.utils.serialization import save_to_file, load_from_file\n",
    "from pathlib import Path"
   ]
  },
  {
   "cell_type": "code",
   "execution_count": 2,
   "id": "527e47e4",
   "metadata": {},
   "outputs": [],
   "source": [
    "out_dir = Path(\"output\")\n",
    "\n",
    "\n",
    "def plot_dataset_perf_baselines(\n",
    "    dataset: str,\n",
    "    ci_show: bool = True,\n",
    "    ci_alpha: float = 0.2,\n",
    "    **kwargs,\n",
    "):\n",
    "    df, duration_col, event_col, time_horizons = get_dataset(dataset)\n",
    "\n",
    "    scenario = \"imbalanced_sampler\"\n",
    "\n",
    "    Xcov = df.drop(columns=[duration_col, event_col])\n",
    "    T = df[duration_col]\n",
    "    E = df[event_col]\n",
    "\n",
    "    preds = []\n",
    "    for dataloader_sampling_strategy in [\n",
    "        \"none\",\n",
    "        \"imbalanced_censoring\",\n",
    "        \"imbalanced_time_censoring\",\n",
    "        \"imbalanced_cov_censoring\",\n",
    "        \"imbalanced_full\",\n",
    "    ]:\n",
    "        model_bkp = (\n",
    "            out_dir / f\"experiment_{scenario}_{dataset}_{dataloader_sampling_strategy}\"\n",
    "        )\n",
    "\n",
    "        print(\"eval \", model_bkp)\n",
    "        label = f\"sampling strategy: {dataloader_sampling_strategy}\"\n",
    "\n",
    "        if model_bkp.exists():\n",
    "            syn_df = load_from_file(model_bkp)\n",
    "        else:\n",
    "            syn_model = Plugins().get(\n",
    "                \"survival_gan\",\n",
    "                dataloader_sampling_strategy=dataloader_sampling_strategy,\n",
    "            )\n",
    "\n",
    "            try:\n",
    "                syn_model.fit(df)\n",
    "\n",
    "                syn_df = syn_model.generate(len(df))\n",
    "            except BaseException as e:\n",
    "                print(\"plugin failed\", e)\n",
    "                continue\n",
    "\n",
    "            save_to_file(model_bkp, syn_df)\n",
    "\n",
    "        syn_T = syn_df[duration_col]\n",
    "        syn_E = syn_df[event_col]\n",
    "\n",
    "        local_data = (label, syn_T, syn_E)\n",
    "\n",
    "        plot_survival_individual(\n",
    "            scenario,\n",
    "            dataset,\n",
    "            label,\n",
    "            T,\n",
    "            E,\n",
    "            [local_data],\n",
    "            ci_show=ci_show,\n",
    "            ci_alpha=ci_alpha,\n",
    "        )\n",
    "        preds.append(local_data)\n",
    "\n",
    "    plot_survival_grouped(\n",
    "        scenario, dataset, T, E, preds, ci_show=ci_show, ci_alpha=ci_alpha\n",
    "    )"
   ]
  },
  {
   "cell_type": "code",
   "execution_count": null,
   "id": "8802cec4",
   "metadata": {},
   "outputs": [],
   "source": []
  },
  {
   "cell_type": "code",
   "execution_count": null,
   "id": "33e98217",
   "metadata": {},
   "outputs": [],
   "source": []
  },
  {
   "cell_type": "markdown",
   "id": "7a8edb94",
   "metadata": {},
   "source": [
    "## AIDS"
   ]
  },
  {
   "cell_type": "code",
   "execution_count": null,
   "id": "c1666896",
   "metadata": {},
   "outputs": [
    {
     "name": "stdout",
     "output_type": "stream",
     "text": [
      "eval  output/experiment_imbalanced_sampler_aids_none\n"
     ]
    }
   ],
   "source": [
    "plot_dataset_perf_baselines(\n",
    "    \"aids\",\n",
    ")"
   ]
  },
  {
   "cell_type": "code",
   "execution_count": null,
   "id": "b497b5a1",
   "metadata": {},
   "outputs": [],
   "source": []
  },
  {
   "cell_type": "code",
   "execution_count": null,
   "id": "5dc71f92",
   "metadata": {},
   "outputs": [],
   "source": []
  },
  {
   "cell_type": "markdown",
   "id": "071d09df",
   "metadata": {},
   "source": [
    "## CUTRACT"
   ]
  },
  {
   "cell_type": "code",
   "execution_count": null,
   "id": "b417ed95",
   "metadata": {
    "scrolled": false
   },
   "outputs": [],
   "source": [
    "plot_dataset_perf_baselines(\n",
    "    \"cutract\",\n",
    ")"
   ]
  },
  {
   "cell_type": "code",
   "execution_count": null,
   "id": "bae721da",
   "metadata": {},
   "outputs": [],
   "source": []
  },
  {
   "cell_type": "code",
   "execution_count": null,
   "id": "753b72d4",
   "metadata": {},
   "outputs": [],
   "source": []
  },
  {
   "cell_type": "markdown",
   "id": "a8cf5b0c",
   "metadata": {},
   "source": [
    "## MAGGIC"
   ]
  },
  {
   "cell_type": "code",
   "execution_count": null,
   "id": "5a5842f7",
   "metadata": {},
   "outputs": [],
   "source": [
    "plot_dataset_perf_baselines(\n",
    "    \"maggic\",\n",
    ")"
   ]
  },
  {
   "cell_type": "code",
   "execution_count": null,
   "id": "cf7556e1",
   "metadata": {
    "scrolled": false
   },
   "outputs": [],
   "source": []
  },
  {
   "cell_type": "markdown",
   "id": "88cecd64",
   "metadata": {},
   "source": [
    "## METABRIC"
   ]
  },
  {
   "cell_type": "code",
   "execution_count": null,
   "id": "15981514",
   "metadata": {},
   "outputs": [],
   "source": [
    "plot_dataset_perf_baselines(\n",
    "    \"metabric\",\n",
    ")"
   ]
  },
  {
   "cell_type": "markdown",
   "id": "c4eb61a5",
   "metadata": {},
   "source": [
    "## SEER"
   ]
  },
  {
   "cell_type": "code",
   "execution_count": null,
   "id": "245f8ac8",
   "metadata": {},
   "outputs": [],
   "source": [
    "plot_dataset_perf_baselines(\n",
    "    \"survival_function\",\n",
    "    \"seer\",\n",
    "    models=baseline_models,\n",
    ")"
   ]
  },
  {
   "cell_type": "code",
   "execution_count": null,
   "id": "29694b4d",
   "metadata": {},
   "outputs": [],
   "source": []
  },
  {
   "cell_type": "code",
   "execution_count": null,
   "id": "4d4e31a0",
   "metadata": {},
   "outputs": [],
   "source": []
  },
  {
   "cell_type": "code",
   "execution_count": null,
   "id": "50d9a3d5",
   "metadata": {},
   "outputs": [],
   "source": []
  }
 ],
 "metadata": {
  "kernelspec": {
   "display_name": "py38",
   "language": "python",
   "name": "py38"
  },
  "language_info": {
   "codemirror_mode": {
    "name": "ipython",
    "version": 3
   },
   "file_extension": ".py",
   "mimetype": "text/x-python",
   "name": "python",
   "nbconvert_exporter": "python",
   "pygments_lexer": "ipython3",
   "version": "3.8.12"
  }
 },
 "nbformat": 4,
 "nbformat_minor": 5
}
