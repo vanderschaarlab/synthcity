{
 "cells": [
  {
   "cell_type": "code",
   "execution_count": 1,
   "id": "1f7740a4",
   "metadata": {},
   "outputs": [],
   "source": [
    "!export LD_LIBRARY_PATH=/usr/local/lib64:$LD_LIBRARY_PATH \n",
    "\n",
    "import sys\n",
    "\n",
    "from datasets import get_dataset\n",
    "from synthcity.plugins import Plugins\n",
    "from synthcity.benchmark import Benchmarks\n",
    "from pathlib import Path\n",
    "from synthcity.utils.serialization import save_to_file, load_from_file\n",
    "import synthcity.logger as log\n",
    "\n",
    "log.add(sink=sys.stderr, level=\"INFO\")\n",
    "\n",
    "plugins = Plugins().list()\n",
    "\n",
    "out_dir = Path(\"output\")\n",
    "\n",
    "metric = \"detection_mlp\"\n",
    "cat = \"detection\"\n",
    "\n",
    "def evaluate_dataset(name: str, dataset: str, plugins: list):\n",
    "    df, duration_col, event_col, time_horizons = get_dataset(dataset)\n",
    "\n",
    "    for plugin in plugins:\n",
    "        bkp = out_dir / f\"{cat}.{metric}.{dataset}_{name}_{plugin}.bkp\"\n",
    "\n",
    "        if bkp.exists():\n",
    "            score = load_from_file(bkp)\n",
    "        else:\n",
    "            score = Benchmarks.evaluate(\n",
    "                [plugin],\n",
    "                df,\n",
    "                task_type=\"survival_analysis\",\n",
    "                target_column=event_col,\n",
    "                time_to_event_column=duration_col,\n",
    "                time_horizons=time_horizons,\n",
    "                synthetic_size=len(df),\n",
    "                repeats=repeats,\n",
    "                metrics = {\n",
    "                    cat: [metric],\n",
    "                },\n",
    "            )\n",
    "            save_to_file(bkp, score)\n",
    "\n",
    "    return score"
   ]
  },
  {
   "cell_type": "code",
   "execution_count": 2,
   "id": "6549c43a",
   "metadata": {},
   "outputs": [],
   "source": [
    "base_plugins = [\n",
    "    \"privbayes\",\n",
    "    \"adsgan\",\n",
    "    \"ctgan\",\n",
    "    \"tvae\",\n",
    "    \"nflow\",\n",
    "]\n",
    "survival_plugins = [\n",
    "    \"survival_gan\",\n",
    "]\n",
    "\n",
    "repeats = 3 #5"
   ]
  },
  {
   "cell_type": "code",
   "execution_count": null,
   "id": "28b87d4b",
   "metadata": {},
   "outputs": [],
   "source": []
  },
  {
   "cell_type": "markdown",
   "id": "d3d23f67",
   "metadata": {},
   "source": [
    "## AIDS dataset"
   ]
  },
  {
   "cell_type": "code",
   "execution_count": 3,
   "id": "a4dbe168",
   "metadata": {
    "scrolled": false
   },
   "outputs": [
    {
     "name": "stderr",
     "output_type": "stream",
     "text": [
      "[2022-05-24T09:38:07.094935+0300][124247][INFO] Benchmarking plugin : privbayes\n",
      "[2022-05-24T09:38:07.098614+0300][124247][INFO]  Experiment repeat: 0 task type: survival_analysis Train df hash = 7600251698133035800\n",
      "[2022-05-24T09:38:35.156840+0300][124247][INFO]  Experiment repeat: 1 task type: survival_analysis Train df hash = 4871573768128818830\n",
      "[2022-05-24T09:39:01.663281+0300][124247][INFO]  Experiment repeat: 2 task type: survival_analysis Train df hash = 5947425095989233042\n",
      "[2022-05-24T09:39:28.061866+0300][124247][INFO] Benchmarking plugin : adsgan\n",
      "[2022-05-24T09:39:28.064808+0300][124247][INFO]  Experiment repeat: 0 task type: survival_analysis Train df hash = 7600251698133035800\n",
      "[2022-05-24T09:39:54.915448+0300][124247][INFO]  Experiment repeat: 1 task type: survival_analysis Train df hash = 4871573768128818830\n",
      "[2022-05-24T09:40:21.283266+0300][124247][INFO]  Experiment repeat: 2 task type: survival_analysis Train df hash = 5947425095989233042\n",
      "[2022-05-24T09:40:47.924992+0300][124247][INFO] Benchmarking plugin : ctgan\n",
      "[2022-05-24T09:40:47.927811+0300][124247][INFO]  Experiment repeat: 0 task type: survival_analysis Train df hash = 7600251698133035800\n",
      "[2022-05-24T09:41:14.834585+0300][124247][INFO]  Experiment repeat: 1 task type: survival_analysis Train df hash = 4871573768128818830\n",
      "[2022-05-24T09:41:41.556502+0300][124247][INFO]  Experiment repeat: 2 task type: survival_analysis Train df hash = 5947425095989233042\n",
      "[2022-05-24T09:42:08.127591+0300][124247][INFO] Benchmarking plugin : tvae\n",
      "[2022-05-24T09:42:08.130779+0300][124247][INFO]  Experiment repeat: 0 task type: survival_analysis Train df hash = 7600251698133035800\n",
      "[2022-05-24T09:42:35.006547+0300][124247][INFO]  Experiment repeat: 1 task type: survival_analysis Train df hash = 4871573768128818830\n",
      "[2022-05-24T09:43:01.613824+0300][124247][INFO]  Experiment repeat: 2 task type: survival_analysis Train df hash = 5947425095989233042\n",
      "[2022-05-24T09:43:28.292539+0300][124247][INFO] Benchmarking plugin : nflow\n",
      "[2022-05-24T09:43:28.296205+0300][124247][INFO]  Experiment repeat: 0 task type: survival_analysis Train df hash = 7600251698133035800\n",
      "[2022-05-24T09:43:55.426043+0300][124247][INFO]  Experiment repeat: 1 task type: survival_analysis Train df hash = 4871573768128818830\n",
      "[2022-05-24T09:44:22.088891+0300][124247][INFO]  Experiment repeat: 2 task type: survival_analysis Train df hash = 5947425095989233042\n"
     ]
    },
    {
     "name": "stdout",
     "output_type": "stream",
     "text": [
      "\n",
      "\u001b[4m\u001b[1mPlugin : nflow\u001b[0m\u001b[0m\n"
     ]
    },
    {
     "data": {
      "text/html": [
       "<div>\n",
       "<style scoped>\n",
       "    .dataframe tbody tr th:only-of-type {\n",
       "        vertical-align: middle;\n",
       "    }\n",
       "\n",
       "    .dataframe tbody tr th {\n",
       "        vertical-align: top;\n",
       "    }\n",
       "\n",
       "    .dataframe thead th {\n",
       "        text-align: right;\n",
       "    }\n",
       "</style>\n",
       "<table border=\"1\" class=\"dataframe\">\n",
       "  <thead>\n",
       "    <tr style=\"text-align: right;\">\n",
       "      <th></th>\n",
       "      <th>min</th>\n",
       "      <th>max</th>\n",
       "      <th>mean</th>\n",
       "      <th>stddev</th>\n",
       "      <th>median</th>\n",
       "      <th>iqr</th>\n",
       "      <th>rounds</th>\n",
       "      <th>errors</th>\n",
       "      <th>durations</th>\n",
       "    </tr>\n",
       "  </thead>\n",
       "  <tbody>\n",
       "    <tr>\n",
       "      <th>detection.detection_mlp.mean</th>\n",
       "      <td>0.895673</td>\n",
       "      <td>0.935881</td>\n",
       "      <td>0.914321</td>\n",
       "      <td>0.016543</td>\n",
       "      <td>0.91141</td>\n",
       "      <td>0.020104</td>\n",
       "      <td>3</td>\n",
       "      <td>0</td>\n",
       "      <td>26.82</td>\n",
       "    </tr>\n",
       "  </tbody>\n",
       "</table>\n",
       "</div>"
      ],
      "text/plain": [
       "                                   min       max      mean    stddev   median  \\\n",
       "detection.detection_mlp.mean  0.895673  0.935881  0.914321  0.016543  0.91141   \n",
       "\n",
       "                                   iqr rounds errors durations  \n",
       "detection.detection_mlp.mean  0.020104      3      0     26.82  "
      ]
     },
     "metadata": {},
     "output_type": "display_data"
    },
    {
     "name": "stdout",
     "output_type": "stream",
     "text": [
      "\n"
     ]
    }
   ],
   "source": [
    "base_score = evaluate_dataset(\"baseline\", \"aids\", base_plugins)\n",
    "Benchmarks.print(base_score)"
   ]
  },
  {
   "cell_type": "code",
   "execution_count": null,
   "id": "6a5363d4",
   "metadata": {
    "scrolled": false
   },
   "outputs": [],
   "source": []
  },
  {
   "cell_type": "code",
   "execution_count": null,
   "id": "f3ec68bb",
   "metadata": {
    "scrolled": false
   },
   "outputs": [
    {
     "name": "stderr",
     "output_type": "stream",
     "text": [
      "[2022-05-24T09:44:48.859220+0300][124247][INFO] Benchmarking plugin : survival_gan\n",
      "[2022-05-24T09:44:48.862369+0300][124247][INFO]  Experiment repeat: 0 task type: survival_analysis Train df hash = 7600251698133035800\n",
      "[2022-05-24T09:45:15.894345+0300][124247][INFO]  Experiment repeat: 1 task type: survival_analysis Train df hash = 4871573768128818830\n"
     ]
    }
   ],
   "source": [
    "survival_score = evaluate_dataset(\"survival\", \"aids\", survival_plugins)\n",
    "Benchmarks.print(survival_score)"
   ]
  },
  {
   "cell_type": "code",
   "execution_count": null,
   "id": "45f4812f",
   "metadata": {},
   "outputs": [],
   "source": []
  },
  {
   "cell_type": "markdown",
   "id": "930cdf0f",
   "metadata": {},
   "source": [
    "## CUTRACT"
   ]
  },
  {
   "cell_type": "code",
   "execution_count": null,
   "id": "10b1bc4d",
   "metadata": {},
   "outputs": [],
   "source": [
    "    \n",
    "base_score = evaluate_dataset(\"baseline\", \"cutract\", base_plugins)\n",
    "Benchmarks.print(base_score)"
   ]
  },
  {
   "cell_type": "code",
   "execution_count": null,
   "id": "bebebc68",
   "metadata": {},
   "outputs": [],
   "source": []
  },
  {
   "cell_type": "code",
   "execution_count": null,
   "id": "d835dcef",
   "metadata": {
    "scrolled": false
   },
   "outputs": [],
   "source": [
    "survival_score = evaluate_dataset(\"survival\", \"cutract\", survival_plugins)\n",
    "Benchmarks.print(survival_score)"
   ]
  },
  {
   "cell_type": "code",
   "execution_count": null,
   "id": "d75209a7",
   "metadata": {},
   "outputs": [],
   "source": []
  },
  {
   "cell_type": "markdown",
   "id": "a8e4f638",
   "metadata": {},
   "source": [
    "## MAGGIC dataset "
   ]
  },
  {
   "cell_type": "code",
   "execution_count": null,
   "id": "2d20537f",
   "metadata": {
    "scrolled": false
   },
   "outputs": [],
   "source": [
    "base_score = evaluate_dataset(\"baseline\", \"maggic\", base_plugins)\n",
    "Benchmarks.print(base_score)"
   ]
  },
  {
   "cell_type": "code",
   "execution_count": null,
   "id": "681c2004",
   "metadata": {},
   "outputs": [],
   "source": [
    "survival_score = evaluate_dataset(\"survival\", \"maggic\", survival_plugins)\n",
    "Benchmarks.print(survival_score)"
   ]
  },
  {
   "cell_type": "markdown",
   "id": "6bc92344",
   "metadata": {},
   "source": [
    "## SEER prostate "
   ]
  },
  {
   "cell_type": "code",
   "execution_count": null,
   "id": "c72d7f4c",
   "metadata": {
    "scrolled": false
   },
   "outputs": [],
   "source": [
    "base_score = evaluate_dataset(\"baseline\", \"seer\", base_plugins)\n",
    "Benchmarks.print(base_score)"
   ]
  },
  {
   "cell_type": "code",
   "execution_count": null,
   "id": "5500ea46",
   "metadata": {},
   "outputs": [],
   "source": []
  },
  {
   "cell_type": "code",
   "execution_count": null,
   "id": "55d56c18",
   "metadata": {
    "scrolled": false
   },
   "outputs": [],
   "source": [
    "survival_score = evaluate_dataset(\"survival\", \"seer\", survival_plugins)\n",
    "Benchmarks.print(survival_score)"
   ]
  },
  {
   "cell_type": "code",
   "execution_count": null,
   "id": "60f18d33",
   "metadata": {},
   "outputs": [],
   "source": []
  },
  {
   "cell_type": "code",
   "execution_count": null,
   "id": "30ccb73a",
   "metadata": {},
   "outputs": [],
   "source": []
  },
  {
   "cell_type": "code",
   "execution_count": null,
   "id": "a55541d1",
   "metadata": {},
   "outputs": [],
   "source": []
  },
  {
   "cell_type": "code",
   "execution_count": null,
   "id": "32e3486a",
   "metadata": {},
   "outputs": [],
   "source": []
  },
  {
   "cell_type": "code",
   "execution_count": null,
   "id": "a1c43395",
   "metadata": {},
   "outputs": [],
   "source": []
  }
 ],
 "metadata": {
  "kernelspec": {
   "display_name": "py38",
   "language": "python",
   "name": "py38"
  },
  "language_info": {
   "codemirror_mode": {
    "name": "ipython",
    "version": 3
   },
   "file_extension": ".py",
   "mimetype": "text/x-python",
   "name": "python",
   "nbconvert_exporter": "python",
   "pygments_lexer": "ipython3",
   "version": "3.8.13"
  }
 },
 "nbformat": 4,
 "nbformat_minor": 5
}
