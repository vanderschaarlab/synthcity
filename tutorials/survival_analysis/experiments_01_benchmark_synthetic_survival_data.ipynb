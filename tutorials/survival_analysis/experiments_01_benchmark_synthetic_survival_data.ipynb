{
 "cells": [
  {
   "cell_type": "code",
   "execution_count": null,
   "id": "1f7740a4",
   "metadata": {},
   "outputs": [],
   "source": [
    "import sys\n",
    "\n",
    "from datasets import get_dataset\n",
    "from synthcity.plugins import Plugins\n",
    "from synthcity.benchmark import Benchmarks\n",
    "from pathlib import Path\n",
    "from synthcity.utils.serialization import save_to_file, load_from_file\n",
    "import synthcity.logger as log\n",
    "\n",
    "log.add(sink=sys.stderr, level=\"INFO\")\n",
    "\n",
    "plugins = Plugins().list()\n",
    "\n",
    "out_dir = Path(\"output\")\n",
    "\n",
    "\n",
    "def evaluate_dataset(name: str, dataset: str, plugins: list):\n",
    "    df, duration_col, event_col, time_horizons = get_dataset(dataset)\n",
    "\n",
    "    for plugin in plugins:\n",
    "        bkp = out_dir / f\"metrics.{dataset}_{name}_{plugin}.bkp\"\n",
    "\n",
    "        if bkp.exists():\n",
    "            score = load_from_file(bkp)\n",
    "        else:\n",
    "            score = Benchmarks.evaluate(\n",
    "                [plugin],\n",
    "                df,\n",
    "                task_type=\"survival_analysis\",\n",
    "                target_column=event_col,\n",
    "                time_to_event_column=duration_col,\n",
    "                time_horizons=time_horizons,\n",
    "                synthetic_size=len(df),\n",
    "                repeats=repeats,\n",
    "            )\n",
    "            save_to_file(bkp, score)\n",
    "\n",
    "    return score"
   ]
  },
  {
   "cell_type": "code",
   "execution_count": null,
   "id": "6549c43a",
   "metadata": {},
   "outputs": [],
   "source": [
    "base_plugins = [\n",
    "    \"privbayes\",\n",
    "    \"adsgan\",\n",
    "    \"ctgan\",\n",
    "    \"tvae\",\n",
    "    \"nflow\",\n",
    "]\n",
    "survival_plugins = [\n",
    "    \"survival_gan\",\n",
    "]\n",
    "\n",
    "repeats = 3  # 5"
   ]
  },
  {
   "cell_type": "code",
   "execution_count": null,
   "id": "28b87d4b",
   "metadata": {},
   "outputs": [],
   "source": []
  },
  {
   "cell_type": "markdown",
   "id": "d3d23f67",
   "metadata": {},
   "source": [
    "## AIDS dataset"
   ]
  },
  {
   "cell_type": "code",
   "execution_count": null,
   "id": "a4dbe168",
   "metadata": {
    "scrolled": false
   },
   "outputs": [],
   "source": [
    "base_score = evaluate_dataset(\"baseline\", \"aids\", base_plugins)\n",
    "Benchmarks.print(base_score)"
   ]
  },
  {
   "cell_type": "code",
   "execution_count": null,
   "id": "6a5363d4",
   "metadata": {
    "scrolled": false
   },
   "outputs": [],
   "source": []
  },
  {
   "cell_type": "code",
   "execution_count": null,
   "id": "f3ec68bb",
   "metadata": {
    "scrolled": false
   },
   "outputs": [],
   "source": [
    "survival_score = evaluate_dataset(\"survival\", \"aids\", survival_plugins)\n",
    "Benchmarks.print(survival_score)"
   ]
  },
  {
   "cell_type": "code",
   "execution_count": null,
   "id": "45f4812f",
   "metadata": {},
   "outputs": [],
   "source": []
  },
  {
   "cell_type": "markdown",
   "id": "930cdf0f",
   "metadata": {},
   "source": [
    "## CUTRACT"
   ]
  },
  {
   "cell_type": "code",
   "execution_count": null,
   "id": "10b1bc4d",
   "metadata": {},
   "outputs": [],
   "source": [
    "base_score = evaluate_dataset(\"baseline\", \"cutract\", base_plugins)\n",
    "Benchmarks.print(base_score)"
   ]
  },
  {
   "cell_type": "code",
   "execution_count": null,
   "id": "bebebc68",
   "metadata": {},
   "outputs": [],
   "source": []
  },
  {
   "cell_type": "code",
   "execution_count": null,
   "id": "d835dcef",
   "metadata": {
    "scrolled": false
   },
   "outputs": [],
   "source": [
    "survival_score = evaluate_dataset(\"survival\", \"cutract\", survival_plugins)\n",
    "Benchmarks.print(survival_score)"
   ]
  },
  {
   "cell_type": "code",
   "execution_count": null,
   "id": "d75209a7",
   "metadata": {},
   "outputs": [],
   "source": []
  },
  {
   "cell_type": "markdown",
   "id": "a8e4f638",
   "metadata": {},
   "source": [
    "## MAGGIC dataset "
   ]
  },
  {
   "cell_type": "code",
   "execution_count": null,
   "id": "2d20537f",
   "metadata": {
    "scrolled": false
   },
   "outputs": [],
   "source": [
    "base_score = evaluate_dataset(\"baseline\", \"maggic\", base_plugins)\n",
    "Benchmarks.print(base_score)"
   ]
  },
  {
   "cell_type": "code",
   "execution_count": null,
   "id": "681c2004",
   "metadata": {},
   "outputs": [],
   "source": [
    "survival_score = evaluate_dataset(\"survival\", \"maggic\", survival_plugins)\n",
    "Benchmarks.print(survival_score)"
   ]
  },
  {
   "cell_type": "markdown",
   "id": "6bc92344",
   "metadata": {},
   "source": [
    "## SEER prostate "
   ]
  },
  {
   "cell_type": "code",
   "execution_count": null,
   "id": "c72d7f4c",
   "metadata": {
    "scrolled": false
   },
   "outputs": [],
   "source": [
    "base_score = evaluate_dataset(\"baseline\", \"seer\", base_plugins)\n",
    "Benchmarks.print(base_score)"
   ]
  },
  {
   "cell_type": "code",
   "execution_count": null,
   "id": "5500ea46",
   "metadata": {},
   "outputs": [],
   "source": []
  },
  {
   "cell_type": "code",
   "execution_count": null,
   "id": "55d56c18",
   "metadata": {
    "scrolled": false
   },
   "outputs": [],
   "source": [
    "survival_score = evaluate_dataset(\"survival\", \"seer\", survival_plugins)\n",
    "Benchmarks.print(survival_score)"
   ]
  },
  {
   "cell_type": "code",
   "execution_count": null,
   "id": "60f18d33",
   "metadata": {},
   "outputs": [],
   "source": []
  },
  {
   "cell_type": "code",
   "execution_count": null,
   "id": "30ccb73a",
   "metadata": {},
   "outputs": [],
   "source": []
  },
  {
   "cell_type": "code",
   "execution_count": null,
   "id": "a55541d1",
   "metadata": {},
   "outputs": [],
   "source": []
  },
  {
   "cell_type": "code",
   "execution_count": null,
   "id": "32e3486a",
   "metadata": {},
   "outputs": [],
   "source": []
  },
  {
   "cell_type": "code",
   "execution_count": null,
   "id": "a1c43395",
   "metadata": {},
   "outputs": [],
   "source": []
  }
 ],
 "metadata": {
  "kernelspec": {
   "display_name": "py38",
   "language": "python",
   "name": "py38"
  },
  "language_info": {
   "codemirror_mode": {
    "name": "ipython",
    "version": 3
   },
   "file_extension": ".py",
   "mimetype": "text/x-python",
   "name": "python",
   "nbconvert_exporter": "python",
   "pygments_lexer": "ipython3",
   "version": "3.8.13"
  }
 },
 "nbformat": 4,
 "nbformat_minor": 5
}
