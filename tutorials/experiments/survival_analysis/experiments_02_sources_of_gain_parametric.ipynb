{
 "cells": [
  {
   "cell_type": "code",
   "execution_count": null,
   "id": "1f7740a4",
   "metadata": {},
   "outputs": [],
   "source": [
    "import sys\n",
    "\n",
    "from synthcity.plugins import Plugins\n",
    "from synthcity.benchmark import Benchmarks\n",
    "import synthcity.logger as log\n",
    "\n",
    "from pathlib import Path\n",
    "from datasets import get_dataset\n",
    "from synthcity.utils.serialization import save_to_file, load_from_file\n",
    "\n",
    "log.add(sink=sys.stderr, level=\"INFO\")\n",
    "\n",
    "plugins = Plugins().list()\n",
    "\n",
    "out_dir = Path(\"output\")\n",
    "\n",
    "gain_scenarios = [\n",
    "    (\n",
    "        \"uncensoring_with_date\",\n",
    "        {\n",
    "            \"uncensoring_model\": \"date\",\n",
    "            \"tte_strategy\": \"uncensoring\",\n",
    "            \"dataloader_sampling_strategy\": \"none\",\n",
    "            \"use_conditional\": False,\n",
    "        },\n",
    "    ),\n",
    "    (\n",
    "        \"survival_function_with_date\",\n",
    "        {\n",
    "            \"uncensoring_model\": \"date\",\n",
    "            \"tte_strategy\": \"survival_function\",\n",
    "            \"dataloader_sampling_strategy\": \"none\",\n",
    "            \"use_conditional\": False,\n",
    "        },\n",
    "    ),\n",
    "    (\n",
    "        \"survival_function_regression_no_sampling\",\n",
    "        {\n",
    "            \"uncensoring_model\": \"survival_function_regression\",\n",
    "            \"tte_strategy\": \"survival_function\",\n",
    "            \"dataloader_sampling_strategy\": \"none\",\n",
    "            \"use_conditional\": False,\n",
    "        },\n",
    "    ),\n",
    "    (\n",
    "        \"survival_function_regression_imbalanced_cens_sampling\",\n",
    "        {\n",
    "            \"uncensoring_model\": \"survival_function_regression\",\n",
    "            \"tte_strategy\": \"survival_function\",\n",
    "            \"dataloader_sampling_strategy\": \"imbalanced_censoring\",\n",
    "            \"use_conditional\": False,\n",
    "        },\n",
    "    ),\n",
    "    (\n",
    "        \"survival_function_regression_imbalanced_time_cens_no_cond\",\n",
    "        {\n",
    "            \"uncensoring_model\": \"survival_function_regression\",\n",
    "            \"tte_strategy\": \"survival_function\",\n",
    "            \"dataloader_sampling_strategy\": \"imbalanced_time_censoring\",\n",
    "            \"use_conditional\": False,\n",
    "        },\n",
    "    ),\n",
    "    (\n",
    "        \"survival_function_regression_imbalanced_time_cens_sampling\",\n",
    "        {\n",
    "            \"uncensoring_model\": \"survival_function_regression\",\n",
    "            \"tte_strategy\": \"survival_function\",\n",
    "            \"dataloader_sampling_strategy\": \"imbalanced_time_censoring\",\n",
    "        },\n",
    "    ),\n",
    "]\n",
    "\n",
    "\n",
    "def evaluate_dataset(dataset: str, scenarios: list):\n",
    "    df, duration_col, event_col, time_horizons = get_dataset(dataset)\n",
    "    # experiment = \"gain_of_function_parametric\"\n",
    "    experiment = \"sources_of_gain_parametric\"\n",
    "    for scenario_name, scenario_args in scenarios:\n",
    "        bkp = out_dir / f\"experiment_{experiment}_{dataset}_{scenario_name}.bkp\"\n",
    "\n",
    "        scenario_args[\"device\"] = \"cpu\"\n",
    "\n",
    "        if bkp.exists():\n",
    "            score = load_from_file(bkp)\n",
    "        else:\n",
    "            score = Benchmarks.evaluate(\n",
    "                [\"survival_gan\"],\n",
    "                df,\n",
    "                task_type=\"survival_analysis\",\n",
    "                target_column=event_col,\n",
    "                time_to_event_column=duration_col,\n",
    "                time_horizons=time_horizons,\n",
    "                synthetic_size=len(df),\n",
    "                repeats=repeats,\n",
    "                plugin_kwargs={\"survival_gan\": scenario_args},\n",
    "            )\n",
    "            save_to_file(bkp, score)\n",
    "\n",
    "        print(\"Scenario\", scenario_name, scenario_args)\n",
    "        Benchmarks.print(score)"
   ]
  },
  {
   "cell_type": "code",
   "execution_count": null,
   "id": "6549c43a",
   "metadata": {},
   "outputs": [],
   "source": [
    "repeats = 3"
   ]
  },
  {
   "cell_type": "code",
   "execution_count": null,
   "id": "28b87d4b",
   "metadata": {},
   "outputs": [],
   "source": []
  },
  {
   "cell_type": "markdown",
   "id": "d3d23f67",
   "metadata": {},
   "source": [
    "## AIDS dataset"
   ]
  },
  {
   "cell_type": "code",
   "execution_count": null,
   "id": "a4dbe168",
   "metadata": {
    "scrolled": false
   },
   "outputs": [],
   "source": [
    "base_score = evaluate_dataset(\"aids\", gain_scenarios)"
   ]
  },
  {
   "cell_type": "code",
   "execution_count": null,
   "id": "6a5363d4",
   "metadata": {
    "scrolled": false
   },
   "outputs": [],
   "source": []
  }
 ],
 "metadata": {
  "kernelspec": {
   "display_name": "py38",
   "language": "python",
   "name": "py38"
  },
  "language_info": {
   "codemirror_mode": {
    "name": "ipython",
    "version": 3
   },
   "file_extension": ".py",
   "mimetype": "text/x-python",
   "name": "python",
   "nbconvert_exporter": "python",
   "pygments_lexer": "ipython3",
   "version": "3.8.12"
  }
 },
 "nbformat": 4,
 "nbformat_minor": 5
}
