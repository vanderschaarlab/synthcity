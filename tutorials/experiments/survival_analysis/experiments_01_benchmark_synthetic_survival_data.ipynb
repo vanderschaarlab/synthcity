{
 "cells": [
  {
   "cell_type": "code",
   "execution_count": null,
   "id": "1f7740a4",
   "metadata": {},
   "outputs": [],
   "source": [
    "import sys\n",
    "\n",
    "from datasets import get_dataset\n",
    "from synthcity.plugins import Plugins\n",
    "from synthcity.benchmark import Benchmarks\n",
    "from pathlib import Path\n",
    "from synthcity.utils.serialization import save_to_file, load_from_file\n",
    "import synthcity.logger as log\n",
    "\n",
    "log.add(sink=sys.stderr, level=\"INFO\")\n",
    "\n",
    "plugins = Plugins().list()\n",
    "\n",
    "out_dir = Path(\"output\")\n",
    "\n",
    "\n",
    "def evaluate_dataset(name: str, dataset: str, plugins: list):\n",
    "    df, duration_col, event_col, time_horizons = get_dataset(dataset)\n",
    "\n",
    "    for plugin in plugins:\n",
    "        bkp = out_dir / f\"metrics.{dataset}_{name}_{plugin}.bkp\"\n",
    "\n",
    "        if bkp.exists():\n",
    "            score = load_from_file(bkp)\n",
    "        else:\n",
    "            score = Benchmarks.evaluate(\n",
    "                [plugin],\n",
    "                df,\n",
    "                task_type=\"survival_analysis\",\n",
    "                target_column=event_col,\n",
    "                time_to_event_column=duration_col,\n",
    "                time_horizons=time_horizons,\n",
    "                synthetic_size=len(df),\n",
    "                repeats=repeats,\n",
    "            )\n",
    "            save_to_file(bkp, score)\n",
    "\n",
    "    return score"
   ]
  },
  {
   "cell_type": "code",
   "execution_count": null,
   "id": "6549c43a",
   "metadata": {},
   "outputs": [],
   "source": [
    "base_plugins = [\n",
    "    \"privbayes\",\n",
    "    \"adsgan\",\n",
    "    \"ctgan\",\n",
    "    \"tvae\",\n",
    "    \"nflow\",\n",
    "]\n",
    "survival_plugins = [\n",
    "    \"survival_gan\",\n",
    "]\n",
    "\n",
    "repeats = 5"
   ]
  },
  {
   "cell_type": "code",
   "execution_count": null,
   "id": "28b87d4b",
   "metadata": {},
   "outputs": [],
   "source": []
  },
  {
   "cell_type": "markdown",
   "id": "d3d23f67",
   "metadata": {},
   "source": [
    "## AIDS dataset"
   ]
  },
  {
   "cell_type": "code",
   "execution_count": null,
   "id": "a4dbe168",
   "metadata": {
    "scrolled": false
   },
   "outputs": [],
   "source": [
    "base_score = evaluate_dataset(\"baseline\", \"aids\", base_plugins)\n",
    "Benchmarks.print(base_score)"
   ]
  },
  {
   "cell_type": "code",
   "execution_count": null,
   "id": "6a5363d4",
   "metadata": {
    "scrolled": false
   },
   "outputs": [],
   "source": []
  },
  {
   "cell_type": "code",
   "execution_count": null,
   "id": "f3ec68bb",
   "metadata": {
    "scrolled": false
   },
   "outputs": [],
   "source": [
    "survival_score = evaluate_dataset(\"survival\", \"aids\", survival_plugins)\n",
    "Benchmarks.print(survival_score)"
   ]
  },
  {
   "cell_type": "code",
   "execution_count": null,
   "id": "45f4812f",
   "metadata": {},
   "outputs": [],
   "source": []
  }
 ],
 "metadata": {
  "kernelspec": {
   "display_name": "py38",
   "language": "python",
   "name": "py38"
  },
  "language_info": {
   "codemirror_mode": {
    "name": "ipython",
    "version": 3
   },
   "file_extension": ".py",
   "mimetype": "text/x-python",
   "name": "python",
   "nbconvert_exporter": "python",
   "pygments_lexer": "ipython3",
   "version": "3.8.12"
  }
 },
 "nbformat": 4,
 "nbformat_minor": 5
}
