{
 "cells": [
  {
   "cell_type": "markdown",
   "id": "0327fee2",
   "metadata": {},
   "source": [
    "# Add a new plugin\n",
    "\n",
    "By default, the library will import all the files with prefix \"plugin\\_\\*.py\" from src/synthcity/plugins, and load all the classes which implement the [Plugin interface](src/synthcity/plugins/core/plugin.py).\n",
    "\n",
    "Each plugin must implement the following methods:\n",
    "- hyperparameter_space() - a static method that returns the hyperparameters that can be tuned during AutoML.\n",
    "- type() - a static method that returns the type of the plugin. e.g., debug, generative, bayesian, etc.\n",
    "- name() - a static method that returns the name of the plugin. e.g., ctgan, random_noisee, etc.\n",
    "- _fit() - internal method, called by `fit` on each training set.\n",
    "- _generate() - internal method, called by `generate`."
   ]
  },
  {
   "cell_type": "markdown",
   "id": "fd88793e",
   "metadata": {},
   "source": [
    "## Existing plugins"
   ]
  },
  {
   "cell_type": "code",
   "execution_count": null,
   "id": "6cb0834d",
   "metadata": {},
   "outputs": [],
   "source": [
    "# synthcity absolute\n",
    "from synthcity.plugins import Plugins\n",
    "\n",
    "generators = Plugins()\n",
    "\n",
    "generators.list()"
   ]
  },
  {
   "cell_type": "markdown",
   "id": "7ee7f0a5",
   "metadata": {},
   "source": [
    "## Example plugin: Generate 0-1"
   ]
  },
  {
   "cell_type": "code",
   "execution_count": null,
   "id": "6201e1a9",
   "metadata": {},
   "outputs": [],
   "source": [
    "# stdlib\n",
    "from typing import Any, List\n",
    "\n",
    "# third party\n",
    "import numpy as np\n",
    "import pandas as pd\n",
    "\n",
    "# synthcity absolute\n",
    "from synthcity.plugins.core.dataloader import DataLoader, GenericDataLoader\n",
    "from synthcity.plugins.core.distribution import Distribution\n",
    "from synthcity.plugins.core.plugin import Plugin\n",
    "from synthcity.plugins.core.schema import Schema\n",
    "\n",
    "\n",
    "class ZeroOnePlugin(Plugin):\n",
    "    \"\"\"Dummy plugin for debugging.\"\"\"\n",
    "\n",
    "    def __init__(self, **kwargs: Any) -> None:\n",
    "        super().__init__(**kwargs)\n",
    "\n",
    "    @staticmethod\n",
    "    def name() -> str:\n",
    "        return \"zero_one\"\n",
    "\n",
    "    @staticmethod\n",
    "    def type() -> str:\n",
    "        return \"debug\"\n",
    "\n",
    "    @staticmethod\n",
    "    def hyperparameter_space(*args: Any, **kwargs: Any) -> List[Distribution]:\n",
    "        return []\n",
    "\n",
    "    def _fit(self, X: DataLoader, *args: Any, **kwargs: Any) -> \"ZeroOnePlugin\":\n",
    "        self.features_count = X.shape[1]\n",
    "        return self\n",
    "\n",
    "    def _generate(self, count: int, syn_schema: Schema, **kwargs: Any):\n",
    "        return GenericDataLoader(\n",
    "            np.random.randint(0, 2, size=(count, self.features_count))\n",
    "        )"
   ]
  },
  {
   "cell_type": "code",
   "execution_count": null,
   "id": "5336751b",
   "metadata": {},
   "outputs": [],
   "source": [
    "# Add the new plugin to the collection\n",
    "\n",
    "generators.add(\"zero_one\", ZeroOnePlugin)"
   ]
  },
  {
   "cell_type": "code",
   "execution_count": null,
   "id": "cfc3c379",
   "metadata": {},
   "outputs": [],
   "source": [
    "# Check the new plugins list\n",
    "generators.list()"
   ]
  },
  {
   "cell_type": "code",
   "execution_count": null,
   "id": "f7822ba3",
   "metadata": {},
   "outputs": [],
   "source": [
    "# Load reference data\n",
    "\n",
    "# third party\n",
    "from sklearn.datasets import load_breast_cancer\n",
    "\n",
    "X, y = load_breast_cancer(return_X_y=True, as_frame=True)\n",
    "\n",
    "loader = GenericDataLoader(X)\n",
    "\n",
    "loader.dataframe()"
   ]
  },
  {
   "cell_type": "code",
   "execution_count": null,
   "id": "25d1cded",
   "metadata": {},
   "outputs": [],
   "source": [
    "# Train the new plugin\n",
    "\n",
    "gen = generators.get(\"zero_one\")\n",
    "\n",
    "gen.fit(loader)"
   ]
  },
  {
   "cell_type": "code",
   "execution_count": null,
   "id": "8d4abc0f",
   "metadata": {},
   "outputs": [],
   "source": [
    "# Generate some new data\n",
    "\n",
    "gen.generate(count=10)"
   ]
  },
  {
   "cell_type": "markdown",
   "id": "5f20c516",
   "metadata": {},
   "source": [
    "### Oops, this didn't work.\n",
    "\n",
    "__The Plugin interface enforces the new generated data to:__\n",
    " - satistify the same constraints as the training set.\n",
    " - Or to satisfy the constraints provided at inference time(if provided).\n",
    " \n",
    " \n",
    " If the generated dataframe fails to comply, an exception will be raised.\n",
    "\n",
    "Let's try again"
   ]
  },
  {
   "cell_type": "markdown",
   "id": "a2c74240",
   "metadata": {},
   "source": [
    "## A functional plugin: Integrate SDV CTGAN\n",
    "\n",
    "In this example, we will show how to integrate the CTGAN implementation from the [SDV library](https://github.com/sdv-dev/SDV).\n",
    "\n",
    "__Note__ : `synthcity` also includes a dedicated CTGAN re-implementation."
   ]
  },
  {
   "cell_type": "code",
   "execution_count": null,
   "id": "54361360",
   "metadata": {},
   "outputs": [],
   "source": [
    "# stdlib\n",
    "from typing import Any, List\n",
    "\n",
    "# third party\n",
    "import numpy as np\n",
    "import pandas as pd\n",
    "from ctgan import CTGANSynthesizer\n",
    "\n",
    "# synthcity absolute\n",
    "from synthcity.plugins.core.dataloader import DataLoader, GenericDataLoader\n",
    "from synthcity.plugins.core.distribution import Distribution\n",
    "from synthcity.plugins.core.plugin import Plugin\n",
    "from synthcity.plugins.core.schema import Schema\n",
    "from synthcity.plugins.core.distribution import (\n",
    "    Distribution,\n",
    "    IntegerDistribution,\n",
    ")\n",
    "\n",
    "\n",
    "class sdv_ctgan_plugin(Plugin):\n",
    "    \"\"\"SDV CTGAN integration in synthcity.\"\"\"\n",
    "\n",
    "    def __init__(\n",
    "        self,\n",
    "        embedding_n_units: int = 128,\n",
    "        n_iter: int = 2000,\n",
    "        batch_size: int = 100,\n",
    "        cat_limit: int = 15,\n",
    "        **kwargs: Any\n",
    "    ) -> None:\n",
    "        super().__init__(**kwargs)\n",
    "        self.cat_limit = cat_limit\n",
    "        self.model = CTGANSynthesizer(\n",
    "            embedding_dim=embedding_n_units,\n",
    "            batch_size=batch_size,\n",
    "            epochs=n_iter,\n",
    "            verbose=False,\n",
    "        )\n",
    "\n",
    "    @staticmethod\n",
    "    def name() -> str:\n",
    "        return \"sdv_ctgan\"\n",
    "\n",
    "    @staticmethod\n",
    "    def type() -> str:\n",
    "        return \"debug\"\n",
    "\n",
    "    @staticmethod\n",
    "    def hyperparameter_space(**kwargs: Any) -> List[Distribution]:\n",
    "        \"\"\"\n",
    "        We can customize the hyperparameter space, and use it in AutoML benchmarks.\n",
    "        \"\"\"\n",
    "        return [\n",
    "            IntegerDistribution(name=\"embedding_n_units\", low=100, high=500, step=50),\n",
    "            IntegerDistribution(name=\"batch_size\", low=100, high=300, step=50),\n",
    "            IntegerDistribution(name=\"n_iter\", low=100, high=500, step=50),\n",
    "        ]\n",
    "\n",
    "    def _fit(self, X: DataLoader, *args: Any, **kwargs: Any) -> \"sdvPlugin\":\n",
    "        \"\"\"We selected the discrete columns based on the count of unique values, and train the CTGAN\"\"\"\n",
    "        discrete_columns = []\n",
    "\n",
    "        for col in X.columns:\n",
    "            if len(X[col].unique()) < self.cat_limit:\n",
    "                discrete_columns.append(col)\n",
    "\n",
    "        self.model.fit(X.dataframe(), discrete_columns=discrete_columns)\n",
    "        return self\n",
    "\n",
    "    def _generate(self, count: int, syn_schema: Schema, **kwargs: Any) -> pd.DataFrame:\n",
    "        return self._safe_generate(self.model.sample, count, syn_schema)"
   ]
  },
  {
   "cell_type": "code",
   "execution_count": null,
   "id": "4a478111",
   "metadata": {},
   "outputs": [],
   "source": [
    "generators.add(\"sdv_ctgan\", sdv_ctgan_plugin)\n",
    "\n",
    "generators.list()"
   ]
  },
  {
   "cell_type": "code",
   "execution_count": null,
   "id": "2db611bb",
   "metadata": {},
   "outputs": [],
   "source": [
    "# Train the new plugin\n",
    "\n",
    "gen = generators.get(\"sdv_ctgan\", n_iter=100)\n",
    "\n",
    "gen.fit(loader)"
   ]
  },
  {
   "cell_type": "code",
   "execution_count": null,
   "id": "75a95a21",
   "metadata": {},
   "outputs": [],
   "source": [
    "# Generate some new data\n",
    "\n",
    "gen.generate(count=10).dataframe()"
   ]
  },
  {
   "cell_type": "code",
   "execution_count": null,
   "id": "800beb7a",
   "metadata": {},
   "outputs": [],
   "source": [
    "# Custom generation constraints\n",
    "\n",
    "# synthcity absolute\n",
    "from synthcity.plugins.core.constraints import Constraints\n",
    "\n",
    "constraints = Constraints(rules=[(\"worst radius\", \">\", 15)])\n",
    "\n",
    "generated = gen.generate(count=10, constraints=constraints)\n",
    "\n",
    "assert (generated[\"worst radius\"] > 15).any()\n",
    "\n",
    "generated.dataframe()"
   ]
  },
  {
   "cell_type": "markdown",
   "id": "9b5ce06e",
   "metadata": {},
   "source": [
    "## Congratulations!\n",
    "\n",
    "Congratulations on completing this notebook tutorial! If you enjoyed this and would like to join the movement towards Machine learning and AI for medicine, you can do so in the following ways!\n",
    "\n",
    "### Star [Synthcity](https://github.com/vanderschaarlab/synthcity) on GitHub\n",
    "\n",
    "- The easiest way to help our community is just by starring the Repos! This helps raise awareness of the tools we're building.\n",
    "\n",
    "\n",
    "### Checkout other projects from vanderschaarlab\n",
    "- [HyperImpute](https://github.com/vanderschaarlab/hyperimpute)\n",
    "- [AutoPrognosis](https://github.com/vanderschaarlab/autoprognosis)\n"
   ]
  }
 ],
 "metadata": {
  "kernelspec": {
   "display_name": "Python 3 (ipykernel)",
   "language": "python",
   "name": "python3"
  },
  "language_info": {
   "codemirror_mode": {
    "name": "ipython",
    "version": 3
   },
   "file_extension": ".py",
   "mimetype": "text/x-python",
   "name": "python",
   "nbconvert_exporter": "python",
   "pygments_lexer": "ipython3",
   "version": "3.9.15"
  }
 },
 "nbformat": 4,
 "nbformat_minor": 5
}
