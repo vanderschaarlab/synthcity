{
 "cells": [
  {
   "cell_type": "markdown",
   "id": "0327fee2",
   "metadata": {},
   "source": [
    "# Add a new plugin\n",
    "\n",
    "By default, the library will import all the files with prefix \"plugin\\_\\*.py\" from src/synthcity/plugins, and load all the classes which implement the [Plugin interface](src/synthcity/plugins/core/plugin.py).\n",
    "\n",
    "Each plugin must implement the following methods:\n",
    "- hyperparameter_space() - a static method that returns the hyperparameters that can be tuned during AutoML.\n",
    "- type() - a static method that returns the type of the plugin. e.g., debug, generative, bayesian, etc.\n",
    "- name() - a static method that returns the name of the plugin. e.g., ctgan, random_noisee, etc.\n",
    "- _fit() - internal method, called by `fit` on each training set.\n",
    "- _generate() - internal method, called by `generate`."
   ]
  },
  {
   "cell_type": "markdown",
   "id": "fd88793e",
   "metadata": {},
   "source": [
    "## Existing plugins"
   ]
  },
  {
   "cell_type": "code",
   "execution_count": null,
   "id": "6cb0834d",
   "metadata": {},
   "outputs": [],
   "source": [
    "from synthcity.plugins import Plugins\n",
    "\n",
    "generators = Plugins()\n",
    "\n",
    "generators.list()"
   ]
  },
  {
   "cell_type": "markdown",
   "id": "7ee7f0a5",
   "metadata": {},
   "source": [
    "## Example plugin: Generate 0-1"
   ]
  },
  {
   "cell_type": "code",
   "execution_count": null,
   "id": "6201e1a9",
   "metadata": {},
   "outputs": [],
   "source": [
    "# stdlib\n",
    "from typing import Any, List\n",
    "\n",
    "# third party\n",
    "import pandas as pd\n",
    "import numpy as np\n",
    "\n",
    "# synthcity absolute\n",
    "from synthcity.plugins.core.distribution import Distribution\n",
    "from synthcity.plugins.core.plugin import Plugin\n",
    "from synthcity.plugins.core.schema import Schema\n",
    "from synthcity.plugins.core.dataloader import GenericDataLoader, DataLoader\n",
    "\n",
    "\n",
    "class ZeroOnePlugin(Plugin):\n",
    "    \"\"\"Dummy plugin for debugging.\"\"\"\n",
    "\n",
    "    def __init__(self, **kwargs: Any) -> None:\n",
    "        super().__init__(**kwargs)\n",
    "\n",
    "    @staticmethod\n",
    "    def name() -> str:\n",
    "        return \"zero_one\"\n",
    "\n",
    "    @staticmethod\n",
    "    def type() -> str:\n",
    "        return \"debug\"\n",
    "\n",
    "    @staticmethod\n",
    "    def hyperparameter_space(*args: Any, **kwargs: Any) -> List[Distribution]:\n",
    "        return []\n",
    "\n",
    "    def _fit(self, X: DataLoader, *args: Any, **kwargs: Any) -> \"ZeroOnePlugin\":\n",
    "        self.features_count = X.shape[1]\n",
    "        return self\n",
    "\n",
    "    def _generate(self, count: int, syn_schema: Schema, **kwargs: Any):\n",
    "        return GenericDataLoader(\n",
    "            np.random.randint(0, 2, size=(count, self.features_count))\n",
    "        )"
   ]
  },
  {
   "cell_type": "code",
   "execution_count": null,
   "id": "5336751b",
   "metadata": {},
   "outputs": [],
   "source": [
    "# Add the new plugin to the collection\n",
    "\n",
    "generators.add(\"zero_one\", ZeroOnePlugin)"
   ]
  },
  {
   "cell_type": "code",
   "execution_count": null,
   "id": "cfc3c379",
   "metadata": {},
   "outputs": [],
   "source": [
    "# Check the new plugins list\n",
    "generators.list()"
   ]
  },
  {
   "cell_type": "code",
   "execution_count": null,
   "id": "f7822ba3",
   "metadata": {},
   "outputs": [],
   "source": [
    "# Load reference data\n",
    "\n",
    "from sklearn.datasets import load_breast_cancer\n",
    "\n",
    "X, y = load_breast_cancer(return_X_y=True, as_frame=True)\n",
    "\n",
    "loader = GenericDataLoader(X)\n",
    "\n",
    "loader.dataframe()"
   ]
  },
  {
   "cell_type": "code",
   "execution_count": null,
   "id": "25d1cded",
   "metadata": {},
   "outputs": [],
   "source": [
    "# Train the new plugin\n",
    "\n",
    "gen = generators.get(\"zero_one\")\n",
    "\n",
    "gen.fit(loader)"
   ]
  },
  {
   "cell_type": "code",
   "execution_count": null,
   "id": "8d4abc0f",
   "metadata": {},
   "outputs": [],
   "source": [
    "# Generate some new data\n",
    "\n",
    "gen.generate(count=10)"
   ]
  },
  {
   "cell_type": "markdown",
   "id": "5f20c516",
   "metadata": {},
   "source": [
    "### Oops, this didn't work.\n",
    "\n",
    "__The Plugin interface enforces the new generated data to:__\n",
    " - satistify the same constraints as the training set.\n",
    " - Or to satisfy the constraints provided at inference time(if provided).\n",
    " \n",
    " \n",
    " If the generated dataframe fails to comply, an exception will be raised.\n",
    "\n",
    "Let's try again"
   ]
  },
  {
   "cell_type": "markdown",
   "id": "a2c74240",
   "metadata": {},
   "source": [
    "## A functional plugin"
   ]
  },
  {
   "cell_type": "code",
   "execution_count": null,
   "id": "54361360",
   "metadata": {},
   "outputs": [],
   "source": [
    "# stdlib\n",
    "from typing import Any, List\n",
    "\n",
    "# third party\n",
    "import pandas as pd\n",
    "import numpy as np\n",
    "\n",
    "# synthcity absolute\n",
    "from synthcity.plugins.core.distribution import Distribution\n",
    "from synthcity.plugins.core.plugin import Plugin\n",
    "from synthcity.plugins.core.schema import Schema\n",
    "\n",
    "\n",
    "class DummyGeneratorPlugin(Plugin):\n",
    "    \"\"\"Dummy plugin for debugging.\"\"\"\n",
    "\n",
    "    def __init__(self, **kwargs: Any) -> None:\n",
    "        super().__init__(**kwargs)\n",
    "\n",
    "    @staticmethod\n",
    "    def name() -> str:\n",
    "        return \"dummy_generator\"\n",
    "\n",
    "    @staticmethod\n",
    "    def type() -> str:\n",
    "        return \"debug\"\n",
    "\n",
    "    @staticmethod\n",
    "    def hyperparameter_space(*args: Any, **kwargs: Any) -> List[Distribution]:\n",
    "        return []\n",
    "\n",
    "    def _fit(self, X: DataLoader, *args: Any, **kwargs: Any) -> \"ZeroOnePlugin\":\n",
    "        return self\n",
    "\n",
    "    def _generate(self, count: int, syn_schema: Schema, **kwargs: Any):\n",
    "        result = self.schema().sample(count)\n",
    "        result[syn_schema.features()] = syn_schema.sample(count)\n",
    "\n",
    "        return GenericDataLoader(result)"
   ]
  },
  {
   "cell_type": "code",
   "execution_count": null,
   "id": "4a478111",
   "metadata": {},
   "outputs": [],
   "source": [
    "generators.add(\"dummy_generator\", DummyGeneratorPlugin)\n",
    "\n",
    "generators.list()"
   ]
  },
  {
   "cell_type": "code",
   "execution_count": null,
   "id": "2db611bb",
   "metadata": {},
   "outputs": [],
   "source": [
    "# Train the new plugin\n",
    "\n",
    "gen = generators.get(\"dummy_generator\")\n",
    "\n",
    "gen.fit(loader)"
   ]
  },
  {
   "cell_type": "code",
   "execution_count": null,
   "id": "75a95a21",
   "metadata": {},
   "outputs": [],
   "source": [
    "# Generate some new data\n",
    "\n",
    "gen.generate(count=10).dataframe()"
   ]
  },
  {
   "cell_type": "code",
   "execution_count": null,
   "id": "800beb7a",
   "metadata": {},
   "outputs": [],
   "source": [
    "# Custom generation constraints\n",
    "\n",
    "from synthcity.plugins.core.constraints import Constraints\n",
    "\n",
    "constraints = Constraints(rules=[(\"worst radius\", \">\", 15)])\n",
    "\n",
    "generated = gen.generate(count=10, constraints=constraints)\n",
    "\n",
    "assert (generated[\"worst radius\"] > 15).any()\n",
    "\n",
    "generated.dataframe()"
   ]
  },
  {
   "cell_type": "code",
   "execution_count": null,
   "id": "0c09b449",
   "metadata": {},
   "outputs": [],
   "source": []
  },
  {
   "cell_type": "code",
   "execution_count": null,
   "id": "d3fff88a",
   "metadata": {},
   "outputs": [],
   "source": []
  }
 ],
 "metadata": {
  "kernelspec": {
   "display_name": "Python 3 (ipykernel)",
   "language": "python",
   "name": "python3"
  },
  "language_info": {
   "codemirror_mode": {
    "name": "ipython",
    "version": 3
   },
   "file_extension": ".py",
   "mimetype": "text/x-python",
   "name": "python",
   "nbconvert_exporter": "python",
   "pygments_lexer": "ipython3",
   "version": "3.8.13"
  }
 },
 "nbformat": 4,
 "nbformat_minor": 5
}
