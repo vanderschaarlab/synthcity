{
 "cells": [
  {
   "cell_type": "markdown",
   "id": "97e2d93c",
   "metadata": {},
   "source": [
    "# Tutorial 2: Generating static survival-analysis data\n",
    "\n",
    "`synthcity` includes models targeting specific tabular modalities. One of the specific modalities is for survival-analysis data. The general-purpose models can also be used for this task.\n",
    "\n",
    "The main requirement of survival-analysis is to use a `SurvivalAnalysisDataLoader` dataloader."
   ]
  },
  {
   "cell_type": "code",
   "execution_count": null,
   "id": "696e0157",
   "metadata": {
    "scrolled": false
   },
   "outputs": [],
   "source": [
    "# stdlib\n",
    "import sys\n",
    "import warnings\n",
    "\n",
    "# synthcity absolute\n",
    "import synthcity.logger as log\n",
    "from synthcity.plugins import Plugins\n",
    "from synthcity.plugins.core.dataloader import SurvivalAnalysisDataLoader\n",
    "\n",
    "log.add(sink=sys.stderr, level=\"INFO\")\n",
    "warnings.filterwarnings(\"ignore\")"
   ]
  },
  {
   "cell_type": "code",
   "execution_count": null,
   "id": "824a4685",
   "metadata": {},
   "outputs": [],
   "source": [
    "# third party\n",
    "from pycox import datasets\n",
    "\n",
    "df = datasets.gbsg.read_df()\n",
    "df = df[df[\"duration\"] > 0]\n",
    "\n",
    "df"
   ]
  },
  {
   "cell_type": "code",
   "execution_count": null,
   "id": "51076cdc",
   "metadata": {},
   "outputs": [],
   "source": [
    "loader = SurvivalAnalysisDataLoader(\n",
    "    df,\n",
    "    target_column=\"event\",\n",
    "    time_to_event_column=\"duration\",\n",
    ")"
   ]
  },
  {
   "cell_type": "markdown",
   "id": "5c13c616",
   "metadata": {},
   "source": [
    "## List the available generative models"
   ]
  },
  {
   "cell_type": "code",
   "execution_count": null,
   "id": "70553275",
   "metadata": {},
   "outputs": [],
   "source": [
    "# synthcity absolute\n",
    "from synthcity.plugins import Plugins\n",
    "\n",
    "Plugins(categories=[\"survival_analysis\"]).list()"
   ]
  },
  {
   "cell_type": "markdown",
   "id": "4a3f2fe6",
   "metadata": {},
   "source": [
    "## Load and train a generative model"
   ]
  },
  {
   "cell_type": "code",
   "execution_count": null,
   "id": "790ed0dd",
   "metadata": {},
   "outputs": [],
   "source": [
    "# synthcity absolute\n",
    "from synthcity.plugins import Plugins\n",
    "\n",
    "syn_model = Plugins().get(\"survival_gan\", n_iter = 100)\n",
    "\n",
    "syn_model.fit(loader)"
   ]
  },
  {
   "cell_type": "markdown",
   "id": "574e1eeb",
   "metadata": {},
   "source": [
    "## Generate new data using the model"
   ]
  },
  {
   "cell_type": "code",
   "execution_count": null,
   "id": "cc96a182",
   "metadata": {},
   "outputs": [],
   "source": [
    "syn_model.generate(count=10).dataframe()"
   ]
  },
  {
   "cell_type": "markdown",
   "id": "adf672a5",
   "metadata": {},
   "source": [
    "## Generate new data using a conditional\n",
    "\n",
    "We will use the `event` outcome to condition the data generation."
   ]
  },
  {
   "cell_type": "code",
   "execution_count": null,
   "id": "14bca1cd",
   "metadata": {},
   "outputs": [],
   "source": [
    "# synthcity absolute\n",
    "from synthcity.plugins import Plugins\n",
    "\n",
    "syn_model = Plugins().get(\"survival_gan\", n_iter = 100)\n",
    "\n",
    "cond = df[\"event\"]\n",
    "\n",
    "syn_model.fit(loader, cond = cond)"
   ]
  },
  {
   "cell_type": "code",
   "execution_count": null,
   "id": "83064f94",
   "metadata": {},
   "outputs": [],
   "source": [
    "import numpy as np\n",
    "\n",
    "count = 10\n",
    "syn_model.generate(count=count, cond = np.ones(count)).dataframe()"
   ]
  },
  {
   "cell_type": "markdown",
   "id": "f7e23af1",
   "metadata": {},
   "source": [
    "## Serialization"
   ]
  },
  {
   "cell_type": "code",
   "execution_count": null,
   "id": "2af0ec17",
   "metadata": {},
   "outputs": [],
   "source": [
    "# synthcity absolute\n",
    "from synthcity.utils.serialization import load, load_from_file, save, save_to_file\n",
    "\n",
    "buff = save(syn_model)\n",
    "\n",
    "type(buff)"
   ]
  },
  {
   "cell_type": "code",
   "execution_count": null,
   "id": "97705c18",
   "metadata": {},
   "outputs": [],
   "source": [
    "reloaded = load(buff)\n",
    "\n",
    "reloaded.name()"
   ]
  },
  {
   "cell_type": "markdown",
   "id": "45ec9f15",
   "metadata": {},
   "source": [
    "## Plot real-synthetic distributions\n",
    "\n",
    "Compared to the general case, the survival-analysis data includes KM plots for real and synthetic data."
   ]
  },
  {
   "cell_type": "code",
   "execution_count": null,
   "id": "e5d01567",
   "metadata": {
    "scrolled": false
   },
   "outputs": [],
   "source": [
    "# third party\n",
    "import matplotlib.pyplot as plt\n",
    "\n",
    "syn_model.plot(plt, loader)\n",
    "\n",
    "plt.show()"
   ]
  },
  {
   "cell_type": "markdown",
   "id": "37db52b9",
   "metadata": {},
   "source": [
    "## Benchmark the quality of plugins\n",
    "\n",
    "For survival analysis, general purpose generators can be used as well."
   ]
  },
  {
   "cell_type": "code",
   "execution_count": null,
   "id": "dbda7d3b",
   "metadata": {
    "scrolled": false
   },
   "outputs": [],
   "source": [
    "# synthcity absolute\n",
    "from synthcity.benchmark import Benchmarks\n",
    "\n",
    "score = Benchmarks.evaluate(\n",
    "    [\n",
    "        (f\"test_{model}\", model, {}),\n",
    "        for model in [\"adsgan\", \"survival_gan\", \"survae\"]\n",
    "    ],\n",
    "    loader,\n",
    "    synthetic_size=1000,\n",
    "    repeats=2,\n",
    ")"
   ]
  },
  {
   "cell_type": "code",
   "execution_count": null,
   "id": "057a9004",
   "metadata": {
    "scrolled": false
   },
   "outputs": [],
   "source": [
    "Benchmarks.print(score)"
   ]
  },
  {
   "cell_type": "code",
   "execution_count": null,
   "id": "7fa5f89a",
   "metadata": {},
   "outputs": [],
   "source": [
    "# third party\n",
    "import numpy as np\n",
    "import pandas as pd\n",
    "\n",
    "means = []\n",
    "for plugin in score:\n",
    "    data = score[plugin][\"mean\"]\n",
    "    directions = score[plugin][\"direction\"].to_dict()\n",
    "    means.append(data)\n",
    "\n",
    "out = pd.concat(means, axis=1)\n",
    "out.set_axis(score.keys(), axis=1, inplace=True)\n",
    "\n",
    "bad_highlight = \"background-color: lightcoral;\"\n",
    "ok_highlight = \"background-color: green;\"\n",
    "default = \"\"\n",
    "\n",
    "\n",
    "def highlights(row):\n",
    "    metric = row.name\n",
    "    if directions[metric] == \"minimize\":\n",
    "        best_val = np.min(row.values)\n",
    "        worst_val = np.max(row)\n",
    "    else:\n",
    "        best_val = np.max(row.values)\n",
    "        worst_val = np.min(row)\n",
    "\n",
    "    styles = []\n",
    "    for val in row.values:\n",
    "        if val == best_val:\n",
    "            styles.append(ok_highlight)\n",
    "        elif val == worst_val:\n",
    "            styles.append(bad_highlight)\n",
    "        else:\n",
    "            styles.append(default)\n",
    "\n",
    "    return styles\n",
    "\n",
    "\n",
    "out.style.apply(highlights, axis=1)"
   ]
  },
  {
   "cell_type": "markdown",
   "id": "cbdb2a3e",
   "metadata": {},
   "source": [
    "# "
   ]
  }
 ],
 "metadata": {
  "kernelspec": {
   "display_name": "Python 3 (ipykernel)",
   "language": "python",
   "name": "python3"
  },
  "language_info": {
   "codemirror_mode": {
    "name": "ipython",
    "version": 3
   },
   "file_extension": ".py",
   "mimetype": "text/x-python",
   "name": "python",
   "nbconvert_exporter": "python",
   "pygments_lexer": "ipython3",
   "version": "3.9.15"
  }
 },
 "nbformat": 4,
 "nbformat_minor": 5
}
