{
 "cells": [
  {
   "cell_type": "markdown",
   "metadata": {
    "collapsed": true
   },
   "source": [
    "# Importing time series data\n",
    "\n",
    "Time series data is a sequence of data points collected over time, such as daily humidity levels, weekly number of t-shirt orders or tons of grain harvested per month. Time series forecasting is used in many different fields, including economics, medicine, engineering, and the climatology.\n",
    "\n",
    "synthcity supports different forms of tabular data including time series data. To work with your own data in synthcity it is important to make it compatible with the TimeSeriesDataLoader. This tutorial will cover the basics of how to make your data compatible."
   ]
  },
  {
   "cell_type": "code",
   "execution_count": null,
   "metadata": {},
   "outputs": [],
   "source": [
    "!pip install synthcity\n",
    "!pip uninstall -y torchaudio torchdata"
   ]
  },
  {
   "cell_type": "code",
   "execution_count": null,
   "metadata": {},
   "outputs": [],
   "source": [
    "# stdlib\n",
    "import sys\n",
    "import warnings\n",
    "\n",
    "# synthcity absolute\n",
    "import synthcity.logger as log\n",
    "from synthcity.plugins import Plugins\n",
    "from synthcity.plugins.core.dataloader import TimeSeriesDataLoader\n",
    "\n",
    "log.add(sink=sys.stderr, level=\"INFO\")\n",
    "warnings.filterwarnings(\"ignore\")"
   ]
  },
  {
   "cell_type": "markdown",
   "metadata": {},
   "source": [
    "We simulate our data as two dataframes: a dataframe containing data (eg, age, sex) and a dataframe containing temporal data (eg, body temperature over time)"
   ]
  },
  {
   "cell_type": "code",
   "execution_count": null,
   "metadata": {},
   "outputs": [],
   "source": [
    "# stdlib\n",
    "import datetime\n",
    "import uuid\n",
    "\n",
    "# third party\n",
    "# import libraries for generating simulated data\n",
    "import numpy as np\n",
    "import pandas as pd\n",
    "\n",
    "# set the number of individuals and observations per individual you want to generate\n",
    "num_subj = 200\n",
    "num_obs = 10\n",
    "\n",
    "# generate static data\n",
    "ids = [uuid.uuid4().hex[:6].upper() for i in range(num_subj)]\n",
    "static_data = pd.DataFrame(\n",
    "    {\n",
    "        \"id\": ids,\n",
    "        \"var_a\": np.random.randint(2, size=(num_subj)),\n",
    "        \"var_b\": np.random.normal(loc=2, scale=0.5, size=(num_subj)),\n",
    "        \"outcome\": np.random.binomial(1, 0.7, size=(num_subj)),\n",
    "    }\n",
    ")\n",
    "\n",
    "# generate temporal data\n",
    "temp_len = num_obs * len(ids)\n",
    "temp_ids = ids * num_obs\n",
    "timepoints = [i for i in range(num_obs)] * num_subj\n",
    "\n",
    "temporal_data = pd.DataFrame(\n",
    "    {\n",
    "        \"id\": temp_ids,\n",
    "        \"temp_a\": np.random.normal(loc=0, scale=0.2, size=(temp_len)),\n",
    "        \"temp_b\": np.random.normal(loc=5, scale=1, size=(temp_len)),\n",
    "        \"temp_c\": np.random.binomial(1, 0.5, size=(temp_len)),\n",
    "        \"timepoint\": timepoints,\n",
    "    }\n",
    ")"
   ]
  },
  {
   "cell_type": "markdown",
   "metadata": {},
   "source": [
    "Now there are two dataframes: a static and a temporal one. To understand how the data needs to be rearranged, you need to understand how it is imported by the `TimeSeriesDataLoader`. The `TimeSeriesDataLoader` takes four inputs: `temporal_data`, `observation_times`, `static_data` and `outcome`.\n",
    "\n",
    "`temporal_data` is a list of dataframes each subject. Each dataframe contains a set of observations/measurements. The index of the dataframes can be anything.\n",
    "`observation_times` : A list of arrays that maps directly to the index of each dataframe in temporal_data. It's when each measurement was taken.\n",
    "`static_data` is a DataFrame of static features for each subject, like gender, city, etc.\n",
    "`outcome` is a dataframe that can be for anything : labels, regression outcome, forecasting etc.\n",
    "\n",
    "It is important to note that `temporal_data`, `observation_times`, `static_data` and `outcome` must have the same length\n",
    "\n",
    "Knowing this we can rearrange our data."
   ]
  },
  {
   "cell_type": "code",
   "execution_count": null,
   "metadata": {},
   "outputs": [],
   "source": [
    "# rearrange static data\n",
    "outcome_data = static_data[[\"outcome\"]]\n",
    "static_data = static_data.drop(columns=[\"outcome\"])\n",
    "\n",
    "# rearrange temporal data\n",
    "observation_data, temporal_dataframes = ([] for i in range(2))\n",
    "for id in static_data[\"id\"].unique():\n",
    "    temp_df = temporal_data[temporal_data[\"id\"] == id]\n",
    "    observations = temp_df[\"timepoint\"].tolist()\n",
    "    temp_df.set_index(\"timepoint\", inplace=True)\n",
    "    temp_df = temp_df.drop(columns=[\"id\"])\n",
    "    # add each to list\n",
    "    observation_data.append(observations)\n",
    "    temporal_dataframes.append(temp_df)\n",
    "\n",
    "# instantiate time series data loader\n",
    "loader = TimeSeriesDataLoader(\n",
    "    temporal_data=temporal_dataframes,\n",
    "    observation_times=observation_data,\n",
    "    static_data=static_data,\n",
    "    outcome=outcome_data,\n",
    ")"
   ]
  },
  {
   "cell_type": "markdown",
   "metadata": {},
   "source": [
    "Now that we have rearranged our data and loaded with the `TimeSeriesDataLoader` we can train our model"
   ]
  },
  {
   "cell_type": "code",
   "execution_count": null,
   "metadata": {},
   "outputs": [],
   "source": [
    "syn_model = Plugins().get(\"timegan\")\n",
    "\n",
    "syn_model.fit(loader)"
   ]
  },
  {
   "cell_type": "markdown",
   "metadata": {},
   "source": [
    "Next we train our model"
   ]
  },
  {
   "cell_type": "code",
   "execution_count": null,
   "metadata": {},
   "outputs": [],
   "source": [
    "syn_model.generate(count=10).dataframe()"
   ]
  },
  {
   "cell_type": "code",
   "execution_count": null,
   "metadata": {},
   "outputs": [],
   "source": [
    "# synthcity absolute\n",
    "from synthcity.benchmark import Benchmarks\n",
    "\n",
    "score = Benchmarks.evaluate(\n",
    "    [\n",
    "        (f\"test_{model}\", model, {})\n",
    "        for model in [\"timegan\"]\n",
    "    ],\n",
    "    loader,\n",
    "    synthetic_size=1000,\n",
    "    repeats=2,\n",
    "    task_type=\"time_series\",  # time_series_survival or time_series\n",
    ")"
   ]
  },
  {
   "cell_type": "code",
   "execution_count": null,
   "metadata": {},
   "outputs": [],
   "source": [
    "Benchmarks.print(score)"
   ]
  },
  {
   "cell_type": "markdown",
   "metadata": {},
   "source": [
    "## Congratulations!\n",
    "\n",
    "Congratulations on completing this notebook tutorial! If you enjoyed this and would like to join the movement towards Machine learning and AI for medicine, you can do so in the following ways!\n",
    "\n",
    "### Star [Synthcity](https://github.com/vanderschaarlab/synthcity) on GitHub\n",
    "\n",
    "- The easiest way to help our community is just by starring the Repos! This helps raise awareness of the tools we're building.\n",
    "\n",
    "### Checkout other projects from vanderschaarlab\n",
    "- [HyperImpute](https://github.com/vanderschaarlab/hyperimpute)\n",
    "- [AutoPrognosis](https://github.com/vanderschaarlab/autoprognosis)"
   ]
  }
 ],
 "metadata": {
  "kernelspec": {
   "display_name": "Python 3 (ipykernel)",
   "language": "python",
   "name": "python3"
  },
  "language_info": {
   "codemirror_mode": {
    "name": "ipython",
    "version": 3
   },
   "file_extension": ".py",
   "mimetype": "text/x-python",
   "name": "python",
   "nbconvert_exporter": "python",
   "pygments_lexer": "ipython3",
   "version": "3.9.16"
  }
 },
 "nbformat": 4,
 "nbformat_minor": 1
}
