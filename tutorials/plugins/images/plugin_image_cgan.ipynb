{
 "cells": [
  {
   "cell_type": "markdown",
   "id": "d30e7633",
   "metadata": {},
   "source": [
    "# Conditional Image GAN"
   ]
  },
  {
   "cell_type": "code",
   "execution_count": null,
   "id": "fda150d4",
   "metadata": {},
   "outputs": [],
   "source": [
    "# stdlib\n",
    "import warnings\n",
    "\n",
    "warnings.filterwarnings(\"ignore\")\n",
    "\n",
    "# synthcity absolute\n",
    "from synthcity.plugins import Plugins\n",
    "\n",
    "eval_plugin = \"image_cgan\""
   ]
  },
  {
   "cell_type": "markdown",
   "id": "28dcf470",
   "metadata": {},
   "source": [
    "### Load dataset\n"
   ]
  },
  {
   "cell_type": "code",
   "execution_count": null,
   "id": "82bb1afd",
   "metadata": {},
   "outputs": [],
   "source": [
    "# third party\n",
    "from torchvision import datasets, transforms\n",
    "\n",
    "# synthcity absolute\n",
    "from synthcity.plugins.core.dataloader import ImageDataLoader\n",
    "\n",
    "IMG_SIZE = 32\n",
    "\n",
    "dataset = datasets.MNIST(\".\", download=True)\n",
    "loader = ImageDataLoader(\n",
    "    dataset,\n",
    "    height=IMG_SIZE,\n",
    ").sample(1000)\n",
    "\n",
    "loader.shape"
   ]
  },
  {
   "cell_type": "markdown",
   "id": "e597a396",
   "metadata": {},
   "source": [
    "### Train the generator\n"
   ]
  },
  {
   "cell_type": "code",
   "execution_count": null,
   "id": "8d846eee",
   "metadata": {},
   "outputs": [],
   "source": [
    "# synthcity absolute\n",
    "from synthcity.plugins import Plugins\n",
    "\n",
    "syn_model = Plugins().get(eval_plugin, batch_size=100, plot_progress=True, n_iter=100)\n",
    "\n",
    "syn_model.fit(loader)"
   ]
  },
  {
   "cell_type": "markdown",
   "id": "4cc54562",
   "metadata": {},
   "source": [
    "### Generate new samples\n"
   ]
  },
  {
   "cell_type": "code",
   "execution_count": null,
   "id": "821cff43",
   "metadata": {},
   "outputs": [],
   "source": [
    "# third party\n",
    "import torch\n",
    "\n",
    "# synthcity absolute\n",
    "from synthcity.plugins.core.models.image_gan import display_imgs\n",
    "\n",
    "syn_samples, syn_labels = syn_model.generate(count=5).unpack().tensors()\n",
    "\n",
    "display_imgs(syn_samples)"
   ]
  },
  {
   "cell_type": "markdown",
   "id": "2be8a8da",
   "metadata": {},
   "source": [
    "### Benchmarks"
   ]
  },
  {
   "cell_type": "code",
   "execution_count": null,
   "id": "e7e19494",
   "metadata": {},
   "outputs": [],
   "source": [
    "# synthcity absolute\n",
    "from synthcity.benchmark import Benchmarks\n",
    "\n",
    "score = Benchmarks.evaluate(\n",
    "    [\n",
    "        (eval_plugin, eval_plugin, {\"n_iter\": 50})\n",
    "    ],  # (testname, plugin, plugin_args) REPLACE {\"n_iter\" : 50} with {} for better performance\n",
    "    loader,\n",
    "    repeats=2,\n",
    "    metrics={\"detection\": [\"detection_mlp\"]},  # DELETE THIS LINE FOR ALL METRICS\n",
    "    task_type=\"classification\",\n",
    ")"
   ]
  },
  {
   "cell_type": "code",
   "execution_count": null,
   "id": "b25c1964",
   "metadata": {},
   "outputs": [],
   "source": [
    "Benchmarks.print(score)"
   ]
  },
  {
   "cell_type": "code",
   "execution_count": null,
   "id": "81a0507e",
   "metadata": {},
   "outputs": [],
   "source": []
  }
 ],
 "metadata": {
  "kernelspec": {
   "display_name": "Python 3 (ipykernel)",
   "language": "python",
   "name": "python3"
  },
  "language_info": {
   "codemirror_mode": {
    "name": "ipython",
    "version": 3
   },
   "file_extension": ".py",
   "mimetype": "text/x-python",
   "name": "python",
   "nbconvert_exporter": "python",
   "pygments_lexer": "ipython3",
   "version": "3.9.16"
  }
 },
 "nbformat": 4,
 "nbformat_minor": 5
}
