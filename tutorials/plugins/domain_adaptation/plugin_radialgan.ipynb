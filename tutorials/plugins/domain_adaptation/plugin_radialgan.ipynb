{
 "cells": [
  {
   "cell_type": "code",
   "execution_count": null,
   "id": "07dff44f",
   "metadata": {},
   "outputs": [],
   "source": [
    "# stdlib\n",
    "import warnings\n",
    "\n",
    "# third party\n",
    "from sklearn.datasets import load_iris\n",
    "\n",
    "# synthcity absolute\n",
    "from synthcity.plugins.core.dataloader import GenericDataLoader\n",
    "\n",
    "warnings.filterwarnings(\"ignore\")"
   ]
  },
  {
   "cell_type": "markdown",
   "id": "63019e12",
   "metadata": {},
   "source": [
    "## Load data and create a DataLoader with the domain feature"
   ]
  },
  {
   "cell_type": "code",
   "execution_count": null,
   "id": "e0494d11",
   "metadata": {},
   "outputs": [],
   "source": [
    "Xraw, y = load_iris(return_X_y=True, as_frame=True)\n",
    "Xraw[\"domain\"] = y\n",
    "\n",
    "# Domain adaptation plugins require specifying the domain_column\n",
    "X = GenericDataLoader(Xraw, domain_column=\"domain\")\n",
    "\n",
    "Xraw"
   ]
  },
  {
   "cell_type": "markdown",
   "id": "46611c41",
   "metadata": {},
   "source": [
    "## Train generator"
   ]
  },
  {
   "cell_type": "code",
   "execution_count": null,
   "id": "ad28310c",
   "metadata": {},
   "outputs": [],
   "source": [
    "# synthcity absolute\n",
    "from synthcity.plugins import Plugins\n",
    "\n",
    "model = Plugins().get(\"radialgan\", n_iter=500)\n",
    "\n",
    "model.fit(X)"
   ]
  },
  {
   "cell_type": "markdown",
   "id": "352e3751",
   "metadata": {},
   "source": [
    "## Generate synthetic data"
   ]
  },
  {
   "cell_type": "code",
   "execution_count": null,
   "id": "ceb3cecd",
   "metadata": {},
   "outputs": [],
   "source": [
    "model.generate(10)"
   ]
  },
  {
   "cell_type": "markdown",
   "id": "1a34a059",
   "metadata": {},
   "source": [
    "## Generate synthetic data for a specific domain"
   ]
  },
  {
   "cell_type": "code",
   "execution_count": null,
   "id": "b45f97b6",
   "metadata": {},
   "outputs": [],
   "source": [
    "gen_dom_2 = model.generate(10, domains=[2])\n",
    "\n",
    "assert gen_dom_2[\"domain\"].unique() == [2]\n",
    "\n",
    "gen_dom_2"
   ]
  },
  {
   "cell_type": "code",
   "execution_count": null,
   "id": "4cb23406",
   "metadata": {},
   "outputs": [],
   "source": []
  }
 ],
 "metadata": {
  "kernelspec": {
   "display_name": "Python 3 (ipykernel)",
   "language": "python",
   "name": "python3"
  },
  "language_info": {
   "codemirror_mode": {
    "name": "ipython",
    "version": 3
   },
   "file_extension": ".py",
   "mimetype": "text/x-python",
   "name": "python",
   "nbconvert_exporter": "python",
   "pygments_lexer": "ipython3",
   "version": "3.8.13"
  }
 },
 "nbformat": 4,
 "nbformat_minor": 5
}
