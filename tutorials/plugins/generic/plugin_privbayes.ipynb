{
 "cells": [
  {
   "cell_type": "code",
   "execution_count": null,
   "id": "9014ca75",
   "metadata": {},
   "outputs": [],
   "source": [
    "import warnings\n",
    "warnings.filterwarnings('ignore')\n",
    "\n",
    "from sklearn.datasets import load_diabetes\n",
    "from synthcity.plugins import Plugins\n",
    "\n",
    "eval_plugin = \"privbayes\""
   ]
  },
  {
   "cell_type": "code",
   "execution_count": null,
   "id": "2934fedb",
   "metadata": {},
   "outputs": [],
   "source": [
    "# Load dataset\n",
    "X, y = load_diabetes(return_X_y=True, as_frame=True)\n",
    "X[\"target\"] = y\n",
    "\n",
    "X"
   ]
  },
  {
   "cell_type": "code",
   "execution_count": null,
   "id": "738b0d7d",
   "metadata": {
    "scrolled": false
   },
   "outputs": [],
   "source": [
    "# Train the generator\n",
    "from synthcity.plugins import Plugins\n",
    "\n",
    "syn_model = Plugins().get(eval_plugin)\n",
    "\n",
    "syn_model.fit(X)"
   ]
  },
  {
   "cell_type": "code",
   "execution_count": null,
   "id": "7468e4d3",
   "metadata": {},
   "outputs": [],
   "source": [
    "# Generate new samples\n",
    "\n",
    "syn_model.generate(count = 10)\n"
   ]
  },
  {
   "cell_type": "code",
   "execution_count": null,
   "id": "e84ad464",
   "metadata": {
    "scrolled": false
   },
   "outputs": [],
   "source": [
    "import matplotlib.pyplot as plt\n",
    "\n",
    "syn_model.plot(plt, X)\n",
    "\n",
    "plt.show()"
   ]
  },
  {
   "cell_type": "code",
   "execution_count": null,
   "id": "7ea2d1cc",
   "metadata": {},
   "outputs": [],
   "source": [
    "# Benchmark\n",
    "from synthcity.benchmark import Benchmarks\n",
    "\n",
    "score = Benchmarks.evaluate(\n",
    "    [eval_plugin],\n",
    "    X,\n",
    "    sensitive_columns = [\"sex\"],\n",
    "    repeats = 3,\n",
    ")"
   ]
  },
  {
   "cell_type": "code",
   "execution_count": null,
   "id": "3f424c9c",
   "metadata": {},
   "outputs": [],
   "source": [
    "Benchmarks.print(score)"
   ]
  },
  {
   "cell_type": "code",
   "execution_count": null,
   "id": "6ef32446",
   "metadata": {},
   "outputs": [],
   "source": []
  }
 ],
 "metadata": {
  "kernelspec": {
   "display_name": "Python 3 (ipykernel)",
   "language": "python",
   "name": "python3"
  },
  "language_info": {
   "codemirror_mode": {
    "name": "ipython",
    "version": 3
   },
   "file_extension": ".py",
   "mimetype": "text/x-python",
   "name": "python",
   "nbconvert_exporter": "python",
   "pygments_lexer": "ipython3",
   "version": "3.8.12"
  }
 },
 "nbformat": 4,
 "nbformat_minor": 5
}
