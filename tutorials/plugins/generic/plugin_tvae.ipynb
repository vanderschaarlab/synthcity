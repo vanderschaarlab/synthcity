{
 "cells": [
  {
   "cell_type": "code",
   "execution_count": null,
   "id": "fda150d4",
   "metadata": {},
   "outputs": [],
   "source": [
    "import warnings\n",
    "warnings.filterwarnings('ignore')\n",
    "\n",
    "from sklearn.datasets import load_diabetes\n",
    "from synthcity.plugins import Plugins\n",
    "\n",
    "eval_plugin = \"tvae\""
   ]
  },
  {
   "cell_type": "code",
   "execution_count": null,
   "id": "82bb1afd",
   "metadata": {},
   "outputs": [],
   "source": [
    "# Load dataset\n",
    "X, y = load_diabetes(return_X_y=True, as_frame=True)\n",
    "X[\"target\"] = y\n",
    "\n",
    "X"
   ]
  },
  {
   "cell_type": "code",
   "execution_count": null,
   "id": "8d846eee",
   "metadata": {},
   "outputs": [],
   "source": [
    "# Train the generator\n",
    "from synthcity.plugins import Plugins\n",
    "\n",
    "syn_model = Plugins().get(eval_plugin)\n",
    "\n",
    "syn_model.fit(X)"
   ]
  },
  {
   "cell_type": "code",
   "execution_count": null,
   "id": "821cff43",
   "metadata": {},
   "outputs": [],
   "source": [
    "# Generate new samples\n",
    "\n",
    "syn_model.generate(count = 10)\n"
   ]
  },
  {
   "cell_type": "code",
   "execution_count": null,
   "id": "203cdb5b",
   "metadata": {
    "scrolled": false
   },
   "outputs": [],
   "source": [
    "import matplotlib.pyplot as plt\n",
    "\n",
    "syn_model.plot(plt, X)\n",
    "\n",
    "plt.show()"
   ]
  },
  {
   "cell_type": "code",
   "execution_count": null,
   "id": "e7e19494",
   "metadata": {},
   "outputs": [],
   "source": [
    "# Benchmark\n",
    "from synthcity.benchmark import Benchmarks\n",
    "\n",
    "score = Benchmarks.evaluate(\n",
    "    [eval_plugin],\n",
    "    X,\n",
    "    sensitive_columns = [\"sex\"],\n",
    "    repeats = 3,\n",
    ")"
   ]
  },
  {
   "cell_type": "code",
   "execution_count": null,
   "id": "b25c1964",
   "metadata": {},
   "outputs": [],
   "source": [
    "Benchmarks.print(score)"
   ]
  },
  {
   "cell_type": "code",
   "execution_count": null,
   "id": "81a0507e",
   "metadata": {},
   "outputs": [],
   "source": []
  }
 ],
 "metadata": {
  "kernelspec": {
   "display_name": "Python 3 (ipykernel)",
   "language": "python",
   "name": "python3"
  },
  "language_info": {
   "codemirror_mode": {
    "name": "ipython",
    "version": 3
   },
   "file_extension": ".py",
   "mimetype": "text/x-python",
   "name": "python",
   "nbconvert_exporter": "python",
   "pygments_lexer": "ipython3",
   "version": "3.8.12"
  }
 },
 "nbformat": 4,
 "nbformat_minor": 5
}
