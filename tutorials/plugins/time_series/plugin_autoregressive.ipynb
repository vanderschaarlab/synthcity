{
 "cells": [
  {
   "cell_type": "markdown",
   "id": "4f82f7ec",
   "metadata": {},
   "source": [
    "# Synthetic time series generation using Probabilistic Autoregressive models.\n",
    "\n"
   ]
  },
  {
   "cell_type": "code",
   "execution_count": null,
   "id": "9738ce7c",
   "metadata": {},
   "outputs": [],
   "source": [
    "# stdlib\n",
    "import warnings\n",
    "\n",
    "# synthcity absolute\n",
    "from synthcity.plugins import Plugins\n",
    "from synthcity.plugins.core.dataloader import TimeSeriesDataLoader\n",
    "from synthcity.utils.datasets.time_series.google_stocks import GoogleStocksDataloader\n",
    "\n",
    "warnings.filterwarnings(\"ignore\")\n",
    "\n",
    "\n",
    "eval_plugin = \"probabilistic_ar\""
   ]
  },
  {
   "cell_type": "markdown",
   "id": "7acae0d4",
   "metadata": {},
   "source": [
    "### Load data"
   ]
  },
  {
   "cell_type": "code",
   "execution_count": null,
   "id": "807b5d98",
   "metadata": {},
   "outputs": [],
   "source": [
    "# Load data\n",
    "static_data, temporal_data, horizons, outcome = GoogleStocksDataloader().load()\n",
    "loader = TimeSeriesDataLoader(\n",
    "    temporal_data=temporal_data,\n",
    "    observation_times=horizons,\n",
    "    static_data=static_data,\n",
    "    outcome=outcome,\n",
    ")\n",
    "\n",
    "loader.dataframe()"
   ]
  },
  {
   "cell_type": "markdown",
   "id": "7ee6f99c",
   "metadata": {},
   "source": [
    "### Train the generator"
   ]
  },
  {
   "cell_type": "code",
   "execution_count": null,
   "id": "57d50324",
   "metadata": {},
   "outputs": [],
   "source": [
    "# synthcity absolute\n",
    "# Train the generator\n",
    "from synthcity.plugins import Plugins\n",
    "\n",
    "syn_model = Plugins().get(eval_plugin, n_iter=50)\n",
    "\n",
    "syn_model.fit(loader)"
   ]
  },
  {
   "cell_type": "markdown",
   "id": "c3f6b3a5",
   "metadata": {},
   "source": [
    "### Generate new samples"
   ]
  },
  {
   "cell_type": "code",
   "execution_count": null,
   "id": "685249e6",
   "metadata": {},
   "outputs": [],
   "source": [
    "# Generate new samples\n",
    "\n",
    "syn_model.generate(count=10).dataframe()"
   ]
  },
  {
   "cell_type": "code",
   "execution_count": null,
   "id": "9cd6d175",
   "metadata": {
    "scrolled": false
   },
   "outputs": [],
   "source": [
    "# third party\n",
    "import matplotlib.pyplot as plt\n",
    "\n",
    "syn_model.plot(plt, loader, count=100, plots=[\"tsne\"])\n",
    "\n",
    "plt.show()"
   ]
  },
  {
   "cell_type": "markdown",
   "id": "1d9cf023",
   "metadata": {},
   "source": [
    "### Benchmark the generator"
   ]
  },
  {
   "cell_type": "code",
   "execution_count": null,
   "id": "234931ec",
   "metadata": {},
   "outputs": [],
   "source": [
    "# synthcity absolute\n",
    "from synthcity.benchmark import Benchmarks\n",
    "\n",
    "score = Benchmarks.evaluate(\n",
    "    [\n",
    "        (f\"eval_plugin_{eval_plugin}\", eval_plugin, {\"n_iter\": 50})\n",
    "    ],  # REPLACE {\"n_iter\" : 50}) with {} for better performance\n",
    "    loader,\n",
    "    task_type=\"time_series\",\n",
    "    repeats=2,\n",
    "    metrics={\"detection\": [\"detection_mlp\"]},  # DELETE THIS LINE FOR ALL METRICS\n",
    ")"
   ]
  },
  {
   "cell_type": "code",
   "execution_count": null,
   "id": "effe6d74",
   "metadata": {},
   "outputs": [],
   "source": [
    "Benchmarks.print(score)"
   ]
  }
 ],
 "metadata": {
  "kernelspec": {
   "display_name": "Python 3 (ipykernel)",
   "language": "python",
   "name": "python3"
  },
  "language_info": {
   "codemirror_mode": {
    "name": "ipython",
    "version": 3
   },
   "file_extension": ".py",
   "mimetype": "text/x-python",
   "name": "python",
   "nbconvert_exporter": "python",
   "pygments_lexer": "ipython3",
   "version": "3.9.13"
  }
 },
 "nbformat": 4,
 "nbformat_minor": 5
}
