{
 "cells": [
  {
   "cell_type": "code",
   "execution_count": null,
   "id": "885d3517",
   "metadata": {},
   "outputs": [],
   "source": [
    "import warnings\n",
    "from synthcity.plugins import Plugins\n",
    "from synthcity.utils.datasets.time_series.sine import SineDataloader\n",
    "from synthcity.plugins.core.dataloader import TimeSeriesDataLoader\n",
    "\n",
    "warnings.filterwarnings(\"ignore\")\n",
    "\n",
    "\n",
    "eval_plugin = \"ctgan\""
   ]
  },
  {
   "cell_type": "code",
   "execution_count": null,
   "id": "9112098b",
   "metadata": {},
   "outputs": [],
   "source": [
    "# Load data\n",
    "static_data, temporal_data, outcome = SineDataloader(5000).load()\n",
    "loader = TimeSeriesDataLoader(\n",
    "     temporal_data=temporal_data,\n",
    "     static_data=static_data,\n",
    "     outcome=outcome,\n",
    ")\n",
    "\n",
    "loader.dataframe()"
   ]
  },
  {
   "cell_type": "code",
   "execution_count": null,
   "id": "f662eec5",
   "metadata": {},
   "outputs": [],
   "source": [
    "# Train the generator\n",
    "from synthcity.plugins import Plugins\n",
    "\n",
    "syn_model = Plugins().get(eval_plugin)\n",
    "\n",
    "syn_model.fit(loader)"
   ]
  },
  {
   "cell_type": "code",
   "execution_count": null,
   "id": "6d98fdfa",
   "metadata": {},
   "outputs": [],
   "source": [
    "# Generate new samples\n",
    "\n",
    "syn_model.generate(count=10).dataframe()"
   ]
  },
  {
   "cell_type": "code",
   "execution_count": null,
   "id": "f8470f3d",
   "metadata": {
    "scrolled": false
   },
   "outputs": [],
   "source": [
    "#plot\n",
    "\n",
    "import matplotlib.pyplot as plt\n",
    "\n",
    "syn_model.plot(plt, loader, plots = [\"tsne\"])\n",
    "\n",
    "plt.show()"
   ]
  },
  {
   "cell_type": "code",
   "execution_count": null,
   "id": "cfb5c9ef",
   "metadata": {},
   "outputs": [],
   "source": [
    "# Benchmark\n",
    "from synthcity.benchmark import Benchmarks\n",
    "\n",
    "score = Benchmarks.evaluate(\n",
    "    [eval_plugin],\n",
    "    loader,\n",
    "    repeats=2,\n",
    ")"
   ]
  },
  {
   "cell_type": "code",
   "execution_count": null,
   "id": "8f5d81ba",
   "metadata": {},
   "outputs": [],
   "source": []
  }
 ],
 "metadata": {
  "kernelspec": {
   "display_name": "Python 3 (ipykernel)",
   "language": "python",
   "name": "python3"
  },
  "language_info": {
   "codemirror_mode": {
    "name": "ipython",
    "version": 3
   },
   "file_extension": ".py",
   "mimetype": "text/x-python",
   "name": "python",
   "nbconvert_exporter": "python",
   "pygments_lexer": "ipython3",
   "version": "3.8.12"
  }
 },
 "nbformat": 4,
 "nbformat_minor": 5
}
