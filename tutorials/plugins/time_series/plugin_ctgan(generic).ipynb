{
 "cells": [
  {
   "cell_type": "code",
   "execution_count": null,
   "id": "624c7bc3",
   "metadata": {},
   "outputs": [],
   "source": [
    "# stdlib\n",
    "import warnings\n",
    "\n",
    "# synthcity absolute\n",
    "from synthcity.plugins import Plugins\n",
    "from synthcity.plugins.core.dataloader import TimeSeriesDataLoader\n",
    "from synthcity.utils.datasets.time_series.google_stocks import GoogleStocksDataloader\n",
    "\n",
    "warnings.filterwarnings(\"ignore\")\n",
    "\n",
    "\n",
    "eval_plugin = \"ctgan\""
   ]
  },
  {
   "cell_type": "code",
   "execution_count": null,
   "id": "f0f29162",
   "metadata": {},
   "outputs": [],
   "source": [
    "# Load data\n",
    "static_data, temporal_data, horizons, outcome = GoogleStocksDataloader().load()\n",
    "loader = TimeSeriesDataLoader(\n",
    "    temporal_data=temporal_data,\n",
    "    temporal_horizons=horizons,\n",
    "    static_data=static_data,\n",
    "    outcome=outcome,\n",
    ")\n",
    "\n",
    "loader.dataframe()"
   ]
  },
  {
   "cell_type": "code",
   "execution_count": null,
   "id": "9ab2a53c",
   "metadata": {},
   "outputs": [],
   "source": [
    "# synthcity absolute\n",
    "# Train the generator\n",
    "from synthcity.plugins import Plugins\n",
    "\n",
    "syn_model = Plugins().get(eval_plugin, n_iter=50)\n",
    "\n",
    "syn_model.fit(loader)"
   ]
  },
  {
   "cell_type": "code",
   "execution_count": null,
   "id": "cefcf697",
   "metadata": {},
   "outputs": [],
   "source": [
    "# Generate new samples\n",
    "\n",
    "syn_model.generate(count=10).dataframe()"
   ]
  },
  {
   "cell_type": "code",
   "execution_count": null,
   "id": "8aa32c7f",
   "metadata": {
    "scrolled": false
   },
   "outputs": [],
   "source": [
    "# plot\n",
    "\n",
    "# third party\n",
    "import matplotlib.pyplot as plt\n",
    "\n",
    "syn_model.plot(plt, loader, count=1000, plots=[\"tsne\"])\n",
    "\n",
    "plt.show()"
   ]
  },
  {
   "cell_type": "code",
   "execution_count": null,
   "id": "949eeef2",
   "metadata": {},
   "outputs": [],
   "source": [
    "# synthcity absolute\n",
    "# Benchmark\n",
    "from synthcity.benchmark import Benchmarks\n",
    "\n",
    "score = Benchmarks.evaluate(\n",
    "    [eval_plugin],\n",
    "    loader,\n",
    "    task_type=\"time_series\",\n",
    "    repeats=2,\n",
    ")"
   ]
  },
  {
   "cell_type": "code",
   "execution_count": null,
   "id": "530f0cc2",
   "metadata": {},
   "outputs": [],
   "source": [
    "Benchmarks.print(score)"
   ]
  },
  {
   "cell_type": "code",
   "execution_count": null,
   "id": "6263f5a8",
   "metadata": {},
   "outputs": [],
   "source": []
  }
 ],
 "metadata": {
  "kernelspec": {
   "display_name": "Python 3 (ipykernel)",
   "language": "python",
   "name": "python3"
  },
  "language_info": {
   "codemirror_mode": {
    "name": "ipython",
    "version": 3
   },
   "file_extension": ".py",
   "mimetype": "text/x-python",
   "name": "python",
   "nbconvert_exporter": "python",
   "pygments_lexer": "ipython3",
   "version": "3.9.13"
  }
 },
 "nbformat": 4,
 "nbformat_minor": 5
}
