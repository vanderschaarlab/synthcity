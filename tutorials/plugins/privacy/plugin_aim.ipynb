{
 "cells": [
  {
   "attachments": {},
   "cell_type": "markdown",
   "metadata": {},
   "source": [
    "# Adaptive and Iterative Mechanism for Differentially Private Synthetic Data\n",
    "\n",
    "This method is designed for categorical data."
   ]
  },
  {
   "cell_type": "code",
   "execution_count": null,
   "metadata": {},
   "outputs": [],
   "source": [
    "# stdlib\n",
    "import warnings\n",
    "import sys\n",
    "\n",
    "warnings.filterwarnings(\"ignore\")\n",
    "\n",
    "\n",
    "# synthcity absolute\n",
    "from synthcity.plugins import Plugins\n",
    "from synthcity.utils.datasets.categorical.categorical_adult import CategoricalAdultDataloader\n",
    "import synthcity.logger as log\n",
    "log.add(sink=sys.stderr, level=\"INFO\")\n",
    "\n",
    "eval_plugin = \"aim\""
   ]
  },
  {
   "attachments": {},
   "cell_type": "markdown",
   "metadata": {},
   "source": [
    "### Load dataset"
   ]
  },
  {
   "cell_type": "code",
   "execution_count": null,
   "metadata": {},
   "outputs": [],
   "source": [
    "# synthcity absolute\n",
    "from synthcity.plugins.core.dataloader import GenericDataLoader\n",
    "\n",
    "X = CategoricalAdultDataloader().load()\n",
    "loader = GenericDataLoader(X, target_column=\"income>50K\", sensitive_columns=[\"sex\", \"race\"])\n",
    "\n",
    "loader.dataframe()"
   ]
  },
  {
   "attachments": {},
   "cell_type": "markdown",
   "metadata": {},
   "source": [
    "### Train the generator"
   ]
  },
  {
   "cell_type": "code",
   "execution_count": null,
   "metadata": {},
   "outputs": [],
   "source": [
    "# synthcity absolute\n",
    "from synthcity.plugins import Plugins\n",
    "\n",
    "syn_model = Plugins().get(eval_plugin)\n"
   ]
  },
  {
   "cell_type": "code",
   "execution_count": null,
   "metadata": {},
   "outputs": [],
   "source": [
    "\n",
    "syn_model.fit(loader)"
   ]
  },
  {
   "attachments": {},
   "cell_type": "markdown",
   "metadata": {},
   "source": [
    "### Generate new samples"
   ]
  },
  {
   "cell_type": "code",
   "execution_count": null,
   "metadata": {},
   "outputs": [],
   "source": [
    "syn_model.generate(count=10).dataframe()"
   ]
  },
  {
   "cell_type": "code",
   "execution_count": null,
   "metadata": {},
   "outputs": [],
   "source": [
    "# third party\n",
    "import matplotlib.pyplot as plt\n",
    "\n",
    "syn_model.plot(plt, loader, count=100)\n",
    "\n",
    "plt.show()"
   ]
  },
  {
   "attachments": {},
   "cell_type": "markdown",
   "metadata": {},
   "source": [
    "### Benchmarks"
   ]
  },
  {
   "cell_type": "code",
   "execution_count": null,
   "metadata": {},
   "outputs": [],
   "source": [
    "# synthcity absolute\n",
    "from synthcity.benchmark import Benchmarks\n",
    "\n",
    "score = Benchmarks.evaluate(\n",
    "    [\n",
    "        (eval_plugin, eval_plugin, {\"epsilon\": 1.0, \"delta\": 1e-7, \"max_model_size\": 80, \"degree\": 2, \"num_marginals\": None, \"max_cells\": 1000}),\n",
    "    ],  # (testname, plugin, plugin_args) The plugin_args are given are simply to illustrate some of the paramters that can be passed to the plugin\n",
    "    loader,\n",
    "    repeats=2,\n",
    "    metrics={\n",
    "        \"detection\": [\"detection_mlp\"],\n",
    "        \"privacy\": [\"distinct l-diversity\", \"k-anonymization\", \"k-map\"],\n",
    "    },\n",
    ")"
   ]
  },
  {
   "cell_type": "code",
   "execution_count": null,
   "metadata": {},
   "outputs": [],
   "source": [
    "Benchmarks.print(score)"
   ]
  }
 ],
 "metadata": {
  "kernelspec": {
   "display_name": "synthcity-all",
   "language": "python",
   "name": "python3"
  },
  "language_info": {
   "codemirror_mode": {
    "name": "ipython",
    "version": 3
   },
   "file_extension": ".py",
   "mimetype": "text/x-python",
   "name": "python",
   "nbconvert_exporter": "python",
   "pygments_lexer": "ipython3",
   "version": "3.9.16"
  },
  "orig_nbformat": 4
 },
 "nbformat": 4,
 "nbformat_minor": 2
}
