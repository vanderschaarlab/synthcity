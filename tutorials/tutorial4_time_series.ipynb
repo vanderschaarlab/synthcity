{
 "cells": [
  {
   "cell_type": "markdown",
   "id": "97e2d93c",
   "metadata": {},
   "source": [
    "# Tutorial 4: Generating Time-Series ad Time-Series Survival data\n",
    "\n",
    "__Time series__ prediction is a type of forecasting in which a model is trained on a sequence of historical data and then used to predict future values of that sequence. A time series is a sequence of data points collected at regular intervals over time, such as daily temperature measurements or weekly sales figures. Time series prediction is used in a wide range of applications, including finance, economics, engineering, and the physical sciences.\n",
    "\n",
    "It's worth noting that Time series prediction is challenging because the future is often uncertain and can be affected by a wide range of unpredictable factors, therefore, evaluating the performance of the prediction model is crucial and various metrics such as mean squared error, mean absolute error, and root mean squared error are commonly used for this.\n",
    "\n",
    "`synthcity` includes models targeting specific tabular modalities. One of the specific modalities is for __time series__. The general-purpose models can also be used for this task.\n",
    "\n",
    "The main requirement of survival-analysis is to use a `TimeSeriesDataLoader`/`TimeSeriesSurvivalDataLoader` dataloader."
   ]
  },
  {
   "cell_type": "code",
   "execution_count": null,
   "id": "696e0157",
   "metadata": {
    "scrolled": false
   },
   "outputs": [],
   "source": [
    "# stdlib\n",
    "import sys\n",
    "import warnings\n",
    "\n",
    "# synthcity absolute\n",
    "import synthcity.logger as log\n",
    "from synthcity.plugins import Plugins\n",
    "from synthcity.plugins.core.dataloader import TimeSeriesSurvivalDataLoader\n",
    "\n",
    "log.add(sink=sys.stderr, level=\"INFO\")\n",
    "warnings.filterwarnings(\"ignore\")"
   ]
  },
  {
   "cell_type": "code",
   "execution_count": null,
   "id": "824a4685",
   "metadata": {},
   "outputs": [],
   "source": [
    "import numpy as np\n",
    "from synthcity.utils.datasets.time_series.pbc import PBCDataloader\n",
    "\n",
    "(\n",
    "    static_surv,\n",
    "    temporal_surv,\n",
    "    temporal_surv_horizons,\n",
    "    outcome_surv,\n",
    ") = PBCDataloader().load()\n",
    "T, E = outcome_surv\n",
    "\n",
    "horizons = [0.25, 0.5, 0.75]\n",
    "time_horizons = np.quantile(T, horizons).tolist()\n",
    "\n",
    "loader = TimeSeriesSurvivalDataLoader(\n",
    "    temporal_data=temporal_surv,\n",
    "    observation_times=temporal_surv_horizons,\n",
    "    static_data=static_surv,\n",
    "    T=T,\n",
    "    E=E,\n",
    "    time_horizons=time_horizons,\n",
    ")\n",
    "\n",
    "loader.dataframe()"
   ]
  },
  {
   "cell_type": "markdown",
   "id": "5c13c616",
   "metadata": {},
   "source": [
    "## List the available generative models"
   ]
  },
  {
   "cell_type": "code",
   "execution_count": null,
   "id": "70553275",
   "metadata": {},
   "outputs": [],
   "source": [
    "# synthcity absolute\n",
    "from synthcity.plugins import Plugins\n",
    "\n",
    "Plugins(categories=[\"generic\", \"time_series\"]).list()"
   ]
  },
  {
   "cell_type": "markdown",
   "id": "4a3f2fe6",
   "metadata": {},
   "source": [
    "## Load and train a generative model"
   ]
  },
  {
   "cell_type": "code",
   "execution_count": null,
   "id": "790ed0dd",
   "metadata": {},
   "outputs": [],
   "source": [
    "# synthcity absolute\n",
    "from synthcity.plugins import Plugins\n",
    "\n",
    "syn_model = Plugins().get(\"timegan\")\n",
    "\n",
    "syn_model.fit(loader)"
   ]
  },
  {
   "cell_type": "markdown",
   "id": "574e1eeb",
   "metadata": {},
   "source": [
    "## Generate new data using the model"
   ]
  },
  {
   "cell_type": "code",
   "execution_count": null,
   "id": "cc96a182",
   "metadata": {},
   "outputs": [],
   "source": [
    "syn_model.generate(count=10).dataframe()"
   ]
  },
  {
   "cell_type": "markdown",
   "id": "45ec9f15",
   "metadata": {},
   "source": [
    "## Plot real-synthetic distributions\n",
    "\n",
    "Compared to the general case, the survival-analysis data includes KM plots for real and synthetic data."
   ]
  },
  {
   "cell_type": "code",
   "execution_count": null,
   "id": "e5d01567",
   "metadata": {
    "scrolled": false
   },
   "outputs": [],
   "source": [
    "# third party\n",
    "import matplotlib.pyplot as plt\n",
    "\n",
    "syn_model.plot(plt, loader)\n",
    "\n",
    "plt.show()"
   ]
  },
  {
   "cell_type": "markdown",
   "id": "e9ae6ad9",
   "metadata": {},
   "source": [
    "## Benchmarking metrics\n",
    "\n",
    "| **Metric**                                         | **Description**                                                                                                            |\n",
    "|----------------------------------------------------|----------------------------------------------------------------------------------------------------------------------------|\n",
    "| sanity.data\\_mismatch.score                        | Data types mismatch between the real//synthetic features                                                                   |\n",
    "| sanity.common\\_rows\\_proportion.score              | Real data copy-paste in the synthetic data                                                                                 |\n",
    "| sanity.nearest\\_syn\\_neighbor\\_distance.mean       | Computes the \\textless{}reduction\\textgreater{}(distance) from the real data to the closest neighbor in the synthetic data |\n",
    "| sanity.close\\_values\\_probability.score            | the probability of close values between the real and synthetic data.                                                       |\n",
    "| sanity.distant\\_values\\_probability.score          | the probability of distant values between the real and synthetic data.                                                     |\n",
    "| stats.jensenshannon\\_dist.marginal                 | the average Jensen-Shannon distance                                                                                        |\n",
    "| stats.chi\\_squared\\_test.marginal                  | the one-way chi-square test.                                                                                               |\n",
    "| stats.feature\\_corr.joint                          | the correlation/strength-of-association of features in data-set with both categorical and continuous features              |\n",
    "| stats.inv\\_kl\\_divergence.marginal                 | the average inverse of the Kullback–Leibler Divergence metric.                                                             |\n",
    "| stats.ks\\_test.marginal                            | the Kolmogorov-Smirnov test for goodness of fit.                                                                           |\n",
    "| stats.max\\_mean\\_discrepancy.joint                 | Empirical maximum mean discrepancy. The lower the result the more evidence that distributions are the same.                |\n",
    "| stats.prdc.precision                               | precision between the two manifolds                                                                                        |\n",
    "| stats.prdc.recall                                  | recall between the two manifolds                                                                                           |\n",
    "| stats.prdc.density                                 | density between the two manifolds                                                                                          |\n",
    "| stats.prdc.coverage                                | coverage between the two manifolds                                                                                         |\n",
    "| stats.alpha\\_precision.delta\\_precision\\_alpha\\_OC | Delta precision                                                                                                            |\n",
    "| stats.alpha\\_precision.delta\\_coverage\\_beta\\_OC   | Delta coverage                                                                                                             |\n",
    "| stats.alpha\\_precision.authenticity\\_OC            | Authetnticity                                                                                                              |\n",
    "| stats.survival\\_km\\_distance.optimism              | Kaplan-Meier distance between real-synthetic data                                                                          |\n",
    "| stats.survival\\_km\\_distance.abs\\_optimism         | Kaplan-Meier metrics absolute distance between real-syn data                                                               |\n",
    "| stats.survival\\_km\\_distance.sightedness           | Kaplan-Meier metrics distance on the temporal axis                                                                         |\n",
    "| performance.linear\\_model.gt.c\\_index              | Train on real, test on the test real data using CoxPH: C-Index                                                             |\n",
    "| performance.linear\\_model.gt.brier\\_score          | Train on real, test on the test real data using CoxPH: Brier score                                                         |\n",
    "| performance.linear\\_model.syn\\_id.c\\_index         | Train on synthetic, test on the train real data using CoxPH: C-Index                                                       |\n",
    "| performance.linear\\_model.syn\\_id.brier\\_score     | Train on synthetic, test on the train real data using CoxPH: Brier score                                                   |\n",
    "| performance.linear\\_model.syn\\_ood.c\\_index        | Train on synthetic, test on the test real data using CoxPH: C-Index                                                        |\n",
    "| performance.linear\\_model.syn\\_ood.brier\\_score    | Train on synthetic, test on the test real data using CoxPH: Brier score                                                    |\n",
    "| performance.mlp.gt.c\\_index                        | Train on real, test on the test real data using NN: C-Index                                                                |\n",
    "| performance.mlp.gt.brier\\_score                    | Train on real, test on the test real data using NN : Brier score                                                           |\n",
    "| performance.mlp.syn\\_id.c\\_index                   | Train on synthetic, test on the train real data using NN: C-Index                                                          |\n",
    "| performance.mlp.syn\\_id.brier\\_score               | Train on synthetic, test on the train real data using NN: Brier score                                                      |\n",
    "| performance.mlp.syn\\_ood.c\\_index                  | Train on synthetic, test on the test real data using NN: C-Index                                                           |\n",
    "| performance.mlp.syn\\_ood.brier\\_score              | Train on synthetic, test on the test real data using NN: Brier score                                                       |\n",
    "| performance.xgb.gt.c\\_index                        | Train on real, test on the test real data using XGB: C-Index                                                               |\n",
    "| performance.xgb.gt.brier\\_score                    | Train on real, test on the test real data using XGB : Brier score                                                          |\n",
    "| performance.xgb.syn\\_id.c\\_index                   | Train on synthetic, test on the train real data using XGB: C-Index                                                         |\n",
    "| performance.xgb.syn\\_id.brier\\_score               | Train on synthetic, test on the train real data using XGB: Brier score                                                     |\n",
    "| performance.xgb.syn\\_ood.c\\_index                  | Train on synthetic, test on the test real data using XGB: C-Index                                                          |\n",
    "| performance.xgb.syn\\_ood.brier\\_score              | Train on synthetic, test on the test real data using XGB: Brier score                                                      |\n",
    "| performance.feat\\_rank\\_distance.corr              | Correlation for the rank distances between the feature importance on real and synthetic data                               |\n",
    "| performance.feat\\_rank\\_distance.pvalue            | p-vale for the rank distances between the feature importance on real and synthetic data                                    |\n",
    "| detection.detection\\_xgb.mean                      | The average AUCROC score for detecting synthetic data using an XGBoost.                                                    |\n",
    "| detection.detection\\_mlp.mean                      | The average AUCROC score for detecting synthetic data using a NN.                                                          |\n",
    "| detection.detection\\_gmm.mean                      | The average AUCROC score for detecting synthetic data using a GMM.                                                         |\n",
    "| privacy.delta-presence.score                       | the maximum re-identification probability on the real dataset from the synthetic dataset.                                  |\n",
    "| privacy.k-anonymization.gt                         | the k-anon for the real data                                                                                               |\n",
    "| privacy.k-anonymization.syn                        | the k-anon for the synthetic data                                                                                          |\n",
    "| privacy.k-map.score                                | the minimum value k that satisfies the k-map rule.                                                                         |\n",
    "| privacy.distinct l-diversity.gt                    | the l-diversity for the real data                                                                                          |\n",
    "| privacy.distinct l-diversity.syn                   | the l-diversity for the synthetic data                                                                                     |\n",
    "| privacy.identifiability\\_score.score               | the re-identification score on the real dataset from the synthetic dataset.                                                |"
   ]
  },
  {
   "cell_type": "markdown",
   "id": "37db52b9",
   "metadata": {},
   "source": [
    "## Benchmark the quality of plugins\n",
    "\n",
    "For survival analysis, general purpose generators can be used as well."
   ]
  },
  {
   "cell_type": "code",
   "execution_count": null,
   "id": "dbda7d3b",
   "metadata": {
    "scrolled": false
   },
   "outputs": [],
   "source": [
    "# synthcity absolute\n",
    "from synthcity.benchmark import Benchmarks\n",
    "\n",
    "score = Benchmarks.evaluate(\n",
    "    [\n",
    "        (f\"test_{model}\", model, {})\n",
    "        for model in [\"adsgan\", \"timegan\", \"probabilistic_ar\"]\n",
    "    ],\n",
    "    loader,\n",
    "    synthetic_size=1000,\n",
    "    repeats=2,\n",
    "    task_type=\"time_series_survival\",  # time_series_survival or time_series\n",
    ")"
   ]
  },
  {
   "cell_type": "code",
   "execution_count": null,
   "id": "057a9004",
   "metadata": {
    "scrolled": false
   },
   "outputs": [],
   "source": [
    "Benchmarks.print(score)"
   ]
  },
  {
   "cell_type": "markdown",
   "id": "7e40f452",
   "metadata": {},
   "source": [
    "## Congratulations!\n",
    "\n",
    "Congratulations on completing this notebook tutorial! If you enjoyed this and would like to join the movement towards Machine learning and AI for medicine, you can do so in the following ways!\n",
    "\n",
    "### Star [Synthcity](https://github.com/vanderschaarlab/synthcity) on GitHub\n",
    "\n",
    "- The easiest way to help our community is just by starring the Repos! This helps raise awareness of the tools we're building.\n",
    "\n",
    "\n",
    "### Checkout other projects from vanderschaarlab\n",
    "- [HyperImpute](https://github.com/vanderschaarlab/hyperimpute)\n",
    "- [AutoPrognosis](https://github.com/vanderschaarlab/autoprognosis)\n"
   ]
  }
 ],
 "metadata": {
  "kernelspec": {
   "display_name": "Python 3 (ipykernel)",
   "language": "python",
   "name": "python3"
  },
  "language_info": {
   "codemirror_mode": {
    "name": "ipython",
    "version": 3
   },
   "file_extension": ".py",
   "mimetype": "text/x-python",
   "name": "python",
   "nbconvert_exporter": "python",
   "pygments_lexer": "ipython3",
   "version": "3.9.15"
  }
 },
 "nbformat": 4,
 "nbformat_minor": 5
}
