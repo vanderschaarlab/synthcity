{
 "cells": [
  {
   "cell_type": "code",
   "execution_count": 86,
   "id": "733120b1",
   "metadata": {},
   "outputs": [],
   "source": [
    "import numpy as np\n",
    "\n",
    "from pycox import datasets\n",
    "from lifelines.datasets import load_rossi\n",
    "from sksurv.datasets import (\n",
    "    load_aids,\n",
    "    load_breast_cancer,\n",
    "    load_flchain,\n",
    "    load_gbsg2,\n",
    "    load_whas500,\n",
    ")\n",
    "from sklearn.preprocessing import LabelEncoder\n",
    "\n",
    "\n",
    "def get_dataset(name: str):\n",
    "    if name == \"metabric\":\n",
    "        df = datasets.metabric.read_df()\n",
    "    elif name == \"support\":\n",
    "        df = datasets.support.read_df()\n",
    "    elif name == \"gbsg\":\n",
    "        df = datasets.gbsg.read_df()\n",
    "    elif name == \"rossi\":\n",
    "        df = load_rossi()\n",
    "        df = df.rename(columns={\"week\": \"duration\", \"arrest\": \"event\"})\n",
    "    elif name == \"aids\":\n",
    "        X, Y = load_aids()\n",
    "        Y_unp = np.array(Y, dtype=[(\"event\", \"int\"), (\"duration\", \"float\")])\n",
    "        df = X.copy()\n",
    "        df[\"event\"] = Y_unp[\"event\"]\n",
    "        df[\"duration\"] = Y_unp[\"duration\"]\n",
    "    elif name == \"flchain\":\n",
    "        X, Y = load_flchain()\n",
    "        Y_unp = np.array(Y, dtype=[(\"event\", \"int\"), (\"duration\", \"float\")])\n",
    "        df = X.copy()\n",
    "        df[\"event\"] = Y_unp[\"event\"]\n",
    "        df[\"duration\"] = Y_unp[\"duration\"]\n",
    "    elif name == \"gbsg2\":\n",
    "        X, Y = load_gbsg2()\n",
    "        Y_unp = np.array(Y, dtype=[(\"event\", \"int\"), (\"duration\", \"float\")])\n",
    "        df = X.copy()\n",
    "        df[\"event\"] = Y_unp[\"event\"]\n",
    "        df[\"duration\"] = Y_unp[\"duration\"]\n",
    "    elif name == \"whas500\":\n",
    "        X, Y = load_whas500()\n",
    "        Y_unp = np.array(Y, dtype=[(\"event\", \"int\"), (\"duration\", \"float\")])\n",
    "        df = X.copy()\n",
    "        df[\"event\"] = Y_unp[\"event\"]\n",
    "        df[\"duration\"] = Y_unp[\"duration\"]\n",
    "\n",
    "    for col in df.columns:\n",
    "        if df[col].dtype.name in [\"object\", \"category\"]:\n",
    "            df[col] = LabelEncoder().fit_transform(df[col])\n",
    "\n",
    "    duration_col = \"duration\"\n",
    "    event_col = \"event\"\n",
    "\n",
    "    X = df.drop(columns=[duration_col, event_col])\n",
    "    Y = df[event_col]\n",
    "    T = df[duration_col]\n",
    "\n",
    "    time_horizons = np.linspace(T.min(), T.max(), num=5)[1:-1]\n",
    "\n",
    "    return df, X, T, Y, time_horizons"
   ]
  },
  {
   "cell_type": "code",
   "execution_count": 87,
   "id": "1f7740a4",
   "metadata": {},
   "outputs": [],
   "source": [
    "from synthcity.plugins import Plugins\n",
    "from adjutorium.utils.tester import evaluate_survival_estimator\n",
    "from adjutorium.plugins.prediction.risk_estimation import RiskEstimation\n",
    "import pandas as pd\n",
    "\n",
    "\n",
    "def constant_columns(dataframe: pd.DataFrame) -> list:\n",
    "    \"\"\"\n",
    "    Drops constant value columns of pandas dataframe.\n",
    "    \"\"\"\n",
    "    result = []\n",
    "    for column in dataframe.columns:\n",
    "        if len(dataframe[column].unique()) == 1:\n",
    "            result.append(column)\n",
    "    return result\n",
    "\n",
    "\n",
    "def _train_and_evaluate(\n",
    "    X_train, T_train, Y_train, X_test, T_test, Y_test, time_horizons, n_folds=3\n",
    "):\n",
    "    predictor = RiskEstimation().get(\"survival_xgboost\")\n",
    "    n_folds = 3\n",
    "\n",
    "    const_cols = constant_columns(X_train)\n",
    "    X_train = X_train.drop(columns=const_cols)\n",
    "    X_test = X_test.drop(columns=const_cols)\n",
    "    try:\n",
    "        predictor.fit(X_train, T_train, Y_train)\n",
    "\n",
    "        return evaluate_survival_estimator(\n",
    "            [predictor] * n_folds,\n",
    "            X_test,\n",
    "            T_test,\n",
    "            Y_test,\n",
    "            time_horizons=time_horizons,\n",
    "            n_folds=n_folds,\n",
    "            pretrained=True,\n",
    "        )[\"str\"]\n",
    "\n",
    "    except BaseException:\n",
    "        return {\n",
    "            \"c_index\": \"0 +/-0\",\n",
    "            \"aucroc\": \"0 +/- 0\",\n",
    "            \"brier_score\": \"1 +/- 0\",\n",
    "        }\n",
    "\n",
    "\n",
    "def _fold_evaluate(\n",
    "    X_test,\n",
    "    T_test,\n",
    "    Y_test,\n",
    "    time_horizons,\n",
    "    n_folds=3,\n",
    "):\n",
    "    predictor = RiskEstimation().get(\"survival_xgboost\")\n",
    "    n_folds = 3\n",
    "\n",
    "    const_cols = constant_columns(X_test)\n",
    "    X_test = X_test.drop(columns=const_cols)\n",
    "\n",
    "    try:\n",
    "        return evaluate_survival_estimator(\n",
    "            predictor,\n",
    "            X_test,\n",
    "            T_test,\n",
    "            Y_test,\n",
    "            time_horizons=time_horizons,\n",
    "            n_folds=n_folds,\n",
    "        )[\"str\"]\n",
    "    except BaseException:\n",
    "        return {\n",
    "            \"c_index\": \"0 +/-0\",\n",
    "            \"aucroc\": \"0 +/- 0\",\n",
    "            \"brier_score\": \"1 +/- 0\",\n",
    "        }\n",
    "\n",
    "\n",
    "def evaluate_surv_generation(generative_method: str, dataset: str):\n",
    "    df, X_real, T_real, Y_real, time_horizons = get_dataset(dataset)\n",
    "\n",
    "    syn_model = Plugins().get(generative_method)\n",
    "    syn_model.fit(df)\n",
    "\n",
    "    df_generated = syn_model.generate()\n",
    "\n",
    "    X_syn = df_generated.drop(columns=[\"duration\", \"event\"])\n",
    "    Y_syn = df_generated[\"event\"]\n",
    "    T_syn = df_generated[\"duration\"]\n",
    "\n",
    "    real_real_score = _fold_evaluate(X_real, T_real, Y_real, time_horizons)\n",
    "    syn_syn_score = _fold_evaluate(X_syn, T_syn, Y_syn, time_horizons)\n",
    "    real_syn_score = _train_and_evaluate(\n",
    "        X_real, T_real, Y_real, X_syn, T_syn, Y_syn, time_horizons\n",
    "    )\n",
    "    syn_real_score = _train_and_evaluate(\n",
    "        X_syn, T_syn, Y_syn, X_real, T_real, Y_real, time_horizons\n",
    "    )\n",
    "\n",
    "    return {\n",
    "        \"real_real\": real_real_score,\n",
    "        \"syn_syn\": syn_syn_score,\n",
    "        \"real_syn\": real_syn_score,\n",
    "        \"syn_real\": syn_real_score,\n",
    "    }"
   ]
  },
  {
   "cell_type": "code",
   "execution_count": 106,
   "id": "6549c43a",
   "metadata": {},
   "outputs": [],
   "source": [
    "import tabulate\n",
    "from IPython.display import HTML, display\n",
    "\n",
    "\n",
    "def evaluate_dataset(dataset):\n",
    "    model_metrics = {}\n",
    "\n",
    "    for generator in Plugins().list():\n",
    "        try:\n",
    "            model_metrics[generator] = evaluate_surv_generation(generator, dataset)\n",
    "        except BaseException as e:\n",
    "            print(\"generator failed\", generator, e)\n",
    "            continue\n",
    "\n",
    "    return model_metrics\n",
    "\n",
    "\n",
    "def plot_metrics(model_metrics):\n",
    "    for metric in [\"c_index\", \"aucroc\", \"brier_score\"]:\n",
    "        headers = [\"generator\", \"real_real\", \"syn_syn\", \"real_syn\", \"syn_real\"]\n",
    "\n",
    "        results = []\n",
    "        for generator in model_metrics:\n",
    "            local_results = [\n",
    "                generator,\n",
    "                model_metrics[generator][\"real_real\"][metric],\n",
    "                model_metrics[generator][\"syn_syn\"][metric],\n",
    "                model_metrics[generator][\"real_syn\"][metric],\n",
    "                model_metrics[generator][\"syn_real\"][metric],\n",
    "            ]\n",
    "            results.append(local_results)\n",
    "\n",
    "        print(metric)\n",
    "        display(HTML(tabulate.tabulate(results, headers=headers, tablefmt=\"html\")))"
   ]
  },
  {
   "cell_type": "code",
   "execution_count": 89,
   "id": "28b87d4b",
   "metadata": {},
   "outputs": [],
   "source": [
    "# Automl templates\n",
    "\n",
    "import sys\n",
    "import synthcity.logger as log\n",
    "from adjutorium.plugins.prediction.risk_estimation import RiskEstimation\n",
    "from adjutorium.utils.tester import evaluate_survival_estimator\n",
    "\n",
    "log.remove()\n",
    "log.add(sink=sys.stderr, level=\"CRITICAL\")\n",
    "\n",
    "\n",
    "def _trial_params(trial, param_space):\n",
    "    out = {}\n",
    "\n",
    "    for param in param_space:\n",
    "        if hasattr(param, \"choices\"):\n",
    "            out[param.name] = trial.suggest_categorical(\n",
    "                param.name, choices=param.choices\n",
    "            )\n",
    "        elif hasattr(param, \"step\"):\n",
    "            out[param.name] = trial.suggest_int(\n",
    "                param.name, param.low, param.high, param.step\n",
    "            )\n",
    "        else:\n",
    "            out[param.name] = trial.suggest_float(param.name, param.low, param.high)\n",
    "\n",
    "    return out"
   ]
  },
  {
   "cell_type": "markdown",
   "id": "d3d23f67",
   "metadata": {},
   "source": [
    "## AIDS dataset"
   ]
  },
  {
   "cell_type": "code",
   "execution_count": 98,
   "id": "a4dbe168",
   "metadata": {},
   "outputs": [
    {
     "data": {
      "text/html": [
       "<div>\n",
       "<style scoped>\n",
       "    .dataframe tbody tr th:only-of-type {\n",
       "        vertical-align: middle;\n",
       "    }\n",
       "\n",
       "    .dataframe tbody tr th {\n",
       "        vertical-align: top;\n",
       "    }\n",
       "\n",
       "    .dataframe thead th {\n",
       "        text-align: right;\n",
       "    }\n",
       "</style>\n",
       "<table border=\"1\" class=\"dataframe\">\n",
       "  <thead>\n",
       "    <tr style=\"text-align: right;\">\n",
       "      <th></th>\n",
       "      <th>age</th>\n",
       "      <th>cd4</th>\n",
       "      <th>hemophil</th>\n",
       "      <th>ivdrug</th>\n",
       "      <th>karnof</th>\n",
       "      <th>priorzdv</th>\n",
       "      <th>raceth</th>\n",
       "      <th>sex</th>\n",
       "      <th>strat2</th>\n",
       "      <th>tx</th>\n",
       "      <th>txgrp</th>\n",
       "      <th>event</th>\n",
       "      <th>duration</th>\n",
       "    </tr>\n",
       "  </thead>\n",
       "  <tbody>\n",
       "    <tr>\n",
       "      <th>0</th>\n",
       "      <td>34.0</td>\n",
       "      <td>169.0</td>\n",
       "      <td>0</td>\n",
       "      <td>0</td>\n",
       "      <td>0</td>\n",
       "      <td>39.0</td>\n",
       "      <td>0</td>\n",
       "      <td>0</td>\n",
       "      <td>1</td>\n",
       "      <td>0</td>\n",
       "      <td>0</td>\n",
       "      <td>0</td>\n",
       "      <td>189.0</td>\n",
       "    </tr>\n",
       "    <tr>\n",
       "      <th>1</th>\n",
       "      <td>34.0</td>\n",
       "      <td>149.5</td>\n",
       "      <td>0</td>\n",
       "      <td>0</td>\n",
       "      <td>3</td>\n",
       "      <td>15.0</td>\n",
       "      <td>1</td>\n",
       "      <td>1</td>\n",
       "      <td>1</td>\n",
       "      <td>0</td>\n",
       "      <td>0</td>\n",
       "      <td>0</td>\n",
       "      <td>287.0</td>\n",
       "    </tr>\n",
       "    <tr>\n",
       "      <th>2</th>\n",
       "      <td>20.0</td>\n",
       "      <td>23.5</td>\n",
       "      <td>1</td>\n",
       "      <td>0</td>\n",
       "      <td>0</td>\n",
       "      <td>9.0</td>\n",
       "      <td>0</td>\n",
       "      <td>0</td>\n",
       "      <td>0</td>\n",
       "      <td>1</td>\n",
       "      <td>1</td>\n",
       "      <td>0</td>\n",
       "      <td>242.0</td>\n",
       "    </tr>\n",
       "    <tr>\n",
       "      <th>3</th>\n",
       "      <td>48.0</td>\n",
       "      <td>46.0</td>\n",
       "      <td>0</td>\n",
       "      <td>0</td>\n",
       "      <td>3</td>\n",
       "      <td>53.0</td>\n",
       "      <td>0</td>\n",
       "      <td>0</td>\n",
       "      <td>1</td>\n",
       "      <td>0</td>\n",
       "      <td>0</td>\n",
       "      <td>0</td>\n",
       "      <td>199.0</td>\n",
       "    </tr>\n",
       "    <tr>\n",
       "      <th>4</th>\n",
       "      <td>46.0</td>\n",
       "      <td>10.0</td>\n",
       "      <td>0</td>\n",
       "      <td>2</td>\n",
       "      <td>3</td>\n",
       "      <td>12.0</td>\n",
       "      <td>0</td>\n",
       "      <td>0</td>\n",
       "      <td>0</td>\n",
       "      <td>1</td>\n",
       "      <td>1</td>\n",
       "      <td>0</td>\n",
       "      <td>286.0</td>\n",
       "    </tr>\n",
       "    <tr>\n",
       "      <th>...</th>\n",
       "      <td>...</td>\n",
       "      <td>...</td>\n",
       "      <td>...</td>\n",
       "      <td>...</td>\n",
       "      <td>...</td>\n",
       "      <td>...</td>\n",
       "      <td>...</td>\n",
       "      <td>...</td>\n",
       "      <td>...</td>\n",
       "      <td>...</td>\n",
       "      <td>...</td>\n",
       "      <td>...</td>\n",
       "      <td>...</td>\n",
       "    </tr>\n",
       "    <tr>\n",
       "      <th>1146</th>\n",
       "      <td>44.0</td>\n",
       "      <td>65.5</td>\n",
       "      <td>0</td>\n",
       "      <td>0</td>\n",
       "      <td>0</td>\n",
       "      <td>103.0</td>\n",
       "      <td>0</td>\n",
       "      <td>0</td>\n",
       "      <td>1</td>\n",
       "      <td>1</td>\n",
       "      <td>1</td>\n",
       "      <td>0</td>\n",
       "      <td>273.0</td>\n",
       "    </tr>\n",
       "    <tr>\n",
       "      <th>1147</th>\n",
       "      <td>41.0</td>\n",
       "      <td>7.5</td>\n",
       "      <td>0</td>\n",
       "      <td>0</td>\n",
       "      <td>2</td>\n",
       "      <td>20.0</td>\n",
       "      <td>1</td>\n",
       "      <td>0</td>\n",
       "      <td>0</td>\n",
       "      <td>1</td>\n",
       "      <td>1</td>\n",
       "      <td>1</td>\n",
       "      <td>47.0</td>\n",
       "    </tr>\n",
       "    <tr>\n",
       "      <th>1148</th>\n",
       "      <td>43.0</td>\n",
       "      <td>170.0</td>\n",
       "      <td>0</td>\n",
       "      <td>2</td>\n",
       "      <td>3</td>\n",
       "      <td>27.0</td>\n",
       "      <td>1</td>\n",
       "      <td>0</td>\n",
       "      <td>1</td>\n",
       "      <td>0</td>\n",
       "      <td>0</td>\n",
       "      <td>0</td>\n",
       "      <td>272.0</td>\n",
       "    </tr>\n",
       "    <tr>\n",
       "      <th>1149</th>\n",
       "      <td>44.0</td>\n",
       "      <td>282.5</td>\n",
       "      <td>0</td>\n",
       "      <td>2</td>\n",
       "      <td>2</td>\n",
       "      <td>12.0</td>\n",
       "      <td>0</td>\n",
       "      <td>0</td>\n",
       "      <td>1</td>\n",
       "      <td>0</td>\n",
       "      <td>0</td>\n",
       "      <td>0</td>\n",
       "      <td>192.0</td>\n",
       "    </tr>\n",
       "    <tr>\n",
       "      <th>1150</th>\n",
       "      <td>44.0</td>\n",
       "      <td>120.0</td>\n",
       "      <td>0</td>\n",
       "      <td>0</td>\n",
       "      <td>3</td>\n",
       "      <td>26.0</td>\n",
       "      <td>0</td>\n",
       "      <td>0</td>\n",
       "      <td>1</td>\n",
       "      <td>1</td>\n",
       "      <td>1</td>\n",
       "      <td>0</td>\n",
       "      <td>132.0</td>\n",
       "    </tr>\n",
       "  </tbody>\n",
       "</table>\n",
       "<p>1151 rows × 13 columns</p>\n",
       "</div>"
      ],
      "text/plain": [
       "       age    cd4  hemophil  ivdrug  karnof  priorzdv  raceth  sex  strat2  \\\n",
       "0     34.0  169.0         0       0       0      39.0       0    0       1   \n",
       "1     34.0  149.5         0       0       3      15.0       1    1       1   \n",
       "2     20.0   23.5         1       0       0       9.0       0    0       0   \n",
       "3     48.0   46.0         0       0       3      53.0       0    0       1   \n",
       "4     46.0   10.0         0       2       3      12.0       0    0       0   \n",
       "...    ...    ...       ...     ...     ...       ...     ...  ...     ...   \n",
       "1146  44.0   65.5         0       0       0     103.0       0    0       1   \n",
       "1147  41.0    7.5         0       0       2      20.0       1    0       0   \n",
       "1148  43.0  170.0         0       2       3      27.0       1    0       1   \n",
       "1149  44.0  282.5         0       2       2      12.0       0    0       1   \n",
       "1150  44.0  120.0         0       0       3      26.0       0    0       1   \n",
       "\n",
       "      tx  txgrp  event  duration  \n",
       "0      0      0      0     189.0  \n",
       "1      0      0      0     287.0  \n",
       "2      1      1      0     242.0  \n",
       "3      0      0      0     199.0  \n",
       "4      1      1      0     286.0  \n",
       "...   ..    ...    ...       ...  \n",
       "1146   1      1      0     273.0  \n",
       "1147   1      1      1      47.0  \n",
       "1148   0      0      0     272.0  \n",
       "1149   0      0      0     192.0  \n",
       "1150   1      1      0     132.0  \n",
       "\n",
       "[1151 rows x 13 columns]"
      ]
     },
     "execution_count": 98,
     "metadata": {},
     "output_type": "execute_result"
    }
   ],
   "source": [
    "import pandas as pd\n",
    "\n",
    "df, X_real, T_real, Y_real, time_horizons = get_dataset(\"aids\")\n",
    "\n",
    "df"
   ]
  },
  {
   "cell_type": "code",
   "execution_count": 99,
   "id": "e2b2aec2",
   "metadata": {},
   "outputs": [
    {
     "data": {
      "text/plain": [
       "{'c_index': '0.7374 +/- 0.0241',\n",
       " 'brier_score': '0.0623 +/- 0.0024',\n",
       " 'aucroc': '0.7385 +/- 0.0419'}"
      ]
     },
     "execution_count": 99,
     "metadata": {},
     "output_type": "execute_result"
    }
   ],
   "source": [
    "# Baseline evaluation\n",
    "from synthcity.plugins import Plugins\n",
    "from adjutorium.utils.tester import evaluate_survival_estimator\n",
    "from adjutorium.plugins.prediction.risk_estimation import RiskEstimation\n",
    "\n",
    "predictor = RiskEstimation().get_type(\"survival_xgboost\")\n",
    "n_folds = 3\n",
    "\n",
    "const_cols = constant_columns(X_real)\n",
    "X_real = X_real.drop(columns=const_cols)\n",
    "\n",
    "evaluate_survival_estimator(\n",
    "    predictor(),\n",
    "    X_real,\n",
    "    T_real,\n",
    "    Y_real,\n",
    "    time_horizons=time_horizons,\n",
    "    n_folds=n_folds,\n",
    ")[\"str\"]"
   ]
  },
  {
   "cell_type": "code",
   "execution_count": 100,
   "id": "6a5363d4",
   "metadata": {},
   "outputs": [
    {
     "name": "stdout",
     "output_type": "stream",
     "text": [
      "     fun: -5.346954018840134e+283\n",
      "     jac: array([-inf, -inf,  inf,  inf])\n",
      " message: 'Rank-deficient equality constraint subproblem HFTI'\n",
      "    nfev: 46\n",
      "     nit: 13\n",
      "    njev: 13\n",
      "  status: 7\n",
      " success: False\n",
      "       x: array([-1.01476494e+02, -5.05252821e-01,  3.02026426e+00,  1.41642475e-02])\n",
      "None\n"
     ]
    }
   ],
   "source": [
    "model_metrics = evaluate_dataset(\"aids\")"
   ]
  },
  {
   "cell_type": "code",
   "execution_count": 101,
   "id": "b5aa4726",
   "metadata": {},
   "outputs": [
    {
     "name": "stdout",
     "output_type": "stream",
     "text": [
      "c_index\n"
     ]
    },
    {
     "data": {
      "text/html": [
       "<table>\n",
       "<thead>\n",
       "<tr><th>generator             </th><th>real_real        </th><th>syn_syn          </th><th>real_syn         </th><th>syn_real         </th></tr>\n",
       "</thead>\n",
       "<tbody>\n",
       "<tr><td>nflow                 </td><td>0.7374 +/- 0.0241</td><td>0.7599 +/- 0.0261</td><td>0.7304 +/- 0.0405</td><td>0.6792 +/- 0.0231</td></tr>\n",
       "<tr><td>adsgan                </td><td>0.7374 +/- 0.0241</td><td>0.865 +/- 0.0177 </td><td>0.822 +/- 0.0243 </td><td>0.7223 +/- 0.0588</td></tr>\n",
       "<tr><td>bayesian_network      </td><td>0.7374 +/- 0.0241</td><td>0.5903 +/- 0.0127</td><td>0.5584 +/- 0.0246</td><td>0.6317 +/- 0.0397</td></tr>\n",
       "<tr><td>rtvae                 </td><td>0.7374 +/- 0.0241</td><td>0.7841 +/- 0.0151</td><td>0.631 +/- 0.0301 </td><td>0.6527 +/- 0.0459</td></tr>\n",
       "<tr><td>gaussian_copula       </td><td>0.7374 +/- 0.0241</td><td>0 +/-0           </td><td>0 +/-0           </td><td>0 +/-0           </td></tr>\n",
       "<tr><td>copulagan             </td><td>0.7374 +/- 0.0241</td><td>0 +/-0           </td><td>0 +/-0           </td><td>0 +/-0           </td></tr>\n",
       "<tr><td>ctgan                 </td><td>0.7374 +/- 0.0241</td><td>0 +/-0           </td><td>0.5103 +/- 0.0224</td><td>0.5098 +/- 0.0626</td></tr>\n",
       "<tr><td>tvae                  </td><td>0.7374 +/- 0.0241</td><td>0 +/-0           </td><td>0 +/-0           </td><td>0 +/-0           </td></tr>\n",
       "<tr><td>pategan               </td><td>0.7374 +/- 0.0241</td><td>0 +/-0           </td><td>0 +/-0           </td><td>0.5459 +/- 0.061 </td></tr>\n",
       "<tr><td>privbayes             </td><td>0.7374 +/- 0.0241</td><td>0 +/-0           </td><td>0.4996 +/- 0.0425</td><td>0.6269 +/- 0.0466</td></tr>\n",
       "<tr><td>marginal_distributions</td><td>0.7374 +/- 0.0241</td><td>0 +/-0           </td><td>0 +/-0           </td><td>0.5406 +/- 0.0557</td></tr>\n",
       "</tbody>\n",
       "</table>"
      ],
      "text/plain": [
       "<IPython.core.display.HTML object>"
      ]
     },
     "metadata": {},
     "output_type": "display_data"
    },
    {
     "name": "stdout",
     "output_type": "stream",
     "text": [
      "aucroc\n"
     ]
    },
    {
     "data": {
      "text/html": [
       "<table>\n",
       "<thead>\n",
       "<tr><th>generator             </th><th>real_real        </th><th>syn_syn          </th><th>real_syn         </th><th>syn_real         </th></tr>\n",
       "</thead>\n",
       "<tbody>\n",
       "<tr><td>nflow                 </td><td>0.7385 +/- 0.0419</td><td>0.7247 +/- 0.0163</td><td>0.7313 +/- 0.0358</td><td>0.6868 +/- 0.0426</td></tr>\n",
       "<tr><td>adsgan                </td><td>0.7385 +/- 0.0419</td><td>0.834 +/- 0.0079 </td><td>0.835 +/- 0.0275 </td><td>0.7325 +/- 0.0115</td></tr>\n",
       "<tr><td>bayesian_network      </td><td>0.7385 +/- 0.0419</td><td>0.5456 +/- 0.004 </td><td>0.5616 +/- 0.0371</td><td>0.6464 +/- 0.0216</td></tr>\n",
       "<tr><td>rtvae                 </td><td>0.7385 +/- 0.0419</td><td>0.7965 +/- 0.0277</td><td>0.7557 +/- 0.0259</td><td>0.6665 +/- 0.0097</td></tr>\n",
       "<tr><td>gaussian_copula       </td><td>0.7385 +/- 0.0419</td><td>0 +/- 0          </td><td>0 +/- 0          </td><td>0 +/- 0          </td></tr>\n",
       "<tr><td>copulagan             </td><td>0.7385 +/- 0.0419</td><td>0 +/- 0          </td><td>0 +/- 0          </td><td>0 +/- 0          </td></tr>\n",
       "<tr><td>ctgan                 </td><td>0.7385 +/- 0.0419</td><td>0 +/- 0          </td><td>0.504 +/- 0.0419 </td><td>0.5248 +/- 0.0205</td></tr>\n",
       "<tr><td>tvae                  </td><td>0.7385 +/- 0.0419</td><td>0 +/- 0          </td><td>0 +/- 0          </td><td>0 +/- 0          </td></tr>\n",
       "<tr><td>pategan               </td><td>0.7385 +/- 0.0419</td><td>0 +/- 0          </td><td>0 +/- 0          </td><td>0.5549 +/- 0.0161</td></tr>\n",
       "<tr><td>privbayes             </td><td>0.7385 +/- 0.0419</td><td>0 +/- 0          </td><td>0.5099 +/- 0.0806</td><td>0.6324 +/- 0.0186</td></tr>\n",
       "<tr><td>marginal_distributions</td><td>0.7385 +/- 0.0419</td><td>0 +/- 0          </td><td>0 +/- 0          </td><td>0.5398 +/- 0.0335</td></tr>\n",
       "</tbody>\n",
       "</table>"
      ],
      "text/plain": [
       "<IPython.core.display.HTML object>"
      ]
     },
     "metadata": {},
     "output_type": "display_data"
    },
    {
     "name": "stdout",
     "output_type": "stream",
     "text": [
      "brier_score\n"
     ]
    },
    {
     "data": {
      "text/html": [
       "<table>\n",
       "<thead>\n",
       "<tr><th>generator             </th><th>real_real        </th><th>syn_syn          </th><th>real_syn         </th><th>syn_real         </th></tr>\n",
       "</thead>\n",
       "<tbody>\n",
       "<tr><td>nflow                 </td><td>0.0623 +/- 0.0024</td><td>0.0332 +/- 0.0053</td><td>0.0349 +/- 0.0051</td><td>0.0637 +/- 0.0014</td></tr>\n",
       "<tr><td>adsgan                </td><td>0.0623 +/- 0.0024</td><td>0.0421 +/- 0.0028</td><td>0.0487 +/- 0.0036</td><td>0.0747 +/- 0.0062</td></tr>\n",
       "<tr><td>bayesian_network      </td><td>0.0623 +/- 0.0024</td><td>0.0962 +/- 0.0046</td><td>0.104 +/- 0.0048 </td><td>0.0687 +/- 0.0014</td></tr>\n",
       "<tr><td>rtvae                 </td><td>0.0623 +/- 0.0024</td><td>0.1298 +/- 0.0073</td><td>0.262 +/- 0.0062 </td><td>0.1396 +/- 0.0061</td></tr>\n",
       "<tr><td>gaussian_copula       </td><td>0.0623 +/- 0.0024</td><td>1 +/- 0          </td><td>1 +/- 0          </td><td>1 +/- 0          </td></tr>\n",
       "<tr><td>copulagan             </td><td>0.0623 +/- 0.0024</td><td>1 +/- 0          </td><td>1 +/- 0          </td><td>1 +/- 0          </td></tr>\n",
       "<tr><td>ctgan                 </td><td>0.0623 +/- 0.0024</td><td>1 +/- 0          </td><td>0.1354 +/- 0.0085</td><td>0.0818 +/- 0.003 </td></tr>\n",
       "<tr><td>tvae                  </td><td>0.0623 +/- 0.0024</td><td>1 +/- 0          </td><td>1 +/- 0          </td><td>1 +/- 0          </td></tr>\n",
       "<tr><td>pategan               </td><td>0.0623 +/- 0.0024</td><td>1 +/- 0          </td><td>1 +/- 0          </td><td>0.2412 +/- 0.0035</td></tr>\n",
       "<tr><td>privbayes             </td><td>0.0623 +/- 0.0024</td><td>1 +/- 0          </td><td>0.0539 +/- 0.0049</td><td>0.065 +/- 0.0017 </td></tr>\n",
       "<tr><td>marginal_distributions</td><td>0.0623 +/- 0.0024</td><td>1 +/- 0          </td><td>1 +/- 0          </td><td>0.1108 +/- 0.0027</td></tr>\n",
       "</tbody>\n",
       "</table>"
      ],
      "text/plain": [
       "<IPython.core.display.HTML object>"
      ]
     },
     "metadata": {},
     "output_type": "display_data"
    }
   ],
   "source": [
    "plot_metrics(model_metrics)"
   ]
  },
  {
   "cell_type": "markdown",
   "id": "eaa55f97",
   "metadata": {},
   "source": [
    "## FLChain dataset"
   ]
  },
  {
   "cell_type": "code",
   "execution_count": 104,
   "id": "16a46e3b",
   "metadata": {},
   "outputs": [
    {
     "data": {
      "text/html": [
       "<div>\n",
       "<style scoped>\n",
       "    .dataframe tbody tr th:only-of-type {\n",
       "        vertical-align: middle;\n",
       "    }\n",
       "\n",
       "    .dataframe tbody tr th {\n",
       "        vertical-align: top;\n",
       "    }\n",
       "\n",
       "    .dataframe thead th {\n",
       "        text-align: right;\n",
       "    }\n",
       "</style>\n",
       "<table border=\"1\" class=\"dataframe\">\n",
       "  <thead>\n",
       "    <tr style=\"text-align: right;\">\n",
       "      <th></th>\n",
       "      <th>age</th>\n",
       "      <th>chapter</th>\n",
       "      <th>creatinine</th>\n",
       "      <th>flc.grp</th>\n",
       "      <th>kappa</th>\n",
       "      <th>lambda</th>\n",
       "      <th>mgus</th>\n",
       "      <th>sample.yr</th>\n",
       "      <th>sex</th>\n",
       "      <th>event</th>\n",
       "      <th>duration</th>\n",
       "    </tr>\n",
       "  </thead>\n",
       "  <tbody>\n",
       "    <tr>\n",
       "      <th>0</th>\n",
       "      <td>97.0</td>\n",
       "      <td>1</td>\n",
       "      <td>1.7</td>\n",
       "      <td>1</td>\n",
       "      <td>5.700</td>\n",
       "      <td>4.860</td>\n",
       "      <td>0</td>\n",
       "      <td>2</td>\n",
       "      <td>0</td>\n",
       "      <td>1</td>\n",
       "      <td>85.0</td>\n",
       "    </tr>\n",
       "    <tr>\n",
       "      <th>1</th>\n",
       "      <td>92.0</td>\n",
       "      <td>12</td>\n",
       "      <td>0.9</td>\n",
       "      <td>0</td>\n",
       "      <td>0.870</td>\n",
       "      <td>0.683</td>\n",
       "      <td>0</td>\n",
       "      <td>5</td>\n",
       "      <td>0</td>\n",
       "      <td>1</td>\n",
       "      <td>1281.0</td>\n",
       "    </tr>\n",
       "    <tr>\n",
       "      <th>2</th>\n",
       "      <td>94.0</td>\n",
       "      <td>1</td>\n",
       "      <td>1.4</td>\n",
       "      <td>1</td>\n",
       "      <td>4.360</td>\n",
       "      <td>3.850</td>\n",
       "      <td>0</td>\n",
       "      <td>2</td>\n",
       "      <td>0</td>\n",
       "      <td>1</td>\n",
       "      <td>69.0</td>\n",
       "    </tr>\n",
       "    <tr>\n",
       "      <th>3</th>\n",
       "      <td>92.0</td>\n",
       "      <td>1</td>\n",
       "      <td>1.0</td>\n",
       "      <td>9</td>\n",
       "      <td>2.420</td>\n",
       "      <td>2.220</td>\n",
       "      <td>0</td>\n",
       "      <td>1</td>\n",
       "      <td>0</td>\n",
       "      <td>1</td>\n",
       "      <td>115.0</td>\n",
       "    </tr>\n",
       "    <tr>\n",
       "      <th>4</th>\n",
       "      <td>93.0</td>\n",
       "      <td>1</td>\n",
       "      <td>1.1</td>\n",
       "      <td>6</td>\n",
       "      <td>1.320</td>\n",
       "      <td>1.690</td>\n",
       "      <td>0</td>\n",
       "      <td>1</td>\n",
       "      <td>0</td>\n",
       "      <td>1</td>\n",
       "      <td>1039.0</td>\n",
       "    </tr>\n",
       "    <tr>\n",
       "      <th>...</th>\n",
       "      <td>...</td>\n",
       "      <td>...</td>\n",
       "      <td>...</td>\n",
       "      <td>...</td>\n",
       "      <td>...</td>\n",
       "      <td>...</td>\n",
       "      <td>...</td>\n",
       "      <td>...</td>\n",
       "      <td>...</td>\n",
       "      <td>...</td>\n",
       "      <td>...</td>\n",
       "    </tr>\n",
       "    <tr>\n",
       "      <th>7869</th>\n",
       "      <td>52.0</td>\n",
       "      <td>16</td>\n",
       "      <td>1.0</td>\n",
       "      <td>6</td>\n",
       "      <td>1.210</td>\n",
       "      <td>1.610</td>\n",
       "      <td>0</td>\n",
       "      <td>0</td>\n",
       "      <td>0</td>\n",
       "      <td>0</td>\n",
       "      <td>4997.0</td>\n",
       "    </tr>\n",
       "    <tr>\n",
       "      <th>7870</th>\n",
       "      <td>52.0</td>\n",
       "      <td>16</td>\n",
       "      <td>0.8</td>\n",
       "      <td>0</td>\n",
       "      <td>0.858</td>\n",
       "      <td>0.581</td>\n",
       "      <td>0</td>\n",
       "      <td>4</td>\n",
       "      <td>0</td>\n",
       "      <td>0</td>\n",
       "      <td>3652.0</td>\n",
       "    </tr>\n",
       "    <tr>\n",
       "      <th>7871</th>\n",
       "      <td>54.0</td>\n",
       "      <td>16</td>\n",
       "      <td>0.0</td>\n",
       "      <td>8</td>\n",
       "      <td>1.700</td>\n",
       "      <td>1.720</td>\n",
       "      <td>0</td>\n",
       "      <td>7</td>\n",
       "      <td>0</td>\n",
       "      <td>0</td>\n",
       "      <td>2507.0</td>\n",
       "    </tr>\n",
       "    <tr>\n",
       "      <th>7872</th>\n",
       "      <td>53.0</td>\n",
       "      <td>16</td>\n",
       "      <td>0.0</td>\n",
       "      <td>9</td>\n",
       "      <td>1.710</td>\n",
       "      <td>2.690</td>\n",
       "      <td>0</td>\n",
       "      <td>0</td>\n",
       "      <td>0</td>\n",
       "      <td>0</td>\n",
       "      <td>4982.0</td>\n",
       "    </tr>\n",
       "    <tr>\n",
       "      <th>7873</th>\n",
       "      <td>50.0</td>\n",
       "      <td>16</td>\n",
       "      <td>0.7</td>\n",
       "      <td>4</td>\n",
       "      <td>1.190</td>\n",
       "      <td>1.250</td>\n",
       "      <td>0</td>\n",
       "      <td>3</td>\n",
       "      <td>0</td>\n",
       "      <td>0</td>\n",
       "      <td>3995.0</td>\n",
       "    </tr>\n",
       "  </tbody>\n",
       "</table>\n",
       "<p>7874 rows × 11 columns</p>\n",
       "</div>"
      ],
      "text/plain": [
       "       age  chapter  creatinine  flc.grp  kappa  lambda  mgus  sample.yr  sex  \\\n",
       "0     97.0        1         1.7        1  5.700   4.860     0          2    0   \n",
       "1     92.0       12         0.9        0  0.870   0.683     0          5    0   \n",
       "2     94.0        1         1.4        1  4.360   3.850     0          2    0   \n",
       "3     92.0        1         1.0        9  2.420   2.220     0          1    0   \n",
       "4     93.0        1         1.1        6  1.320   1.690     0          1    0   \n",
       "...    ...      ...         ...      ...    ...     ...   ...        ...  ...   \n",
       "7869  52.0       16         1.0        6  1.210   1.610     0          0    0   \n",
       "7870  52.0       16         0.8        0  0.858   0.581     0          4    0   \n",
       "7871  54.0       16         0.0        8  1.700   1.720     0          7    0   \n",
       "7872  53.0       16         0.0        9  1.710   2.690     0          0    0   \n",
       "7873  50.0       16         0.7        4  1.190   1.250     0          3    0   \n",
       "\n",
       "      event  duration  \n",
       "0         1      85.0  \n",
       "1         1    1281.0  \n",
       "2         1      69.0  \n",
       "3         1     115.0  \n",
       "4         1    1039.0  \n",
       "...     ...       ...  \n",
       "7869      0    4997.0  \n",
       "7870      0    3652.0  \n",
       "7871      0    2507.0  \n",
       "7872      0    4982.0  \n",
       "7873      0    3995.0  \n",
       "\n",
       "[7874 rows x 11 columns]"
      ]
     },
     "execution_count": 104,
     "metadata": {},
     "output_type": "execute_result"
    }
   ],
   "source": [
    "import pandas as pd\n",
    "\n",
    "df, X_real, T_real, Y_real, time_horizons = get_dataset(\"flchain\")\n",
    "df = df.fillna(0)\n",
    "\n",
    "df"
   ]
  },
  {
   "cell_type": "code",
   "execution_count": 93,
   "id": "0b35b08b",
   "metadata": {},
   "outputs": [
    {
     "data": {
      "text/plain": [
       "{'c_index': '0.9172 +/- 0.0003',\n",
       " 'brier_score': '0.0561 +/- 0.0013',\n",
       " 'aucroc': '0.9997 +/- 0.0004'}"
      ]
     },
     "execution_count": 93,
     "metadata": {},
     "output_type": "execute_result"
    }
   ],
   "source": [
    "# Baseline evaluation\n",
    "from synthcity.plugins import Plugins\n",
    "from adjutorium.utils.tester import evaluate_survival_estimator\n",
    "from adjutorium.plugins.prediction.risk_estimation import RiskEstimation\n",
    "\n",
    "predictor = RiskEstimation().get_type(\"survival_xgboost\")\n",
    "n_folds = 3\n",
    "\n",
    "const_cols = constant_columns(X_real)\n",
    "X_real = X_real.drop(columns=const_cols)\n",
    "\n",
    "evaluate_survival_estimator(\n",
    "    predictor(),\n",
    "    X_real,\n",
    "    T_real,\n",
    "    Y_real,\n",
    "    time_horizons=time_horizons,\n",
    "    n_folds=n_folds,\n",
    ")[\"str\"]"
   ]
  },
  {
   "cell_type": "code",
   "execution_count": 107,
   "id": "a3c0798c",
   "metadata": {},
   "outputs": [
    {
     "name": "stdout",
     "output_type": "stream",
     "text": [
      "generator failed nflow Shape of passed values is (7874, 2), indices imply (7874, 3)\n",
      "generator failed adsgan Shape of passed values is (7874, 2), indices imply (7874, 3)\n",
      "generator failed bayesian_network Input contains NaN, infinity or a value too large for dtype('float64').\n",
      "generator failed rtvae Shape of passed values is (7874, 2), indices imply (7874, 3)\n",
      "generator failed pategan Shape of passed values is (7874, 2), indices imply (7874, 3)\n"
     ]
    }
   ],
   "source": [
    "model_metrics = evaluate_dataset(\"flchain\")"
   ]
  },
  {
   "cell_type": "code",
   "execution_count": 108,
   "id": "19d367f1",
   "metadata": {},
   "outputs": [
    {
     "name": "stdout",
     "output_type": "stream",
     "text": [
      "c_index\n"
     ]
    },
    {
     "data": {
      "text/html": [
       "<table>\n",
       "<thead>\n",
       "<tr><th>generator             </th><th>real_real        </th><th>syn_syn          </th><th>real_syn         </th><th>syn_real         </th></tr>\n",
       "</thead>\n",
       "<tbody>\n",
       "<tr><td>gaussian_copula       </td><td>0.9172 +/- 0.0003</td><td>0.8531 +/- 0.0102</td><td>0.7668 +/- 0.0148</td><td>0.9041 +/- 0.004 </td></tr>\n",
       "<tr><td>copulagan             </td><td>0.9172 +/- 0.0003</td><td>0.8828 +/- 0.0038</td><td>0.8553 +/- 0.0022</td><td>0.9053 +/- 0.0028</td></tr>\n",
       "<tr><td>ctgan                 </td><td>0.9172 +/- 0.0003</td><td>0.8903 +/- 0.005 </td><td>0.8662 +/- 0.0014</td><td>0.9037 +/- 0.0009</td></tr>\n",
       "<tr><td>tvae                  </td><td>0.9172 +/- 0.0003</td><td>0.9444 +/- 0.0004</td><td>0.9242 +/- 0.0024</td><td>0.9111 +/- 0.0042</td></tr>\n",
       "<tr><td>privbayes             </td><td>0.9172 +/- 0.0003</td><td>0.5093 +/- 0.0153</td><td>0.4887 +/- 0.0037</td><td>0.4133 +/- 0.0222</td></tr>\n",
       "<tr><td>marginal_distributions</td><td>0.9172 +/- 0.0003</td><td>0 +/-0           </td><td>0 +/-0           </td><td>0.5925 +/- 0.0166</td></tr>\n",
       "</tbody>\n",
       "</table>"
      ],
      "text/plain": [
       "<IPython.core.display.HTML object>"
      ]
     },
     "metadata": {},
     "output_type": "display_data"
    },
    {
     "name": "stdout",
     "output_type": "stream",
     "text": [
      "aucroc\n"
     ]
    },
    {
     "data": {
      "text/html": [
       "<table>\n",
       "<thead>\n",
       "<tr><th>generator             </th><th>real_real        </th><th>syn_syn          </th><th>real_syn         </th><th>syn_real         </th></tr>\n",
       "</thead>\n",
       "<tbody>\n",
       "<tr><td>gaussian_copula       </td><td>0.9997 +/- 0.0004</td><td>0.933 +/- 0.0032 </td><td>0.8468 +/- 0.0015</td><td>0.9996 +/- 0.0002</td></tr>\n",
       "<tr><td>copulagan             </td><td>0.9997 +/- 0.0004</td><td>0.9769 +/- 0.0024</td><td>0.9595 +/- 0.0029</td><td>0.9981 +/- 0.0006</td></tr>\n",
       "<tr><td>ctgan                 </td><td>0.9997 +/- 0.0004</td><td>0.9756 +/- 0.0009</td><td>0.9662 +/- 0.0023</td><td>0.9954 +/- 0.0007</td></tr>\n",
       "<tr><td>tvae                  </td><td>0.9997 +/- 0.0004</td><td>0.998 +/- 0.0009 </td><td>0.9946 +/- 0.0004</td><td>0.9997 +/- 0.0   </td></tr>\n",
       "<tr><td>privbayes             </td><td>0.9997 +/- 0.0004</td><td>0.4947 +/- 0.0076</td><td>0.4873 +/- 0.0121</td><td>0.3905 +/- 0.0028</td></tr>\n",
       "<tr><td>marginal_distributions</td><td>0.9997 +/- 0.0004</td><td>0 +/- 0          </td><td>0 +/- 0          </td><td>0.6238 +/- 0.0065</td></tr>\n",
       "</tbody>\n",
       "</table>"
      ],
      "text/plain": [
       "<IPython.core.display.HTML object>"
      ]
     },
     "metadata": {},
     "output_type": "display_data"
    },
    {
     "name": "stdout",
     "output_type": "stream",
     "text": [
      "brier_score\n"
     ]
    },
    {
     "data": {
      "text/html": [
       "<table>\n",
       "<thead>\n",
       "<tr><th>generator             </th><th>real_real        </th><th>syn_syn          </th><th>real_syn         </th><th>syn_real         </th></tr>\n",
       "</thead>\n",
       "<tbody>\n",
       "<tr><td>gaussian_copula       </td><td>0.0561 +/- 0.0013</td><td>0.0828 +/- 0.0029</td><td>0.1666 +/- 0.0042</td><td>0.0765 +/- 0.0026</td></tr>\n",
       "<tr><td>copulagan             </td><td>0.0561 +/- 0.0013</td><td>0.0884 +/- 0.001 </td><td>0.0937 +/- 0.0017</td><td>0.0797 +/- 0.0006</td></tr>\n",
       "<tr><td>ctgan                 </td><td>0.0561 +/- 0.0013</td><td>0.0836 +/- 0.0007</td><td>0.0862 +/- 0.0014</td><td>0.0895 +/- 0.0005</td></tr>\n",
       "<tr><td>tvae                  </td><td>0.0561 +/- 0.0013</td><td>0.0408 +/- 0.0011</td><td>0.0535 +/- 0.0013</td><td>0.0789 +/- 0.003 </td></tr>\n",
       "<tr><td>privbayes             </td><td>0.0561 +/- 0.0013</td><td>0.1289 +/- 0.0008</td><td>0.2379 +/- 0.0089</td><td>0.1518 +/- 0.0018</td></tr>\n",
       "<tr><td>marginal_distributions</td><td>0.0561 +/- 0.0013</td><td>1 +/- 0          </td><td>1 +/- 0          </td><td>0.1817 +/- 0.0021</td></tr>\n",
       "</tbody>\n",
       "</table>"
      ],
      "text/plain": [
       "<IPython.core.display.HTML object>"
      ]
     },
     "metadata": {},
     "output_type": "display_data"
    }
   ],
   "source": [
    "plot_metrics(model_metrics)"
   ]
  },
  {
   "cell_type": "markdown",
   "id": "b388f565",
   "metadata": {},
   "source": [
    "## gbsg2 dataset"
   ]
  },
  {
   "cell_type": "code",
   "execution_count": 109,
   "id": "3ddd9b12",
   "metadata": {},
   "outputs": [
    {
     "data": {
      "text/html": [
       "<div>\n",
       "<style scoped>\n",
       "    .dataframe tbody tr th:only-of-type {\n",
       "        vertical-align: middle;\n",
       "    }\n",
       "\n",
       "    .dataframe tbody tr th {\n",
       "        vertical-align: top;\n",
       "    }\n",
       "\n",
       "    .dataframe thead th {\n",
       "        text-align: right;\n",
       "    }\n",
       "</style>\n",
       "<table border=\"1\" class=\"dataframe\">\n",
       "  <thead>\n",
       "    <tr style=\"text-align: right;\">\n",
       "      <th></th>\n",
       "      <th>age</th>\n",
       "      <th>estrec</th>\n",
       "      <th>horTh</th>\n",
       "      <th>menostat</th>\n",
       "      <th>pnodes</th>\n",
       "      <th>progrec</th>\n",
       "      <th>tgrade</th>\n",
       "      <th>tsize</th>\n",
       "      <th>event</th>\n",
       "      <th>duration</th>\n",
       "    </tr>\n",
       "  </thead>\n",
       "  <tbody>\n",
       "    <tr>\n",
       "      <th>0</th>\n",
       "      <td>70.0</td>\n",
       "      <td>66.0</td>\n",
       "      <td>0</td>\n",
       "      <td>0</td>\n",
       "      <td>3.0</td>\n",
       "      <td>48.0</td>\n",
       "      <td>1</td>\n",
       "      <td>21.0</td>\n",
       "      <td>1</td>\n",
       "      <td>1814.0</td>\n",
       "    </tr>\n",
       "    <tr>\n",
       "      <th>1</th>\n",
       "      <td>56.0</td>\n",
       "      <td>77.0</td>\n",
       "      <td>1</td>\n",
       "      <td>0</td>\n",
       "      <td>7.0</td>\n",
       "      <td>61.0</td>\n",
       "      <td>1</td>\n",
       "      <td>12.0</td>\n",
       "      <td>1</td>\n",
       "      <td>2018.0</td>\n",
       "    </tr>\n",
       "    <tr>\n",
       "      <th>2</th>\n",
       "      <td>58.0</td>\n",
       "      <td>271.0</td>\n",
       "      <td>1</td>\n",
       "      <td>0</td>\n",
       "      <td>9.0</td>\n",
       "      <td>52.0</td>\n",
       "      <td>1</td>\n",
       "      <td>35.0</td>\n",
       "      <td>1</td>\n",
       "      <td>712.0</td>\n",
       "    </tr>\n",
       "    <tr>\n",
       "      <th>3</th>\n",
       "      <td>59.0</td>\n",
       "      <td>29.0</td>\n",
       "      <td>1</td>\n",
       "      <td>0</td>\n",
       "      <td>4.0</td>\n",
       "      <td>60.0</td>\n",
       "      <td>1</td>\n",
       "      <td>17.0</td>\n",
       "      <td>1</td>\n",
       "      <td>1807.0</td>\n",
       "    </tr>\n",
       "    <tr>\n",
       "      <th>4</th>\n",
       "      <td>73.0</td>\n",
       "      <td>65.0</td>\n",
       "      <td>0</td>\n",
       "      <td>0</td>\n",
       "      <td>1.0</td>\n",
       "      <td>26.0</td>\n",
       "      <td>1</td>\n",
       "      <td>35.0</td>\n",
       "      <td>1</td>\n",
       "      <td>772.0</td>\n",
       "    </tr>\n",
       "    <tr>\n",
       "      <th>...</th>\n",
       "      <td>...</td>\n",
       "      <td>...</td>\n",
       "      <td>...</td>\n",
       "      <td>...</td>\n",
       "      <td>...</td>\n",
       "      <td>...</td>\n",
       "      <td>...</td>\n",
       "      <td>...</td>\n",
       "      <td>...</td>\n",
       "      <td>...</td>\n",
       "    </tr>\n",
       "    <tr>\n",
       "      <th>681</th>\n",
       "      <td>49.0</td>\n",
       "      <td>84.0</td>\n",
       "      <td>0</td>\n",
       "      <td>1</td>\n",
       "      <td>3.0</td>\n",
       "      <td>1.0</td>\n",
       "      <td>2</td>\n",
       "      <td>30.0</td>\n",
       "      <td>0</td>\n",
       "      <td>721.0</td>\n",
       "    </tr>\n",
       "    <tr>\n",
       "      <th>682</th>\n",
       "      <td>53.0</td>\n",
       "      <td>0.0</td>\n",
       "      <td>1</td>\n",
       "      <td>0</td>\n",
       "      <td>17.0</td>\n",
       "      <td>0.0</td>\n",
       "      <td>2</td>\n",
       "      <td>25.0</td>\n",
       "      <td>0</td>\n",
       "      <td>186.0</td>\n",
       "    </tr>\n",
       "    <tr>\n",
       "      <th>683</th>\n",
       "      <td>51.0</td>\n",
       "      <td>0.0</td>\n",
       "      <td>0</td>\n",
       "      <td>1</td>\n",
       "      <td>5.0</td>\n",
       "      <td>43.0</td>\n",
       "      <td>2</td>\n",
       "      <td>25.0</td>\n",
       "      <td>1</td>\n",
       "      <td>769.0</td>\n",
       "    </tr>\n",
       "    <tr>\n",
       "      <th>684</th>\n",
       "      <td>52.0</td>\n",
       "      <td>34.0</td>\n",
       "      <td>0</td>\n",
       "      <td>0</td>\n",
       "      <td>3.0</td>\n",
       "      <td>15.0</td>\n",
       "      <td>1</td>\n",
       "      <td>23.0</td>\n",
       "      <td>1</td>\n",
       "      <td>727.0</td>\n",
       "    </tr>\n",
       "    <tr>\n",
       "      <th>685</th>\n",
       "      <td>55.0</td>\n",
       "      <td>15.0</td>\n",
       "      <td>0</td>\n",
       "      <td>0</td>\n",
       "      <td>9.0</td>\n",
       "      <td>116.0</td>\n",
       "      <td>1</td>\n",
       "      <td>23.0</td>\n",
       "      <td>1</td>\n",
       "      <td>1701.0</td>\n",
       "    </tr>\n",
       "  </tbody>\n",
       "</table>\n",
       "<p>686 rows × 10 columns</p>\n",
       "</div>"
      ],
      "text/plain": [
       "      age  estrec  horTh  menostat  pnodes  progrec  tgrade  tsize  event  \\\n",
       "0    70.0    66.0      0         0     3.0     48.0       1   21.0      1   \n",
       "1    56.0    77.0      1         0     7.0     61.0       1   12.0      1   \n",
       "2    58.0   271.0      1         0     9.0     52.0       1   35.0      1   \n",
       "3    59.0    29.0      1         0     4.0     60.0       1   17.0      1   \n",
       "4    73.0    65.0      0         0     1.0     26.0       1   35.0      1   \n",
       "..    ...     ...    ...       ...     ...      ...     ...    ...    ...   \n",
       "681  49.0    84.0      0         1     3.0      1.0       2   30.0      0   \n",
       "682  53.0     0.0      1         0    17.0      0.0       2   25.0      0   \n",
       "683  51.0     0.0      0         1     5.0     43.0       2   25.0      1   \n",
       "684  52.0    34.0      0         0     3.0     15.0       1   23.0      1   \n",
       "685  55.0    15.0      0         0     9.0    116.0       1   23.0      1   \n",
       "\n",
       "     duration  \n",
       "0      1814.0  \n",
       "1      2018.0  \n",
       "2       712.0  \n",
       "3      1807.0  \n",
       "4       772.0  \n",
       "..        ...  \n",
       "681     721.0  \n",
       "682     186.0  \n",
       "683     769.0  \n",
       "684     727.0  \n",
       "685    1701.0  \n",
       "\n",
       "[686 rows x 10 columns]"
      ]
     },
     "execution_count": 109,
     "metadata": {},
     "output_type": "execute_result"
    }
   ],
   "source": [
    "import pandas as pd\n",
    "\n",
    "df, X_real, T_real, Y_real, time_horizons = get_dataset(\"gbsg2\")\n",
    "\n",
    "df"
   ]
  },
  {
   "cell_type": "code",
   "execution_count": 95,
   "id": "86290d20",
   "metadata": {},
   "outputs": [
    {
     "data": {
      "text/plain": [
       "{'c_index': '0.6794 +/- 0.0158',\n",
       " 'brier_score': '0.1998 +/- 0.0241',\n",
       " 'aucroc': '0.7124 +/- 0.0176'}"
      ]
     },
     "execution_count": 95,
     "metadata": {},
     "output_type": "execute_result"
    }
   ],
   "source": [
    "# Baseline evaluation\n",
    "from synthcity.plugins import Plugins\n",
    "from adjutorium.utils.tester import evaluate_survival_estimator\n",
    "from adjutorium.plugins.prediction.risk_estimation import RiskEstimation\n",
    "\n",
    "predictor = RiskEstimation().get_type(\"survival_xgboost\")\n",
    "n_folds = 3\n",
    "\n",
    "const_cols = constant_columns(X_real)\n",
    "X_real = X_real.drop(columns=const_cols)\n",
    "\n",
    "evaluate_survival_estimator(\n",
    "    predictor(),\n",
    "    X_real,\n",
    "    T_real,\n",
    "    Y_real,\n",
    "    time_horizons=time_horizons,\n",
    "    n_folds=n_folds,\n",
    ")[\"str\"]"
   ]
  },
  {
   "cell_type": "code",
   "execution_count": 110,
   "id": "5a68759e",
   "metadata": {},
   "outputs": [
    {
     "name": "stdout",
     "output_type": "stream",
     "text": [
      "None\n",
      "None\n",
      "None\n",
      "None\n"
     ]
    }
   ],
   "source": [
    "model_metrics = evaluate_dataset(\"gbsg2\")"
   ]
  },
  {
   "cell_type": "code",
   "execution_count": 111,
   "id": "20c405c5",
   "metadata": {},
   "outputs": [
    {
     "name": "stdout",
     "output_type": "stream",
     "text": [
      "c_index\n"
     ]
    },
    {
     "data": {
      "text/html": [
       "<table>\n",
       "<thead>\n",
       "<tr><th>generator             </th><th>real_real        </th><th>syn_syn          </th><th>real_syn         </th><th>syn_real         </th></tr>\n",
       "</thead>\n",
       "<tbody>\n",
       "<tr><td>nflow                 </td><td>0.6794 +/- 0.0158</td><td>0.6402 +/- 0.0426</td><td>0.6562 +/- 0.0219</td><td>0.6748 +/- 0.0269</td></tr>\n",
       "<tr><td>adsgan                </td><td>0.6794 +/- 0.0158</td><td>0.7297 +/- 0.019 </td><td>0.6721 +/- 0.015 </td><td>0.6163 +/- 0.0287</td></tr>\n",
       "<tr><td>bayesian_network      </td><td>0.6794 +/- 0.0158</td><td>0 +/-0           </td><td>0 +/-0           </td><td>0.6995 +/- 0.0193</td></tr>\n",
       "<tr><td>rtvae                 </td><td>0.6794 +/- 0.0158</td><td>0 +/-0           </td><td>0.5377 +/- 0.0198</td><td>0.4395 +/- 0.0206</td></tr>\n",
       "<tr><td>gaussian_copula       </td><td>0.6794 +/- 0.0158</td><td>0.6329 +/- 0.0191</td><td>0.6206 +/- 0.0263</td><td>0.696 +/- 0.0238 </td></tr>\n",
       "<tr><td>copulagan             </td><td>0.6794 +/- 0.0158</td><td>0.5697 +/- 0.0207</td><td>0.4377 +/- 0.0176</td><td>0.3342 +/- 0.0219</td></tr>\n",
       "<tr><td>ctgan                 </td><td>0.6794 +/- 0.0158</td><td>0 +/-0           </td><td>0.495 +/- 0.0539 </td><td>0.5341 +/- 0.0235</td></tr>\n",
       "<tr><td>tvae                  </td><td>0.6794 +/- 0.0158</td><td>0 +/-0           </td><td>0.7289 +/- 0.0248</td><td>0.6521 +/- 0.0111</td></tr>\n",
       "<tr><td>pategan               </td><td>0.6794 +/- 0.0158</td><td>0 +/-0           </td><td>0 +/-0           </td><td>0.4745 +/- 0.0236</td></tr>\n",
       "<tr><td>privbayes             </td><td>0.6794 +/- 0.0158</td><td>0 +/-0           </td><td>0.4777 +/- 0.0427</td><td>0.5275 +/- 0.0177</td></tr>\n",
       "<tr><td>marginal_distributions</td><td>0.6794 +/- 0.0158</td><td>0.5251 +/- 0.0141</td><td>0.476 +/- 0.0182 </td><td>0.4642 +/- 0.0271</td></tr>\n",
       "</tbody>\n",
       "</table>"
      ],
      "text/plain": [
       "<IPython.core.display.HTML object>"
      ]
     },
     "metadata": {},
     "output_type": "display_data"
    },
    {
     "name": "stdout",
     "output_type": "stream",
     "text": [
      "aucroc\n"
     ]
    },
    {
     "data": {
      "text/html": [
       "<table>\n",
       "<thead>\n",
       "<tr><th>generator             </th><th>real_real        </th><th>syn_syn          </th><th>real_syn         </th><th>syn_real         </th></tr>\n",
       "</thead>\n",
       "<tbody>\n",
       "<tr><td>nflow                 </td><td>0.7124 +/- 0.0176</td><td>0.5951 +/- 0.0567</td><td>0.7152 +/- 0.0295</td><td>0.7577 +/- 0.0283</td></tr>\n",
       "<tr><td>adsgan                </td><td>0.7124 +/- 0.0176</td><td>0.7056 +/- 0.0158</td><td>0.7474 +/- 0.0417</td><td>0.6504 +/- 0.0104</td></tr>\n",
       "<tr><td>bayesian_network      </td><td>0.7124 +/- 0.0176</td><td>0 +/- 0          </td><td>0 +/- 0          </td><td>0.7668 +/- 0.0179</td></tr>\n",
       "<tr><td>rtvae                 </td><td>0.7124 +/- 0.0176</td><td>0 +/- 0          </td><td>0.5273 +/- 0.038 </td><td>0.4381 +/- 0.0203</td></tr>\n",
       "<tr><td>gaussian_copula       </td><td>0.7124 +/- 0.0176</td><td>0.6334 +/- 0.0475</td><td>0.6855 +/- 0.0331</td><td>0.7705 +/- 0.0218</td></tr>\n",
       "<tr><td>copulagan             </td><td>0.7124 +/- 0.0176</td><td>0.5579 +/- 0.0591</td><td>0.362 +/- 0.0241 </td><td>0.2906 +/- 0.0183</td></tr>\n",
       "<tr><td>ctgan                 </td><td>0.7124 +/- 0.0176</td><td>0 +/- 0          </td><td>0.4575 +/- 0.0346</td><td>0.5227 +/- 0.025 </td></tr>\n",
       "<tr><td>tvae                  </td><td>0.7124 +/- 0.0176</td><td>0 +/- 0          </td><td>0.8254 +/- 0.0009</td><td>0.7087 +/- 0.0365</td></tr>\n",
       "<tr><td>pategan               </td><td>0.7124 +/- 0.0176</td><td>0 +/- 0          </td><td>0 +/- 0          </td><td>0.4817 +/- 0.0263</td></tr>\n",
       "<tr><td>privbayes             </td><td>0.7124 +/- 0.0176</td><td>0 +/- 0          </td><td>0.4903 +/- 0.0237</td><td>0.5355 +/- 0.0022</td></tr>\n",
       "<tr><td>marginal_distributions</td><td>0.7124 +/- 0.0176</td><td>0.5059 +/- 0.0073</td><td>0.4686 +/- 0.0292</td><td>0.4443 +/- 0.0358</td></tr>\n",
       "</tbody>\n",
       "</table>"
      ],
      "text/plain": [
       "<IPython.core.display.HTML object>"
      ]
     },
     "metadata": {},
     "output_type": "display_data"
    },
    {
     "name": "stdout",
     "output_type": "stream",
     "text": [
      "brier_score\n"
     ]
    },
    {
     "data": {
      "text/html": [
       "<table>\n",
       "<thead>\n",
       "<tr><th>generator             </th><th>real_real        </th><th>syn_syn          </th><th>real_syn         </th><th>syn_real         </th></tr>\n",
       "</thead>\n",
       "<tbody>\n",
       "<tr><td>nflow                 </td><td>0.1998 +/- 0.0241</td><td>0.1981 +/- 0.0237</td><td>0.2011 +/- 0.0262</td><td>0.1981 +/- 0.0154</td></tr>\n",
       "<tr><td>adsgan                </td><td>0.1998 +/- 0.0241</td><td>0.1496 +/- 0.0108</td><td>0.1649 +/- 0.0125</td><td>0.2292 +/- 0.032 </td></tr>\n",
       "<tr><td>bayesian_network      </td><td>0.1998 +/- 0.0241</td><td>1 +/- 0          </td><td>1 +/- 0          </td><td>0.1996 +/- 0.0319</td></tr>\n",
       "<tr><td>rtvae                 </td><td>0.1998 +/- 0.0241</td><td>1 +/- 0          </td><td>0.2255 +/- 0.0167</td><td>0.3214 +/- 0.0319</td></tr>\n",
       "<tr><td>gaussian_copula       </td><td>0.1998 +/- 0.0241</td><td>0.1991 +/- 0.0128</td><td>0.1994 +/- 0.0163</td><td>0.207 +/- 0.0295 </td></tr>\n",
       "<tr><td>copulagan             </td><td>0.1998 +/- 0.0241</td><td>0.2262 +/- 0.0151</td><td>0.2797 +/- 0.0227</td><td>0.3221 +/- 0.0274</td></tr>\n",
       "<tr><td>ctgan                 </td><td>0.1998 +/- 0.0241</td><td>1 +/- 0          </td><td>0.2296 +/- 0.0199</td><td>0.2335 +/- 0.015 </td></tr>\n",
       "<tr><td>tvae                  </td><td>0.1998 +/- 0.0241</td><td>1 +/- 0          </td><td>0.1812 +/- 0.0033</td><td>0.2329 +/- 0.0068</td></tr>\n",
       "<tr><td>pategan               </td><td>0.1998 +/- 0.0241</td><td>1 +/- 0          </td><td>1 +/- 0          </td><td>0.2983 +/- 0.0129</td></tr>\n",
       "<tr><td>privbayes             </td><td>0.1998 +/- 0.0241</td><td>1 +/- 0          </td><td>0.2467 +/- 0.011 </td><td>0.232 +/- 0.0201 </td></tr>\n",
       "<tr><td>marginal_distributions</td><td>0.1998 +/- 0.0241</td><td>0.1992 +/- 0.0076</td><td>0.223 +/- 0.0094 </td><td>0.2355 +/- 0.0134</td></tr>\n",
       "</tbody>\n",
       "</table>"
      ],
      "text/plain": [
       "<IPython.core.display.HTML object>"
      ]
     },
     "metadata": {},
     "output_type": "display_data"
    }
   ],
   "source": [
    "plot_metrics(model_metrics)"
   ]
  },
  {
   "cell_type": "markdown",
   "id": "930277a1",
   "metadata": {},
   "source": [
    "## Metabric"
   ]
  },
  {
   "cell_type": "code",
   "execution_count": 113,
   "id": "70add6ac",
   "metadata": {},
   "outputs": [
    {
     "data": {
      "text/html": [
       "<div>\n",
       "<style scoped>\n",
       "    .dataframe tbody tr th:only-of-type {\n",
       "        vertical-align: middle;\n",
       "    }\n",
       "\n",
       "    .dataframe tbody tr th {\n",
       "        vertical-align: top;\n",
       "    }\n",
       "\n",
       "    .dataframe thead th {\n",
       "        text-align: right;\n",
       "    }\n",
       "</style>\n",
       "<table border=\"1\" class=\"dataframe\">\n",
       "  <thead>\n",
       "    <tr style=\"text-align: right;\">\n",
       "      <th></th>\n",
       "      <th>x0</th>\n",
       "      <th>x1</th>\n",
       "      <th>x2</th>\n",
       "      <th>x3</th>\n",
       "      <th>x4</th>\n",
       "      <th>x5</th>\n",
       "      <th>x6</th>\n",
       "      <th>x7</th>\n",
       "      <th>x8</th>\n",
       "      <th>duration</th>\n",
       "      <th>event</th>\n",
       "    </tr>\n",
       "  </thead>\n",
       "  <tbody>\n",
       "    <tr>\n",
       "      <th>0</th>\n",
       "      <td>5.603834</td>\n",
       "      <td>7.811392</td>\n",
       "      <td>10.797988</td>\n",
       "      <td>5.967607</td>\n",
       "      <td>1.0</td>\n",
       "      <td>1.0</td>\n",
       "      <td>0.0</td>\n",
       "      <td>1.0</td>\n",
       "      <td>56.840000</td>\n",
       "      <td>99.333336</td>\n",
       "      <td>0</td>\n",
       "    </tr>\n",
       "    <tr>\n",
       "      <th>1</th>\n",
       "      <td>5.284882</td>\n",
       "      <td>9.581043</td>\n",
       "      <td>10.204620</td>\n",
       "      <td>5.664970</td>\n",
       "      <td>1.0</td>\n",
       "      <td>0.0</td>\n",
       "      <td>0.0</td>\n",
       "      <td>1.0</td>\n",
       "      <td>85.940002</td>\n",
       "      <td>95.733330</td>\n",
       "      <td>1</td>\n",
       "    </tr>\n",
       "    <tr>\n",
       "      <th>2</th>\n",
       "      <td>5.920251</td>\n",
       "      <td>6.776564</td>\n",
       "      <td>12.431715</td>\n",
       "      <td>5.873857</td>\n",
       "      <td>0.0</td>\n",
       "      <td>1.0</td>\n",
       "      <td>0.0</td>\n",
       "      <td>1.0</td>\n",
       "      <td>48.439999</td>\n",
       "      <td>140.233337</td>\n",
       "      <td>0</td>\n",
       "    </tr>\n",
       "    <tr>\n",
       "      <th>3</th>\n",
       "      <td>6.654017</td>\n",
       "      <td>5.341846</td>\n",
       "      <td>8.646379</td>\n",
       "      <td>5.655888</td>\n",
       "      <td>0.0</td>\n",
       "      <td>0.0</td>\n",
       "      <td>0.0</td>\n",
       "      <td>0.0</td>\n",
       "      <td>66.910004</td>\n",
       "      <td>239.300003</td>\n",
       "      <td>0</td>\n",
       "    </tr>\n",
       "    <tr>\n",
       "      <th>4</th>\n",
       "      <td>5.456747</td>\n",
       "      <td>5.339741</td>\n",
       "      <td>10.555724</td>\n",
       "      <td>6.008429</td>\n",
       "      <td>1.0</td>\n",
       "      <td>0.0</td>\n",
       "      <td>0.0</td>\n",
       "      <td>1.0</td>\n",
       "      <td>67.849998</td>\n",
       "      <td>56.933334</td>\n",
       "      <td>1</td>\n",
       "    </tr>\n",
       "    <tr>\n",
       "      <th>...</th>\n",
       "      <td>...</td>\n",
       "      <td>...</td>\n",
       "      <td>...</td>\n",
       "      <td>...</td>\n",
       "      <td>...</td>\n",
       "      <td>...</td>\n",
       "      <td>...</td>\n",
       "      <td>...</td>\n",
       "      <td>...</td>\n",
       "      <td>...</td>\n",
       "      <td>...</td>\n",
       "    </tr>\n",
       "    <tr>\n",
       "      <th>1899</th>\n",
       "      <td>5.946987</td>\n",
       "      <td>5.370492</td>\n",
       "      <td>12.345780</td>\n",
       "      <td>5.741395</td>\n",
       "      <td>1.0</td>\n",
       "      <td>1.0</td>\n",
       "      <td>0.0</td>\n",
       "      <td>1.0</td>\n",
       "      <td>76.839996</td>\n",
       "      <td>87.233330</td>\n",
       "      <td>1</td>\n",
       "    </tr>\n",
       "    <tr>\n",
       "      <th>1900</th>\n",
       "      <td>5.339228</td>\n",
       "      <td>5.408853</td>\n",
       "      <td>12.176101</td>\n",
       "      <td>5.693043</td>\n",
       "      <td>1.0</td>\n",
       "      <td>1.0</td>\n",
       "      <td>0.0</td>\n",
       "      <td>1.0</td>\n",
       "      <td>63.090000</td>\n",
       "      <td>157.533340</td>\n",
       "      <td>0</td>\n",
       "    </tr>\n",
       "    <tr>\n",
       "      <th>1901</th>\n",
       "      <td>5.901610</td>\n",
       "      <td>5.272237</td>\n",
       "      <td>14.200950</td>\n",
       "      <td>6.139390</td>\n",
       "      <td>0.0</td>\n",
       "      <td>0.0</td>\n",
       "      <td>0.0</td>\n",
       "      <td>1.0</td>\n",
       "      <td>57.770000</td>\n",
       "      <td>37.866665</td>\n",
       "      <td>1</td>\n",
       "    </tr>\n",
       "    <tr>\n",
       "      <th>1902</th>\n",
       "      <td>6.818109</td>\n",
       "      <td>5.372744</td>\n",
       "      <td>11.652624</td>\n",
       "      <td>6.077852</td>\n",
       "      <td>1.0</td>\n",
       "      <td>0.0</td>\n",
       "      <td>0.0</td>\n",
       "      <td>1.0</td>\n",
       "      <td>58.889999</td>\n",
       "      <td>198.433334</td>\n",
       "      <td>0</td>\n",
       "    </tr>\n",
       "    <tr>\n",
       "      <th>1903</th>\n",
       "      <td>5.725708</td>\n",
       "      <td>5.449718</td>\n",
       "      <td>9.680736</td>\n",
       "      <td>6.595955</td>\n",
       "      <td>1.0</td>\n",
       "      <td>1.0</td>\n",
       "      <td>0.0</td>\n",
       "      <td>0.0</td>\n",
       "      <td>60.630001</td>\n",
       "      <td>140.766663</td>\n",
       "      <td>0</td>\n",
       "    </tr>\n",
       "  </tbody>\n",
       "</table>\n",
       "<p>1904 rows × 11 columns</p>\n",
       "</div>"
      ],
      "text/plain": [
       "            x0        x1         x2        x3   x4   x5   x6   x7         x8  \\\n",
       "0     5.603834  7.811392  10.797988  5.967607  1.0  1.0  0.0  1.0  56.840000   \n",
       "1     5.284882  9.581043  10.204620  5.664970  1.0  0.0  0.0  1.0  85.940002   \n",
       "2     5.920251  6.776564  12.431715  5.873857  0.0  1.0  0.0  1.0  48.439999   \n",
       "3     6.654017  5.341846   8.646379  5.655888  0.0  0.0  0.0  0.0  66.910004   \n",
       "4     5.456747  5.339741  10.555724  6.008429  1.0  0.0  0.0  1.0  67.849998   \n",
       "...        ...       ...        ...       ...  ...  ...  ...  ...        ...   \n",
       "1899  5.946987  5.370492  12.345780  5.741395  1.0  1.0  0.0  1.0  76.839996   \n",
       "1900  5.339228  5.408853  12.176101  5.693043  1.0  1.0  0.0  1.0  63.090000   \n",
       "1901  5.901610  5.272237  14.200950  6.139390  0.0  0.0  0.0  1.0  57.770000   \n",
       "1902  6.818109  5.372744  11.652624  6.077852  1.0  0.0  0.0  1.0  58.889999   \n",
       "1903  5.725708  5.449718   9.680736  6.595955  1.0  1.0  0.0  0.0  60.630001   \n",
       "\n",
       "        duration  event  \n",
       "0      99.333336      0  \n",
       "1      95.733330      1  \n",
       "2     140.233337      0  \n",
       "3     239.300003      0  \n",
       "4      56.933334      1  \n",
       "...          ...    ...  \n",
       "1899   87.233330      1  \n",
       "1900  157.533340      0  \n",
       "1901   37.866665      1  \n",
       "1902  198.433334      0  \n",
       "1903  140.766663      0  \n",
       "\n",
       "[1904 rows x 11 columns]"
      ]
     },
     "execution_count": 113,
     "metadata": {},
     "output_type": "execute_result"
    }
   ],
   "source": [
    "import pandas as pd\n",
    "\n",
    "df, X_real, T_real, Y_real, time_horizons = get_dataset(\"metabric\")\n",
    "\n",
    "df"
   ]
  },
  {
   "cell_type": "code",
   "execution_count": 15,
   "id": "b2d3ad43",
   "metadata": {},
   "outputs": [],
   "source": [
    "# Baseline evaluation\n",
    "from synthcity.plugins import Plugins\n",
    "from adjutorium.utils.tester import evaluate_survival_estimator\n",
    "from adjutorium.plugins.prediction.risk_estimation import RiskEstimation\n",
    "import optuna\n",
    "\n",
    "optuna.logging.set_verbosity(optuna.logging.DEBUG)\n",
    "optuna.logging.enable_propagation()\n",
    "optuna.logging.enable_default_handler()\n",
    "\n",
    "\n",
    "predictor = RiskEstimation().get_type(\"survival_xgboost\")\n",
    "n_folds = 3\n",
    "\n",
    "const_cols = constant_columns(X_real)\n",
    "X_real = X_real.drop(columns=const_cols)\n",
    "\n",
    "\n",
    "def objective(trial):\n",
    "    params = _trial_params(trial, predictor.hyperparameter_space())\n",
    "\n",
    "    try:\n",
    "        score = evaluate_survival_estimator(\n",
    "            predictor(**params),\n",
    "            X_real,\n",
    "            T_real,\n",
    "            Y_real,\n",
    "            time_horizons=time_horizons,\n",
    "            n_folds=n_folds,\n",
    "        )[\"clf\"][\"c_index\"][0]\n",
    "    except BaseException as e:\n",
    "        print(\"   >>>>>>>> trial failed\", e)\n",
    "        score = 0\n",
    "\n",
    "    return score\n",
    "\n",
    "\n",
    "# study = optuna.create_study(direction='maximize')\n",
    "# study.optimize(objective, n_trials=30)"
   ]
  },
  {
   "cell_type": "code",
   "execution_count": 14,
   "id": "4a5cb5a3",
   "metadata": {},
   "outputs": [
    {
     "data": {
      "text/plain": [
       "{'c_index': '0.6412 +/- 0.0078',\n",
       " 'brier_score': '0.1988 +/- 0.0124',\n",
       " 'aucroc': '0.7188 +/- 0.0156'}"
      ]
     },
     "execution_count": 14,
     "metadata": {},
     "output_type": "execute_result"
    }
   ],
   "source": [
    "# Baseline evaluation\n",
    "from synthcity.plugins import Plugins\n",
    "from adjutorium.utils.tester import evaluate_survival_estimator\n",
    "from adjutorium.plugins.prediction.risk_estimation import RiskEstimation\n",
    "import pandas as pd\n",
    "\n",
    "df, X_real, T_real, Y_real, time_horizons = get_dataset(\"metabric\")\n",
    "\n",
    "predictor = RiskEstimation().get_type(\"survival_xgboost\")\n",
    "n_folds = 3\n",
    "\n",
    "const_cols = constant_columns(X_real)\n",
    "X_real = X_real.drop(columns=const_cols)\n",
    "\n",
    "\n",
    "evaluate_survival_estimator(\n",
    "    predictor(),\n",
    "    X_real,\n",
    "    T_real,\n",
    "    Y_real,\n",
    "    time_horizons=time_horizons,\n",
    "    n_folds=n_folds,\n",
    ")[\"str\"]"
   ]
  },
  {
   "cell_type": "code",
   "execution_count": 6,
   "id": "2f5ff94e",
   "metadata": {
    "scrolled": false
   },
   "outputs": [],
   "source": [
    "model_metrics = evaluate_dataset(\"metabric\")"
   ]
  },
  {
   "cell_type": "code",
   "execution_count": 7,
   "id": "7d355dfc",
   "metadata": {},
   "outputs": [
    {
     "name": "stdout",
     "output_type": "stream",
     "text": [
      "c_index\n"
     ]
    },
    {
     "data": {
      "text/html": [
       "<table>\n",
       "<thead>\n",
       "<tr><th>generator             </th><th>real_real        </th><th>syn_syn          </th><th>real_syn         </th><th>syn_real         </th></tr>\n",
       "</thead>\n",
       "<tbody>\n",
       "<tr><td>adsgan                </td><td>0.6355 +/- 0.0128</td><td>0.6964 +/- 0.0132</td><td>0.5863 +/- 0.0191</td><td>0.6191 +/- 0.0039</td></tr>\n",
       "<tr><td>pategan               </td><td>0.6355 +/- 0.0128</td><td>0.7896 +/- 0.0094</td><td>0.4082 +/- 0.0086</td><td>0.4789 +/- 0.0093</td></tr>\n",
       "<tr><td>tvae                  </td><td>0.6355 +/- 0.0128</td><td>0.7509 +/- 0.0039</td><td>0.7225 +/- 0.0006</td><td>0.6348 +/- 0.0136</td></tr>\n",
       "<tr><td>bayesian_network      </td><td>0.6355 +/- 0.0128</td><td>0 +/-0           </td><td>0 +/-0           </td><td>0.6322 +/- 0.0138</td></tr>\n",
       "<tr><td>privbayes             </td><td>0.6355 +/- 0.0128</td><td>0.4889 +/- 0.0012</td><td>0.4991 +/- 0.028 </td><td>0.4988 +/- 0.0208</td></tr>\n",
       "<tr><td>ctgan                 </td><td>0.6355 +/- 0.0128</td><td>0.5771 +/- 0.0175</td><td>0.5158 +/- 0.0299</td><td>0.4856 +/- 0.0051</td></tr>\n",
       "<tr><td>marginal_distributions</td><td>0.6355 +/- 0.0128</td><td>0 +/-0           </td><td>0 +/-0           </td><td>0.4646 +/- 0.0058</td></tr>\n",
       "<tr><td>copulagan             </td><td>0.6355 +/- 0.0128</td><td>0 +/-0           </td><td>0 +/-0           </td><td>0.5728 +/- 0.0145</td></tr>\n",
       "<tr><td>gaussian_copula       </td><td>0.6355 +/- 0.0128</td><td>0.6278 +/- 0.0162</td><td>0.614 +/- 0.0267 </td><td>0.6234 +/- 0.0085</td></tr>\n",
       "<tr><td>rtvae                 </td><td>0.6355 +/- 0.0128</td><td>0.6953 +/- 0.0115</td><td>0.4959 +/- 0.0225</td><td>0.435 +/- 0.0052 </td></tr>\n",
       "<tr><td>nflow                 </td><td>0.6355 +/- 0.0128</td><td>0 +/-0           </td><td>0 +/-0           </td><td>0.6301 +/- 0.0133</td></tr>\n",
       "</tbody>\n",
       "</table>"
      ],
      "text/plain": [
       "<IPython.core.display.HTML object>"
      ]
     },
     "metadata": {},
     "output_type": "display_data"
    },
    {
     "name": "stdout",
     "output_type": "stream",
     "text": [
      "aucroc\n"
     ]
    },
    {
     "data": {
      "text/html": [
       "<table>\n",
       "<thead>\n",
       "<tr><th>generator             </th><th>real_real        </th><th>syn_syn          </th><th>real_syn         </th><th>syn_real         </th></tr>\n",
       "</thead>\n",
       "<tbody>\n",
       "<tr><td>adsgan                </td><td>0.7471 +/- 0.0132</td><td>0.828 +/- 0.0131 </td><td>0.708 +/- 0.0153 </td><td>0.6698 +/- 0.0059</td></tr>\n",
       "<tr><td>pategan               </td><td>0.7471 +/- 0.0132</td><td>0.9467 +/- 0.0069</td><td>0.3824 +/- 0.0398</td><td>0.3952 +/- 0.0223</td></tr>\n",
       "<tr><td>tvae                  </td><td>0.7471 +/- 0.0132</td><td>0.8731 +/- 0.0113</td><td>0.8893 +/- 0.0059</td><td>0.7489 +/- 0.019 </td></tr>\n",
       "<tr><td>bayesian_network      </td><td>0.7471 +/- 0.0132</td><td>0 +/- 0          </td><td>0 +/- 0          </td><td>0.7704 +/- 0.0136</td></tr>\n",
       "<tr><td>privbayes             </td><td>0.7471 +/- 0.0132</td><td>0.4621 +/- 0.0206</td><td>0.5047 +/- 0.0536</td><td>0.4153 +/- 0.025 </td></tr>\n",
       "<tr><td>ctgan                 </td><td>0.7471 +/- 0.0132</td><td>0.6207 +/- 0.0497</td><td>0.5259 +/- 0.019 </td><td>0.4824 +/- 0.0314</td></tr>\n",
       "<tr><td>marginal_distributions</td><td>0.7471 +/- 0.0132</td><td>0 +/- 0          </td><td>0 +/- 0          </td><td>0.485 +/- 0.0085 </td></tr>\n",
       "<tr><td>copulagan             </td><td>0.7471 +/- 0.0132</td><td>0 +/- 0          </td><td>0 +/- 0          </td><td>0.6238 +/- 0.0371</td></tr>\n",
       "<tr><td>gaussian_copula       </td><td>0.7471 +/- 0.0132</td><td>0.7156 +/- 0.0014</td><td>0.6983 +/- 0.0127</td><td>0.7405 +/- 0.0198</td></tr>\n",
       "<tr><td>rtvae                 </td><td>0.7471 +/- 0.0132</td><td>0.792 +/- 0.0476 </td><td>0.5707 +/- 0.0338</td><td>0.3895 +/- 0.0169</td></tr>\n",
       "<tr><td>nflow                 </td><td>0.7471 +/- 0.0132</td><td>0 +/- 0          </td><td>0 +/- 0          </td><td>0.7617 +/- 0.0072</td></tr>\n",
       "</tbody>\n",
       "</table>"
      ],
      "text/plain": [
       "<IPython.core.display.HTML object>"
      ]
     },
     "metadata": {},
     "output_type": "display_data"
    },
    {
     "name": "stdout",
     "output_type": "stream",
     "text": [
      "brier_score\n"
     ]
    },
    {
     "data": {
      "text/html": [
       "<table>\n",
       "<thead>\n",
       "<tr><th>generator             </th><th>real_real        </th><th>syn_syn          </th><th>real_syn         </th><th>syn_real         </th></tr>\n",
       "</thead>\n",
       "<tbody>\n",
       "<tr><td>adsgan                </td><td>0.1876 +/- 0.0077</td><td>0.1882 +/- 0.0089</td><td>0.2638 +/- 0.0184</td><td>0.2347 +/- 0.01  </td></tr>\n",
       "<tr><td>pategan               </td><td>0.1876 +/- 0.0077</td><td>0.1045 +/- 0.0065</td><td>0.2692 +/- 0.0225</td><td>0.2915 +/- 0.0159</td></tr>\n",
       "<tr><td>tvae                  </td><td>0.1876 +/- 0.0077</td><td>0.1511 +/- 0.0105</td><td>0.1701 +/- 0.0099</td><td>0.2127 +/- 0.006 </td></tr>\n",
       "<tr><td>bayesian_network      </td><td>0.1876 +/- 0.0077</td><td>1 +/- 0          </td><td>1 +/- 0          </td><td>0.1865 +/- 0.0072</td></tr>\n",
       "<tr><td>privbayes             </td><td>0.1876 +/- 0.0077</td><td>0.1833 +/- 0.0041</td><td>0.2239 +/- 0.01  </td><td>0.2214 +/- 0.0101</td></tr>\n",
       "<tr><td>ctgan                 </td><td>0.1876 +/- 0.0077</td><td>0.2008 +/- 0.0069</td><td>0.2507 +/- 0.0204</td><td>0.2199 +/- 0.0096</td></tr>\n",
       "<tr><td>marginal_distributions</td><td>0.1876 +/- 0.0077</td><td>1 +/- 0          </td><td>1 +/- 0          </td><td>0.2611 +/- 0.0039</td></tr>\n",
       "<tr><td>copulagan             </td><td>0.1876 +/- 0.0077</td><td>1 +/- 0          </td><td>1 +/- 0          </td><td>0.2293 +/- 0.007 </td></tr>\n",
       "<tr><td>gaussian_copula       </td><td>0.1876 +/- 0.0077</td><td>0.1951 +/- 0.0079</td><td>0.2081 +/- 0.0119</td><td>0.1955 +/- 0.0098</td></tr>\n",
       "<tr><td>rtvae                 </td><td>0.1876 +/- 0.0077</td><td>0.1493 +/- 0.0074</td><td>0.2201 +/- 0.0109</td><td>0.2794 +/- 0.0114</td></tr>\n",
       "<tr><td>nflow                 </td><td>0.1876 +/- 0.0077</td><td>1 +/- 0          </td><td>1 +/- 0          </td><td>0.1929 +/- 0.0072</td></tr>\n",
       "</tbody>\n",
       "</table>"
      ],
      "text/plain": [
       "<IPython.core.display.HTML object>"
      ]
     },
     "metadata": {},
     "output_type": "display_data"
    }
   ],
   "source": [
    "plot_metrics(model_metrics)"
   ]
  },
  {
   "cell_type": "code",
   "execution_count": null,
   "id": "74d90e65",
   "metadata": {},
   "outputs": [],
   "source": []
  },
  {
   "cell_type": "markdown",
   "id": "05ea858b",
   "metadata": {},
   "source": [
    "## gbsg"
   ]
  },
  {
   "cell_type": "code",
   "execution_count": 114,
   "id": "785dc368",
   "metadata": {},
   "outputs": [
    {
     "data": {
      "text/html": [
       "<div>\n",
       "<style scoped>\n",
       "    .dataframe tbody tr th:only-of-type {\n",
       "        vertical-align: middle;\n",
       "    }\n",
       "\n",
       "    .dataframe tbody tr th {\n",
       "        vertical-align: top;\n",
       "    }\n",
       "\n",
       "    .dataframe thead th {\n",
       "        text-align: right;\n",
       "    }\n",
       "</style>\n",
       "<table border=\"1\" class=\"dataframe\">\n",
       "  <thead>\n",
       "    <tr style=\"text-align: right;\">\n",
       "      <th></th>\n",
       "      <th>x0</th>\n",
       "      <th>x1</th>\n",
       "      <th>x2</th>\n",
       "      <th>x3</th>\n",
       "      <th>x4</th>\n",
       "      <th>x5</th>\n",
       "      <th>x6</th>\n",
       "      <th>duration</th>\n",
       "      <th>event</th>\n",
       "    </tr>\n",
       "  </thead>\n",
       "  <tbody>\n",
       "    <tr>\n",
       "      <th>0</th>\n",
       "      <td>0.0</td>\n",
       "      <td>0.0</td>\n",
       "      <td>0.0</td>\n",
       "      <td>32.0</td>\n",
       "      <td>1.0</td>\n",
       "      <td>155.0</td>\n",
       "      <td>168.0</td>\n",
       "      <td>84.000000</td>\n",
       "      <td>0</td>\n",
       "    </tr>\n",
       "    <tr>\n",
       "      <th>1</th>\n",
       "      <td>0.0</td>\n",
       "      <td>1.0</td>\n",
       "      <td>0.0</td>\n",
       "      <td>27.0</td>\n",
       "      <td>1.0</td>\n",
       "      <td>717.0</td>\n",
       "      <td>95.0</td>\n",
       "      <td>84.000000</td>\n",
       "      <td>0</td>\n",
       "    </tr>\n",
       "    <tr>\n",
       "      <th>2</th>\n",
       "      <td>0.0</td>\n",
       "      <td>1.0</td>\n",
       "      <td>1.0</td>\n",
       "      <td>52.0</td>\n",
       "      <td>1.0</td>\n",
       "      <td>120.0</td>\n",
       "      <td>437.0</td>\n",
       "      <td>84.000000</td>\n",
       "      <td>0</td>\n",
       "    </tr>\n",
       "    <tr>\n",
       "      <th>3</th>\n",
       "      <td>0.0</td>\n",
       "      <td>0.0</td>\n",
       "      <td>0.0</td>\n",
       "      <td>28.0</td>\n",
       "      <td>1.0</td>\n",
       "      <td>251.0</td>\n",
       "      <td>11.0</td>\n",
       "      <td>84.000000</td>\n",
       "      <td>0</td>\n",
       "    </tr>\n",
       "    <tr>\n",
       "      <th>4</th>\n",
       "      <td>0.0</td>\n",
       "      <td>0.0</td>\n",
       "      <td>0.0</td>\n",
       "      <td>39.0</td>\n",
       "      <td>1.0</td>\n",
       "      <td>241.0</td>\n",
       "      <td>92.0</td>\n",
       "      <td>66.234085</td>\n",
       "      <td>1</td>\n",
       "    </tr>\n",
       "    <tr>\n",
       "      <th>...</th>\n",
       "      <td>...</td>\n",
       "      <td>...</td>\n",
       "      <td>...</td>\n",
       "      <td>...</td>\n",
       "      <td>...</td>\n",
       "      <td>...</td>\n",
       "      <td>...</td>\n",
       "      <td>...</td>\n",
       "      <td>...</td>\n",
       "    </tr>\n",
       "    <tr>\n",
       "      <th>2227</th>\n",
       "      <td>0.0</td>\n",
       "      <td>1.0</td>\n",
       "      <td>0.0</td>\n",
       "      <td>49.0</td>\n",
       "      <td>3.0</td>\n",
       "      <td>1.0</td>\n",
       "      <td>84.0</td>\n",
       "      <td>23.687885</td>\n",
       "      <td>0</td>\n",
       "    </tr>\n",
       "    <tr>\n",
       "      <th>2228</th>\n",
       "      <td>1.0</td>\n",
       "      <td>1.0</td>\n",
       "      <td>1.0</td>\n",
       "      <td>53.0</td>\n",
       "      <td>17.0</td>\n",
       "      <td>0.0</td>\n",
       "      <td>0.0</td>\n",
       "      <td>6.110883</td>\n",
       "      <td>0</td>\n",
       "    </tr>\n",
       "    <tr>\n",
       "      <th>2229</th>\n",
       "      <td>0.0</td>\n",
       "      <td>1.0</td>\n",
       "      <td>0.0</td>\n",
       "      <td>51.0</td>\n",
       "      <td>5.0</td>\n",
       "      <td>43.0</td>\n",
       "      <td>0.0</td>\n",
       "      <td>25.264887</td>\n",
       "      <td>1</td>\n",
       "    </tr>\n",
       "    <tr>\n",
       "      <th>2230</th>\n",
       "      <td>0.0</td>\n",
       "      <td>1.0</td>\n",
       "      <td>1.0</td>\n",
       "      <td>52.0</td>\n",
       "      <td>3.0</td>\n",
       "      <td>15.0</td>\n",
       "      <td>34.0</td>\n",
       "      <td>23.885010</td>\n",
       "      <td>1</td>\n",
       "    </tr>\n",
       "    <tr>\n",
       "      <th>2231</th>\n",
       "      <td>0.0</td>\n",
       "      <td>1.0</td>\n",
       "      <td>1.0</td>\n",
       "      <td>55.0</td>\n",
       "      <td>9.0</td>\n",
       "      <td>116.0</td>\n",
       "      <td>15.0</td>\n",
       "      <td>55.885010</td>\n",
       "      <td>1</td>\n",
       "    </tr>\n",
       "  </tbody>\n",
       "</table>\n",
       "<p>2232 rows × 9 columns</p>\n",
       "</div>"
      ],
      "text/plain": [
       "       x0   x1   x2    x3    x4     x5     x6   duration  event\n",
       "0     0.0  0.0  0.0  32.0   1.0  155.0  168.0  84.000000      0\n",
       "1     0.0  1.0  0.0  27.0   1.0  717.0   95.0  84.000000      0\n",
       "2     0.0  1.0  1.0  52.0   1.0  120.0  437.0  84.000000      0\n",
       "3     0.0  0.0  0.0  28.0   1.0  251.0   11.0  84.000000      0\n",
       "4     0.0  0.0  0.0  39.0   1.0  241.0   92.0  66.234085      1\n",
       "...   ...  ...  ...   ...   ...    ...    ...        ...    ...\n",
       "2227  0.0  1.0  0.0  49.0   3.0    1.0   84.0  23.687885      0\n",
       "2228  1.0  1.0  1.0  53.0  17.0    0.0    0.0   6.110883      0\n",
       "2229  0.0  1.0  0.0  51.0   5.0   43.0    0.0  25.264887      1\n",
       "2230  0.0  1.0  1.0  52.0   3.0   15.0   34.0  23.885010      1\n",
       "2231  0.0  1.0  1.0  55.0   9.0  116.0   15.0  55.885010      1\n",
       "\n",
       "[2232 rows x 9 columns]"
      ]
     },
     "execution_count": 114,
     "metadata": {},
     "output_type": "execute_result"
    }
   ],
   "source": [
    "import pandas as pd\n",
    "\n",
    "df, X_real, T_real, Y_real, time_horizons = get_dataset(\"gbsg\")\n",
    "\n",
    "df"
   ]
  },
  {
   "cell_type": "code",
   "execution_count": 8,
   "id": "5c655774",
   "metadata": {},
   "outputs": [
    {
     "name": "stdout",
     "output_type": "stream",
     "text": [
      "Dataset 'gbsg' not locally available. Downloading...\n",
      "Done\n"
     ]
    }
   ],
   "source": [
    "model_metrics = evaluate_dataset(\"gbsg\")"
   ]
  },
  {
   "cell_type": "code",
   "execution_count": 9,
   "id": "39daa7fc",
   "metadata": {},
   "outputs": [
    {
     "name": "stdout",
     "output_type": "stream",
     "text": [
      "c_index\n"
     ]
    },
    {
     "data": {
      "text/html": [
       "<table>\n",
       "<thead>\n",
       "<tr><th>generator             </th><th>real_real        </th><th>syn_syn          </th><th>real_syn         </th><th>syn_real         </th></tr>\n",
       "</thead>\n",
       "<tbody>\n",
       "<tr><td>adsgan                </td><td>0.6776 +/- 0.0169</td><td>0.7019 +/- 0.0142</td><td>0.6709 +/- 0.0139</td><td>0.6266 +/- 0.0135</td></tr>\n",
       "<tr><td>pategan               </td><td>0.6776 +/- 0.0169</td><td>0.6531 +/- 0.0079</td><td>0.5628 +/- 0.0055</td><td>0.5129 +/- 0.0075</td></tr>\n",
       "<tr><td>tvae                  </td><td>0.6776 +/- 0.0169</td><td>0.856 +/- 0.0029 </td><td>0.8071 +/- 0.0078</td><td>0.6756 +/- 0.0185</td></tr>\n",
       "<tr><td>bayesian_network      </td><td>0.6776 +/- 0.0169</td><td>0.6838 +/- 0.024 </td><td>0.6908 +/- 0.0192</td><td>0.6711 +/- 0.0169</td></tr>\n",
       "<tr><td>privbayes             </td><td>0.6776 +/- 0.0169</td><td>0.4768 +/- 0.0132</td><td>0.497 +/- 0.0071 </td><td>0.5988 +/- 0.018 </td></tr>\n",
       "<tr><td>ctgan                 </td><td>0.6776 +/- 0.0169</td><td>0.6057 +/- 0.0262</td><td>0.5595 +/- 0.014 </td><td>0.6014 +/- 0.0144</td></tr>\n",
       "<tr><td>marginal_distributions</td><td>0.6776 +/- 0.0169</td><td>0.4849 +/- 0.022 </td><td>0.522 +/- 0.0409 </td><td>0.4314 +/- 0.0153</td></tr>\n",
       "<tr><td>copulagan             </td><td>0.6776 +/- 0.0169</td><td>0.5201 +/- 0.0105</td><td>0.5194 +/- 0.0163</td><td>0.6302 +/- 0.0122</td></tr>\n",
       "<tr><td>gaussian_copula       </td><td>0.6776 +/- 0.0169</td><td>0.6307 +/- 0.0208</td><td>0.631 +/- 0.0266 </td><td>0.6787 +/- 0.0196</td></tr>\n",
       "<tr><td>rtvae                 </td><td>0.6776 +/- 0.0169</td><td>0 +/-0           </td><td>0 +/-0           </td><td>0.4705 +/- 0.0148</td></tr>\n",
       "<tr><td>nflow                 </td><td>0.6776 +/- 0.0169</td><td>0 +/-0           </td><td>0 +/-0           </td><td>0.6703 +/- 0.0127</td></tr>\n",
       "</tbody>\n",
       "</table>"
      ],
      "text/plain": [
       "<IPython.core.display.HTML object>"
      ]
     },
     "metadata": {},
     "output_type": "display_data"
    },
    {
     "name": "stdout",
     "output_type": "stream",
     "text": [
      "aucroc\n"
     ]
    },
    {
     "data": {
      "text/html": [
       "<table>\n",
       "<thead>\n",
       "<tr><th>generator             </th><th>real_real        </th><th>syn_syn          </th><th>real_syn         </th><th>syn_real         </th></tr>\n",
       "</thead>\n",
       "<tbody>\n",
       "<tr><td>adsgan                </td><td>0.7292 +/- 0.0071</td><td>0.8138 +/- 0.0039</td><td>0.7396 +/- 0.0157</td><td>0.6778 +/- 0.0077</td></tr>\n",
       "<tr><td>pategan               </td><td>0.7292 +/- 0.0071</td><td>0.7728 +/- 0.0093</td><td>0.5267 +/- 0.0044</td><td>0.534 +/- 0.0171 </td></tr>\n",
       "<tr><td>tvae                  </td><td>0.7292 +/- 0.0071</td><td>0.9576 +/- 0.0027</td><td>0.8986 +/- 0.0067</td><td>0.7353 +/- 0.0097</td></tr>\n",
       "<tr><td>bayesian_network      </td><td>0.7292 +/- 0.0071</td><td>0.7465 +/- 0.0102</td><td>0.758 +/- 0.009  </td><td>0.7312 +/- 0.0027</td></tr>\n",
       "<tr><td>privbayes             </td><td>0.7292 +/- 0.0071</td><td>0.4782 +/- 0.0148</td><td>0.5058 +/- 0.0211</td><td>0.6417 +/- 0.0103</td></tr>\n",
       "<tr><td>ctgan                 </td><td>0.7292 +/- 0.0071</td><td>0.6979 +/- 0.0088</td><td>0.613 +/- 0.0279 </td><td>0.6393 +/- 0.0127</td></tr>\n",
       "<tr><td>marginal_distributions</td><td>0.7292 +/- 0.0071</td><td>0.4988 +/- 0.0038</td><td>0.5178 +/- 0.0116</td><td>0.3999 +/- 0.0116</td></tr>\n",
       "<tr><td>copulagan             </td><td>0.7292 +/- 0.0071</td><td>0.5275 +/- 0.0125</td><td>0.5421 +/- 0.0099</td><td>0.6875 +/- 0.0094</td></tr>\n",
       "<tr><td>gaussian_copula       </td><td>0.7292 +/- 0.0071</td><td>0.7029 +/- 0.0116</td><td>0.6995 +/- 0.0067</td><td>0.7397 +/- 0.0041</td></tr>\n",
       "<tr><td>rtvae                 </td><td>0.7292 +/- 0.0071</td><td>0 +/- 0          </td><td>0 +/- 0          </td><td>0.4459 +/- 0.0143</td></tr>\n",
       "<tr><td>nflow                 </td><td>0.7292 +/- 0.0071</td><td>0 +/- 0          </td><td>0 +/- 0          </td><td>0.7348 +/- 0.0012</td></tr>\n",
       "</tbody>\n",
       "</table>"
      ],
      "text/plain": [
       "<IPython.core.display.HTML object>"
      ]
     },
     "metadata": {},
     "output_type": "display_data"
    },
    {
     "name": "stdout",
     "output_type": "stream",
     "text": [
      "brier_score\n"
     ]
    },
    {
     "data": {
      "text/html": [
       "<table>\n",
       "<thead>\n",
       "<tr><th>generator             </th><th>real_real        </th><th>syn_syn          </th><th>real_syn         </th><th>syn_real         </th></tr>\n",
       "</thead>\n",
       "<tbody>\n",
       "<tr><td>adsgan                </td><td>0.2048 +/- 0.0022</td><td>0.1931 +/- 0.0084</td><td>0.2123 +/- 0.0054</td><td>0.2242 +/- 0.0021</td></tr>\n",
       "<tr><td>pategan               </td><td>0.2048 +/- 0.0022</td><td>0.1836 +/- 0.0038</td><td>0.2265 +/- 0.0065</td><td>0.301 +/- 0.002  </td></tr>\n",
       "<tr><td>tvae                  </td><td>0.2048 +/- 0.0022</td><td>0.1059 +/- 0.0036</td><td>0.1922 +/- 0.0034</td><td>0.2283 +/- 0.0112</td></tr>\n",
       "<tr><td>bayesian_network      </td><td>0.2048 +/- 0.0022</td><td>0.203 +/- 0.0132 </td><td>0.2026 +/- 0.0106</td><td>0.2063 +/- 0.0019</td></tr>\n",
       "<tr><td>privbayes             </td><td>0.2048 +/- 0.0022</td><td>0.2057 +/- 0.005 </td><td>0.2334 +/- 0.0041</td><td>0.2348 +/- 0.0037</td></tr>\n",
       "<tr><td>ctgan                 </td><td>0.2048 +/- 0.0022</td><td>0.2277 +/- 0.0032</td><td>0.2432 +/- 0.0103</td><td>0.2217 +/- 0.0014</td></tr>\n",
       "<tr><td>marginal_distributions</td><td>0.2048 +/- 0.0022</td><td>0.1902 +/- 0.0034</td><td>0.2622 +/- 0.0172</td><td>0.2574 +/- 0.0015</td></tr>\n",
       "<tr><td>copulagan             </td><td>0.2048 +/- 0.0022</td><td>0.2232 +/- 0.0068</td><td>0.238 +/- 0.0102 </td><td>0.2264 +/- 0.001 </td></tr>\n",
       "<tr><td>gaussian_copula       </td><td>0.2048 +/- 0.0022</td><td>0.2124 +/- 0.0049</td><td>0.218 +/- 0.0064 </td><td>0.2078 +/- 0.0046</td></tr>\n",
       "<tr><td>rtvae                 </td><td>0.2048 +/- 0.0022</td><td>1 +/- 0          </td><td>1 +/- 0          </td><td>0.2767 +/- 0.0033</td></tr>\n",
       "<tr><td>nflow                 </td><td>0.2048 +/- 0.0022</td><td>1 +/- 0          </td><td>1 +/- 0          </td><td>0.2111 +/- 0.0023</td></tr>\n",
       "</tbody>\n",
       "</table>"
      ],
      "text/plain": [
       "<IPython.core.display.HTML object>"
      ]
     },
     "metadata": {},
     "output_type": "display_data"
    }
   ],
   "source": [
    "plot_metrics(model_metrics)"
   ]
  },
  {
   "cell_type": "code",
   "execution_count": null,
   "id": "21a5c0e0",
   "metadata": {},
   "outputs": [],
   "source": []
  },
  {
   "cell_type": "markdown",
   "id": "aa7a4c6d",
   "metadata": {},
   "source": [
    "## Support"
   ]
  },
  {
   "cell_type": "code",
   "execution_count": 115,
   "id": "b29b3af6",
   "metadata": {},
   "outputs": [
    {
     "data": {
      "text/html": [
       "<div>\n",
       "<style scoped>\n",
       "    .dataframe tbody tr th:only-of-type {\n",
       "        vertical-align: middle;\n",
       "    }\n",
       "\n",
       "    .dataframe tbody tr th {\n",
       "        vertical-align: top;\n",
       "    }\n",
       "\n",
       "    .dataframe thead th {\n",
       "        text-align: right;\n",
       "    }\n",
       "</style>\n",
       "<table border=\"1\" class=\"dataframe\">\n",
       "  <thead>\n",
       "    <tr style=\"text-align: right;\">\n",
       "      <th></th>\n",
       "      <th>x0</th>\n",
       "      <th>x1</th>\n",
       "      <th>x2</th>\n",
       "      <th>x3</th>\n",
       "      <th>x4</th>\n",
       "      <th>x5</th>\n",
       "      <th>x6</th>\n",
       "      <th>x7</th>\n",
       "      <th>x8</th>\n",
       "      <th>x9</th>\n",
       "      <th>x10</th>\n",
       "      <th>x11</th>\n",
       "      <th>x12</th>\n",
       "      <th>x13</th>\n",
       "      <th>duration</th>\n",
       "      <th>event</th>\n",
       "    </tr>\n",
       "  </thead>\n",
       "  <tbody>\n",
       "    <tr>\n",
       "      <th>0</th>\n",
       "      <td>82.709961</td>\n",
       "      <td>1.0</td>\n",
       "      <td>2.0</td>\n",
       "      <td>1.0</td>\n",
       "      <td>0.0</td>\n",
       "      <td>0.0</td>\n",
       "      <td>0.0</td>\n",
       "      <td>160.0</td>\n",
       "      <td>55.0</td>\n",
       "      <td>16.0</td>\n",
       "      <td>38.195309</td>\n",
       "      <td>142.0</td>\n",
       "      <td>19.000000</td>\n",
       "      <td>1.099854</td>\n",
       "      <td>30.0</td>\n",
       "      <td>1</td>\n",
       "    </tr>\n",
       "    <tr>\n",
       "      <th>1</th>\n",
       "      <td>79.660950</td>\n",
       "      <td>1.0</td>\n",
       "      <td>0.0</td>\n",
       "      <td>1.0</td>\n",
       "      <td>0.0</td>\n",
       "      <td>0.0</td>\n",
       "      <td>1.0</td>\n",
       "      <td>54.0</td>\n",
       "      <td>67.0</td>\n",
       "      <td>16.0</td>\n",
       "      <td>38.000000</td>\n",
       "      <td>142.0</td>\n",
       "      <td>10.000000</td>\n",
       "      <td>0.899902</td>\n",
       "      <td>1527.0</td>\n",
       "      <td>0</td>\n",
       "    </tr>\n",
       "    <tr>\n",
       "      <th>2</th>\n",
       "      <td>23.399990</td>\n",
       "      <td>1.0</td>\n",
       "      <td>2.0</td>\n",
       "      <td>3.0</td>\n",
       "      <td>0.0</td>\n",
       "      <td>0.0</td>\n",
       "      <td>1.0</td>\n",
       "      <td>87.0</td>\n",
       "      <td>144.0</td>\n",
       "      <td>45.0</td>\n",
       "      <td>37.296879</td>\n",
       "      <td>130.0</td>\n",
       "      <td>5.199219</td>\n",
       "      <td>1.199951</td>\n",
       "      <td>96.0</td>\n",
       "      <td>1</td>\n",
       "    </tr>\n",
       "    <tr>\n",
       "      <th>3</th>\n",
       "      <td>53.075989</td>\n",
       "      <td>1.0</td>\n",
       "      <td>4.0</td>\n",
       "      <td>3.0</td>\n",
       "      <td>0.0</td>\n",
       "      <td>0.0</td>\n",
       "      <td>0.0</td>\n",
       "      <td>55.0</td>\n",
       "      <td>100.0</td>\n",
       "      <td>18.0</td>\n",
       "      <td>36.000000</td>\n",
       "      <td>135.0</td>\n",
       "      <td>8.699219</td>\n",
       "      <td>0.799927</td>\n",
       "      <td>892.0</td>\n",
       "      <td>0</td>\n",
       "    </tr>\n",
       "    <tr>\n",
       "      <th>4</th>\n",
       "      <td>71.794983</td>\n",
       "      <td>0.0</td>\n",
       "      <td>1.0</td>\n",
       "      <td>1.0</td>\n",
       "      <td>0.0</td>\n",
       "      <td>0.0</td>\n",
       "      <td>0.0</td>\n",
       "      <td>65.0</td>\n",
       "      <td>135.0</td>\n",
       "      <td>40.0</td>\n",
       "      <td>38.593750</td>\n",
       "      <td>146.0</td>\n",
       "      <td>0.099991</td>\n",
       "      <td>0.399963</td>\n",
       "      <td>7.0</td>\n",
       "      <td>1</td>\n",
       "    </tr>\n",
       "    <tr>\n",
       "      <th>...</th>\n",
       "      <td>...</td>\n",
       "      <td>...</td>\n",
       "      <td>...</td>\n",
       "      <td>...</td>\n",
       "      <td>...</td>\n",
       "      <td>...</td>\n",
       "      <td>...</td>\n",
       "      <td>...</td>\n",
       "      <td>...</td>\n",
       "      <td>...</td>\n",
       "      <td>...</td>\n",
       "      <td>...</td>\n",
       "      <td>...</td>\n",
       "      <td>...</td>\n",
       "      <td>...</td>\n",
       "      <td>...</td>\n",
       "    </tr>\n",
       "    <tr>\n",
       "      <th>8868</th>\n",
       "      <td>81.064941</td>\n",
       "      <td>0.0</td>\n",
       "      <td>4.0</td>\n",
       "      <td>1.0</td>\n",
       "      <td>0.0</td>\n",
       "      <td>0.0</td>\n",
       "      <td>1.0</td>\n",
       "      <td>111.0</td>\n",
       "      <td>110.0</td>\n",
       "      <td>34.0</td>\n",
       "      <td>39.593750</td>\n",
       "      <td>135.0</td>\n",
       "      <td>13.000000</td>\n",
       "      <td>1.500000</td>\n",
       "      <td>36.0</td>\n",
       "      <td>1</td>\n",
       "    </tr>\n",
       "    <tr>\n",
       "      <th>8869</th>\n",
       "      <td>72.560966</td>\n",
       "      <td>0.0</td>\n",
       "      <td>2.0</td>\n",
       "      <td>1.0</td>\n",
       "      <td>0.0</td>\n",
       "      <td>0.0</td>\n",
       "      <td>1.0</td>\n",
       "      <td>53.0</td>\n",
       "      <td>74.0</td>\n",
       "      <td>28.0</td>\n",
       "      <td>34.695309</td>\n",
       "      <td>139.0</td>\n",
       "      <td>7.899414</td>\n",
       "      <td>1.899902</td>\n",
       "      <td>49.0</td>\n",
       "      <td>1</td>\n",
       "    </tr>\n",
       "    <tr>\n",
       "      <th>8870</th>\n",
       "      <td>63.228001</td>\n",
       "      <td>0.0</td>\n",
       "      <td>1.0</td>\n",
       "      <td>1.0</td>\n",
       "      <td>0.0</td>\n",
       "      <td>0.0</td>\n",
       "      <td>2.0</td>\n",
       "      <td>95.0</td>\n",
       "      <td>110.0</td>\n",
       "      <td>22.0</td>\n",
       "      <td>38.695309</td>\n",
       "      <td>132.0</td>\n",
       "      <td>7.799805</td>\n",
       "      <td>1.500000</td>\n",
       "      <td>6.0</td>\n",
       "      <td>1</td>\n",
       "    </tr>\n",
       "    <tr>\n",
       "      <th>8871</th>\n",
       "      <td>75.405937</td>\n",
       "      <td>0.0</td>\n",
       "      <td>2.0</td>\n",
       "      <td>1.0</td>\n",
       "      <td>1.0</td>\n",
       "      <td>0.0</td>\n",
       "      <td>2.0</td>\n",
       "      <td>109.0</td>\n",
       "      <td>110.0</td>\n",
       "      <td>30.0</td>\n",
       "      <td>36.195309</td>\n",
       "      <td>140.0</td>\n",
       "      <td>15.398438</td>\n",
       "      <td>0.899902</td>\n",
       "      <td>10.0</td>\n",
       "      <td>1</td>\n",
       "    </tr>\n",
       "    <tr>\n",
       "      <th>8872</th>\n",
       "      <td>39.534969</td>\n",
       "      <td>1.0</td>\n",
       "      <td>3.0</td>\n",
       "      <td>2.0</td>\n",
       "      <td>0.0</td>\n",
       "      <td>0.0</td>\n",
       "      <td>1.0</td>\n",
       "      <td>77.0</td>\n",
       "      <td>120.0</td>\n",
       "      <td>24.0</td>\n",
       "      <td>38.000000</td>\n",
       "      <td>135.0</td>\n",
       "      <td>20.398438</td>\n",
       "      <td>1.299805</td>\n",
       "      <td>879.0</td>\n",
       "      <td>0</td>\n",
       "    </tr>\n",
       "  </tbody>\n",
       "</table>\n",
       "<p>8873 rows × 16 columns</p>\n",
       "</div>"
      ],
      "text/plain": [
       "             x0   x1   x2   x3   x4   x5   x6     x7     x8    x9        x10  \\\n",
       "0     82.709961  1.0  2.0  1.0  0.0  0.0  0.0  160.0   55.0  16.0  38.195309   \n",
       "1     79.660950  1.0  0.0  1.0  0.0  0.0  1.0   54.0   67.0  16.0  38.000000   \n",
       "2     23.399990  1.0  2.0  3.0  0.0  0.0  1.0   87.0  144.0  45.0  37.296879   \n",
       "3     53.075989  1.0  4.0  3.0  0.0  0.0  0.0   55.0  100.0  18.0  36.000000   \n",
       "4     71.794983  0.0  1.0  1.0  0.0  0.0  0.0   65.0  135.0  40.0  38.593750   \n",
       "...         ...  ...  ...  ...  ...  ...  ...    ...    ...   ...        ...   \n",
       "8868  81.064941  0.0  4.0  1.0  0.0  0.0  1.0  111.0  110.0  34.0  39.593750   \n",
       "8869  72.560966  0.0  2.0  1.0  0.0  0.0  1.0   53.0   74.0  28.0  34.695309   \n",
       "8870  63.228001  0.0  1.0  1.0  0.0  0.0  2.0   95.0  110.0  22.0  38.695309   \n",
       "8871  75.405937  0.0  2.0  1.0  1.0  0.0  2.0  109.0  110.0  30.0  36.195309   \n",
       "8872  39.534969  1.0  3.0  2.0  0.0  0.0  1.0   77.0  120.0  24.0  38.000000   \n",
       "\n",
       "        x11        x12       x13  duration  event  \n",
       "0     142.0  19.000000  1.099854      30.0      1  \n",
       "1     142.0  10.000000  0.899902    1527.0      0  \n",
       "2     130.0   5.199219  1.199951      96.0      1  \n",
       "3     135.0   8.699219  0.799927     892.0      0  \n",
       "4     146.0   0.099991  0.399963       7.0      1  \n",
       "...     ...        ...       ...       ...    ...  \n",
       "8868  135.0  13.000000  1.500000      36.0      1  \n",
       "8869  139.0   7.899414  1.899902      49.0      1  \n",
       "8870  132.0   7.799805  1.500000       6.0      1  \n",
       "8871  140.0  15.398438  0.899902      10.0      1  \n",
       "8872  135.0  20.398438  1.299805     879.0      0  \n",
       "\n",
       "[8873 rows x 16 columns]"
      ]
     },
     "execution_count": 115,
     "metadata": {},
     "output_type": "execute_result"
    }
   ],
   "source": [
    "import pandas as pd\n",
    "\n",
    "df, X_real, T_real, Y_real, time_horizons = get_dataset(\"support\")\n",
    "\n",
    "df"
   ]
  },
  {
   "cell_type": "code",
   "execution_count": 11,
   "id": "ec13eaed",
   "metadata": {},
   "outputs": [
    {
     "name": "stderr",
     "output_type": "stream",
     "text": [
      "\u001b[32m[I 2022-04-22 15:46:17,554]\u001b[0m A new study created in memory with name: no-name-dfdb1edd-5658-4015-9ff4-9baecf02b103\u001b[0m\n",
      "\u001b[32m[I 2022-04-22 15:48:33,589]\u001b[0m Trial 0 finished with value: 0.5502709557988722 and parameters: {'batch_size': 500, 'lr': 0.0001, 'dim_hidden': 50, 'alpha': 0.06042287324857454, 'sigma': 0.36422384946059305, 'dropout': 0.11645823812927213, 'patience': 20}. Best is trial 0 with value: 0.5502709557988722.\u001b[0m\n",
      "\u001b[32m[I 2022-04-22 15:50:39,668]\u001b[0m Trial 1 finished with value: 0.5085104566257822 and parameters: {'batch_size': 500, 'lr': 0.001, 'dim_hidden': 30, 'alpha': 0.013266474341216694, 'sigma': 0.0315171123791268, 'dropout': 0.006484416044899222, 'patience': 37}. Best is trial 0 with value: 0.5502709557988722.\u001b[0m\n",
      "\u001b[32m[I 2022-04-22 15:51:29,555]\u001b[0m Trial 2 finished with value: 0.5548003190485068 and parameters: {'batch_size': 500, 'lr': 0.0001, 'dim_hidden': 100, 'alpha': 0.2262973576839481, 'sigma': 0.3299211212604994, 'dropout': 0.15590544126228495, 'patience': 16}. Best is trial 2 with value: 0.5548003190485068.\u001b[0m\n",
      "\u001b[32m[I 2022-04-22 15:55:49,100]\u001b[0m Trial 3 finished with value: 0.5863910854138442 and parameters: {'batch_size': 100, 'lr': 0.001, 'dim_hidden': 50, 'alpha': 0.20168054524558038, 'sigma': 0.286151465904305, 'dropout': 0.08479377251226775, 'patience': 39}. Best is trial 3 with value: 0.5863910854138442.\u001b[0m\n",
      "\u001b[32m[I 2022-04-22 15:57:06,756]\u001b[0m Trial 4 finished with value: 0.5367920785813056 and parameters: {'batch_size': 500, 'lr': 0.001, 'dim_hidden': 70, 'alpha': 0.22667608232623854, 'sigma': 0.09934391989562974, 'dropout': 0.05664914129559356, 'patience': 26}. Best is trial 3 with value: 0.5863910854138442.\u001b[0m\n",
      "\u001b[32m[I 2022-04-22 15:58:46,798]\u001b[0m Trial 5 finished with value: 0.0 and parameters: {'batch_size': 200, 'lr': 0.01, 'dim_hidden': 30, 'alpha': 0.11986558673002501, 'sigma': 0.3899004980340011, 'dropout': 0.06630632985601519, 'patience': 38}. Best is trial 3 with value: 0.5863910854138442.\u001b[0m\n"
     ]
    },
    {
     "name": "stdout",
     "output_type": "stream",
     "text": [
      "   >>>>>>>> trial failed \n"
     ]
    },
    {
     "name": "stderr",
     "output_type": "stream",
     "text": [
      "\u001b[32m[I 2022-04-22 15:58:47,857]\u001b[0m Trial 6 finished with value: 0.0 and parameters: {'batch_size': 100, 'lr': 0.01, 'dim_hidden': 10, 'alpha': 0.11606913400475982, 'sigma': 0.460656612158441, 'dropout': 0.02848921131048996, 'patience': 23}. Best is trial 3 with value: 0.5863910854138442.\u001b[0m\n"
     ]
    },
    {
     "name": "stdout",
     "output_type": "stream",
     "text": [
      "   >>>>>>>> trial failed \n"
     ]
    },
    {
     "name": "stderr",
     "output_type": "stream",
     "text": [
      "\u001b[32m[I 2022-04-22 15:58:48,850]\u001b[0m Trial 7 finished with value: 0.0 and parameters: {'batch_size': 100, 'lr': 0.01, 'dim_hidden': 30, 'alpha': 0.035132233761227816, 'sigma': 0.3098157406257913, 'dropout': 0.16515114487039093, 'patience': 25}. Best is trial 3 with value: 0.5863910854138442.\u001b[0m\n"
     ]
    },
    {
     "name": "stdout",
     "output_type": "stream",
     "text": [
      "   >>>>>>>> trial failed \n"
     ]
    },
    {
     "name": "stderr",
     "output_type": "stream",
     "text": [
      "\u001b[32m[I 2022-04-22 15:58:49,939]\u001b[0m Trial 8 finished with value: 0.0 and parameters: {'batch_size': 500, 'lr': 0.01, 'dim_hidden': 40, 'alpha': 0.15647647518529512, 'sigma': 0.30464823944809266, 'dropout': 0.1808975040893317, 'patience': 12}. Best is trial 3 with value: 0.5863910854138442.\u001b[0m\n"
     ]
    },
    {
     "name": "stdout",
     "output_type": "stream",
     "text": [
      "   >>>>>>>> trial failed \n"
     ]
    },
    {
     "name": "stderr",
     "output_type": "stream",
     "text": [
      "\u001b[32m[I 2022-04-22 15:58:50,742]\u001b[0m Trial 9 finished with value: 0.0 and parameters: {'batch_size': 200, 'lr': 0.0001, 'dim_hidden': 50, 'alpha': 0.028788624579713595, 'sigma': 0.17802989652633067, 'dropout': 0.08699026051503163, 'patience': 47}. Best is trial 3 with value: 0.5863910854138442.\u001b[0m\n",
      "\u001b[32m[I 2022-04-22 15:58:50,941]\u001b[0m Trial 10 finished with value: 0.0 and parameters: {'batch_size': 100, 'lr': 0.001, 'dim_hidden': 90, 'alpha': 0.4491850300328254, 'sigma': 0.2052650937786391, 'dropout': 0.11894459769556441, 'patience': 46}. Best is trial 3 with value: 0.5863910854138442.\u001b[0m\n"
     ]
    },
    {
     "name": "stdout",
     "output_type": "stream",
     "text": [
      "   >>>>>>>> trial failed \n",
      "   >>>>>>>> trial failed \n"
     ]
    },
    {
     "name": "stderr",
     "output_type": "stream",
     "text": [
      "\u001b[32m[I 2022-04-22 15:58:51,133]\u001b[0m Trial 11 finished with value: 0.0 and parameters: {'batch_size': 100, 'lr': 0.0001, 'dim_hidden': 100, 'alpha': 0.3361121555324741, 'sigma': 0.2528440388818439, 'dropout': 0.14129458062000472, 'patience': 39}. Best is trial 3 with value: 0.5863910854138442.\u001b[0m\n",
      "\u001b[32m[I 2022-04-22 15:58:51,335]\u001b[0m Trial 12 finished with value: 0.0 and parameters: {'batch_size': 500, 'lr': 0.001, 'dim_hidden': 20, 'alpha': 0.27490296173413126, 'sigma': 0.46740254189861036, 'dropout': 0.14669667588995566, 'patience': 16}. Best is trial 3 with value: 0.5863910854138442.\u001b[0m\n"
     ]
    },
    {
     "name": "stdout",
     "output_type": "stream",
     "text": [
      "   >>>>>>>> trial failed \n",
      "   >>>>>>>> trial failed \n"
     ]
    },
    {
     "name": "stderr",
     "output_type": "stream",
     "text": [
      "\u001b[32m[I 2022-04-22 15:58:51,533]\u001b[0m Trial 13 finished with value: 0.0 and parameters: {'batch_size': 100, 'lr': 0.0001, 'dim_hidden': 100, 'alpha': 0.22707099183619733, 'sigma': 0.38099842993213723, 'dropout': 0.08946517704614483, 'patience': 50}. Best is trial 3 with value: 0.5863910854138442.\u001b[0m\n",
      "\u001b[32m[I 2022-04-22 15:58:51,715]\u001b[0m Trial 14 finished with value: 0.0 and parameters: {'batch_size': 200, 'lr': 0.001, 'dim_hidden': 60, 'alpha': 0.343850788740538, 'sigma': 0.2704074985735507, 'dropout': 0.18984182916201142, 'patience': 30}. Best is trial 3 with value: 0.5863910854138442.\u001b[0m\n"
     ]
    },
    {
     "name": "stdout",
     "output_type": "stream",
     "text": [
      "   >>>>>>>> trial failed \n",
      "   >>>>>>>> trial failed \n"
     ]
    },
    {
     "name": "stderr",
     "output_type": "stream",
     "text": [
      "\u001b[32m[I 2022-04-22 15:58:51,905]\u001b[0m Trial 15 finished with value: 0.0 and parameters: {'batch_size': 100, 'lr': 0.0001, 'dim_hidden': 80, 'alpha': 0.1776895627279264, 'sigma': 0.1584867027233737, 'dropout': 0.12591802223715876, 'patience': 48}. Best is trial 3 with value: 0.5863910854138442.\u001b[0m\n",
      "\u001b[32m[I 2022-04-22 15:58:52,095]\u001b[0m Trial 16 finished with value: 0.0 and parameters: {'batch_size': 500, 'lr': 0.001, 'dim_hidden': 50, 'alpha': 0.3115482087704986, 'sigma': 0.33520125878267426, 'dropout': 0.06189547771282751, 'patience': 15}. Best is trial 3 with value: 0.5863910854138442.\u001b[0m\n"
     ]
    },
    {
     "name": "stdout",
     "output_type": "stream",
     "text": [
      "   >>>>>>>> trial failed \n",
      "   >>>>>>>> trial failed \n"
     ]
    },
    {
     "name": "stderr",
     "output_type": "stream",
     "text": [
      "\u001b[32m[I 2022-04-22 15:58:52,295]\u001b[0m Trial 17 finished with value: 0.0 and parameters: {'batch_size': 500, 'lr': 0.0001, 'dim_hidden': 100, 'alpha': 0.38969049975656567, 'sigma': 0.41549368498073574, 'dropout': 0.15944038025737362, 'patience': 11}. Best is trial 3 with value: 0.5863910854138442.\u001b[0m\n",
      "\u001b[32m[I 2022-04-22 15:58:52,488]\u001b[0m Trial 18 finished with value: 0.0 and parameters: {'batch_size': 100, 'lr': 0.0001, 'dim_hidden': 70, 'alpha': 0.4995502070468597, 'sigma': 0.20975217046103184, 'dropout': 0.09450775378779251, 'patience': 42}. Best is trial 3 with value: 0.5863910854138442.\u001b[0m\n"
     ]
    },
    {
     "name": "stdout",
     "output_type": "stream",
     "text": [
      "   >>>>>>>> trial failed \n",
      "   >>>>>>>> trial failed \n"
     ]
    },
    {
     "name": "stderr",
     "output_type": "stream",
     "text": [
      "\u001b[32m[I 2022-04-22 15:58:52,677]\u001b[0m Trial 19 finished with value: 0.0 and parameters: {'batch_size': 200, 'lr': 0.001, 'dim_hidden': 90, 'alpha': 0.1947640525837956, 'sigma': 0.09330063933532487, 'dropout': 0.03680142014844953, 'patience': 33}. Best is trial 3 with value: 0.5863910854138442.\u001b[0m\n",
      "\u001b[32m[I 2022-04-22 15:58:52,879]\u001b[0m Trial 20 finished with value: 0.0 and parameters: {'batch_size': 500, 'lr': 0.0001, 'dim_hidden': 60, 'alpha': 0.2665128996875936, 'sigma': 0.2890194306158457, 'dropout': 0.1084509470839192, 'patience': 49}. Best is trial 3 with value: 0.5863910854138442.\u001b[0m\n"
     ]
    },
    {
     "name": "stdout",
     "output_type": "stream",
     "text": [
      "   >>>>>>>> trial failed \n",
      "   >>>>>>>> trial failed \n"
     ]
    },
    {
     "name": "stderr",
     "output_type": "stream",
     "text": [
      "\u001b[32m[I 2022-04-22 15:58:53,088]\u001b[0m Trial 21 finished with value: 0.0 and parameters: {'batch_size': 500, 'lr': 0.0001, 'dim_hidden': 50, 'alpha': 0.08108644177396808, 'sigma': 0.32606455819124636, 'dropout': 0.12847508990359496, 'patience': 45}. Best is trial 3 with value: 0.5863910854138442.\u001b[0m\n",
      "\u001b[32m[I 2022-04-22 15:58:53,289]\u001b[0m Trial 22 finished with value: 0.0 and parameters: {'batch_size': 500, 'lr': 0.0001, 'dim_hidden': 50, 'alpha': 0.08021881647985404, 'sigma': 0.36091978482394604, 'dropout': 0.07581306476287604, 'patience': 34}. Best is trial 3 with value: 0.5863910854138442.\u001b[0m\n"
     ]
    },
    {
     "name": "stdout",
     "output_type": "stream",
     "text": [
      "   >>>>>>>> trial failed \n",
      "   >>>>>>>> trial failed \n"
     ]
    },
    {
     "name": "stderr",
     "output_type": "stream",
     "text": [
      "\u001b[32m[I 2022-04-22 15:58:53,500]\u001b[0m Trial 23 finished with value: 0.0 and parameters: {'batch_size': 500, 'lr': 0.0001, 'dim_hidden': 50, 'alpha': 0.13771523558521848, 'sigma': 0.4263180684271063, 'dropout': 0.11047529620723545, 'patience': 20}. Best is trial 3 with value: 0.5863910854138442.\u001b[0m\n"
     ]
    },
    {
     "name": "stdout",
     "output_type": "stream",
     "text": [
      "   >>>>>>>> trial failed \n",
      "   >>>>>>>> trial failed \n"
     ]
    },
    {
     "name": "stderr",
     "output_type": "stream",
     "text": [
      "\u001b[32m[I 2022-04-22 15:58:53,701]\u001b[0m Trial 24 finished with value: 0.0 and parameters: {'batch_size': 500, 'lr': 0.0001, 'dim_hidden': 20, 'alpha': 0.21454931955649598, 'sigma': 0.3486662181699749, 'dropout': 0.14251976052357104, 'patience': 29}. Best is trial 3 with value: 0.5863910854138442.\u001b[0m\n",
      "\u001b[32m[I 2022-04-22 15:58:53,892]\u001b[0m Trial 25 finished with value: 0.0 and parameters: {'batch_size': 100, 'lr': 0.001, 'dim_hidden': 40, 'alpha': 0.07951500257646571, 'sigma': 0.23498705500786515, 'dropout': 0.17082591116835763, 'patience': 28}. Best is trial 3 with value: 0.5863910854138442.\u001b[0m\n"
     ]
    },
    {
     "name": "stdout",
     "output_type": "stream",
     "text": [
      "   >>>>>>>> trial failed \n"
     ]
    },
    {
     "name": "stderr",
     "output_type": "stream",
     "text": [
      "\u001b[32m[I 2022-04-22 15:58:54,171]\u001b[0m Trial 26 finished with value: 0.0 and parameters: {'batch_size': 500, 'lr': 0.0001, 'dim_hidden': 80, 'alpha': 0.29117520360188365, 'sigma': 0.41141945527691903, 'dropout': 0.10308119502753599, 'patience': 14}. Best is trial 3 with value: 0.5863910854138442.\u001b[0m\n"
     ]
    },
    {
     "name": "stdout",
     "output_type": "stream",
     "text": [
      "   >>>>>>>> trial failed \n"
     ]
    },
    {
     "name": "stderr",
     "output_type": "stream",
     "text": [
      "\u001b[32m[I 2022-04-22 15:58:54,766]\u001b[0m Trial 27 finished with value: 0.0 and parameters: {'batch_size': 100, 'lr': 0.001, 'dim_hidden': 10, 'alpha': 0.3809323086245342, 'sigma': 0.2752494143306842, 'dropout': 0.19680685904843945, 'patience': 10}. Best is trial 3 with value: 0.5863910854138442.\u001b[0m\n"
     ]
    },
    {
     "name": "stdout",
     "output_type": "stream",
     "text": [
      "   >>>>>>>> trial failed \n"
     ]
    },
    {
     "name": "stderr",
     "output_type": "stream",
     "text": [
      "\u001b[32m[I 2022-04-22 15:58:55,033]\u001b[0m Trial 28 finished with value: 0.0 and parameters: {'batch_size': 200, 'lr': 0.01, 'dim_hidden': 100, 'alpha': 0.1802282327772528, 'sigma': 0.4868832210315739, 'dropout': 0.14976972421187615, 'patience': 22}. Best is trial 3 with value: 0.5863910854138442.\u001b[0m\n"
     ]
    },
    {
     "name": "stdout",
     "output_type": "stream",
     "text": [
      "   >>>>>>>> trial failed \n"
     ]
    },
    {
     "name": "stderr",
     "output_type": "stream",
     "text": [
      "\u001b[32m[I 2022-04-22 15:58:55,296]\u001b[0m Trial 29 finished with value: 0.0 and parameters: {'batch_size': 500, 'lr': 0.0001, 'dim_hidden': 50, 'alpha': 0.2502638045686847, 'sigma': 0.3626733978912186, 'dropout': 0.13469199664674325, 'patience': 17}. Best is trial 3 with value: 0.5863910854138442.\u001b[0m\n"
     ]
    },
    {
     "name": "stdout",
     "output_type": "stream",
     "text": [
      "   >>>>>>>> trial failed \n"
     ]
    }
   ],
   "source": [
    "# Baseline evaluation\n",
    "from synthcity.plugins import Plugins\n",
    "from adjutorium.utils.tester import evaluate_survival_estimator\n",
    "from adjutorium.plugins.prediction.risk_estimation import RiskEstimation\n",
    "import optuna\n",
    "\n",
    "optuna.logging.set_verbosity(optuna.logging.DEBUG)\n",
    "optuna.logging.enable_propagation()\n",
    "optuna.logging.enable_default_handler()\n",
    "\n",
    "predictor = RiskEstimation().get_type(\"deephit\")\n",
    "n_folds = 3\n",
    "\n",
    "const_cols = constant_columns(X_real)\n",
    "X_real = X_real.drop(columns=const_cols)\n",
    "\n",
    "\n",
    "def objective(trial):\n",
    "    params = _trial_params(trial, predictor.hyperparameter_space())\n",
    "\n",
    "    try:\n",
    "        score = evaluate_survival_estimator(\n",
    "            predictor(**params),\n",
    "            X_real,\n",
    "            T_real,\n",
    "            Y_real,\n",
    "            time_horizons=time_horizons,\n",
    "            n_folds=n_folds,\n",
    "        )[\"clf\"][\"c_index\"][0]\n",
    "    except BaseException as e:\n",
    "        print(\"   >>>>>>>> trial failed\", e)\n",
    "        score = 0\n",
    "\n",
    "    return score\n",
    "\n",
    "\n",
    "study = optuna.create_study(direction=\"maximize\")\n",
    "study.optimize(objective, n_trials=30)"
   ]
  },
  {
   "cell_type": "code",
   "execution_count": 10,
   "id": "7ae0e49c",
   "metadata": {},
   "outputs": [],
   "source": [
    "model_metrics = evaluate_dataset(\"support\")"
   ]
  },
  {
   "cell_type": "code",
   "execution_count": 11,
   "id": "5fa9cd8d",
   "metadata": {},
   "outputs": [
    {
     "name": "stdout",
     "output_type": "stream",
     "text": [
      "c_index\n"
     ]
    },
    {
     "data": {
      "text/html": [
       "<table>\n",
       "<thead>\n",
       "<tr><th>generator             </th><th>real_real        </th><th>syn_syn          </th><th>real_syn         </th><th>syn_real         </th></tr>\n",
       "</thead>\n",
       "<tbody>\n",
       "<tr><td>adsgan                </td><td>0.5706 +/- 0.0054</td><td>0.6813 +/- 0.0069</td><td>0.5457 +/- 0.0055</td><td>0.5209 +/- 0.0069</td></tr>\n",
       "<tr><td>pategan               </td><td>0.5706 +/- 0.0054</td><td>0 +/-0           </td><td>0 +/-0           </td><td>0.5004 +/- 0.0039</td></tr>\n",
       "<tr><td>tvae                  </td><td>0.5706 +/- 0.0054</td><td>0.7028 +/- 0.0034</td><td>0.6946 +/- 0.0036</td><td>0.5664 +/- 0.0025</td></tr>\n",
       "<tr><td>bayesian_network      </td><td>0.5706 +/- 0.0054</td><td>0.5642 +/- 0.0068</td><td>0.5656 +/- 0.0086</td><td>0.5707 +/- 0.0046</td></tr>\n",
       "<tr><td>privbayes             </td><td>0.5706 +/- 0.0054</td><td>0.5028 +/- 0.0025</td><td>0.4985 +/- 0.0024</td><td>0.483 +/- 0.0044 </td></tr>\n",
       "<tr><td>ctgan                 </td><td>0.5706 +/- 0.0054</td><td>0.6706 +/- 0.0035</td><td>0.6604 +/- 0.0038</td><td>0.5549 +/- 0.0051</td></tr>\n",
       "<tr><td>marginal_distributions</td><td>0.5706 +/- 0.0054</td><td>0.5068 +/- 0.0065</td><td>0.5041 +/- 0.0102</td><td>0.5034 +/- 0.0041</td></tr>\n",
       "<tr><td>copulagan             </td><td>0.5706 +/- 0.0054</td><td>0.6137 +/- 0.0032</td><td>0.4954 +/- 0.0156</td><td>0.5104 +/- 0.0041</td></tr>\n",
       "<tr><td>gaussian_copula       </td><td>0.5706 +/- 0.0054</td><td>0.5691 +/- 0.0066</td><td>0.5662 +/- 0.0067</td><td>0.5688 +/- 0.007 </td></tr>\n",
       "<tr><td>rtvae                 </td><td>0.5706 +/- 0.0054</td><td>0 +/-0           </td><td>0 +/-0           </td><td>0.4993 +/- 0.0066</td></tr>\n",
       "<tr><td>nflow                 </td><td>0.5706 +/- 0.0054</td><td>0.5428 +/- 0.0005</td><td>0.5397 +/- 0.0069</td><td>0.5566 +/- 0.004 </td></tr>\n",
       "</tbody>\n",
       "</table>"
      ],
      "text/plain": [
       "<IPython.core.display.HTML object>"
      ]
     },
     "metadata": {},
     "output_type": "display_data"
    },
    {
     "name": "stdout",
     "output_type": "stream",
     "text": [
      "aucroc\n"
     ]
    },
    {
     "data": {
      "text/html": [
       "<table>\n",
       "<thead>\n",
       "<tr><th>generator             </th><th>real_real        </th><th>syn_syn          </th><th>real_syn         </th><th>syn_real         </th></tr>\n",
       "</thead>\n",
       "<tbody>\n",
       "<tr><td>adsgan                </td><td>0.6379 +/- 0.0056</td><td>0.823 +/- 0.0013 </td><td>0.6578 +/- 0.0025</td><td>0.5522 +/- 0.0068</td></tr>\n",
       "<tr><td>pategan               </td><td>0.6379 +/- 0.0056</td><td>0 +/- 0          </td><td>0 +/- 0          </td><td>0.5402 +/- 0.0074</td></tr>\n",
       "<tr><td>tvae                  </td><td>0.6379 +/- 0.0056</td><td>0.8354 +/- 0.003 </td><td>0.8159 +/- 0.0017</td><td>0.6451 +/- 0.0106</td></tr>\n",
       "<tr><td>bayesian_network      </td><td>0.6379 +/- 0.0056</td><td>0.6459 +/- 0.0062</td><td>0.6625 +/- 0.0049</td><td>0.6541 +/- 0.0097</td></tr>\n",
       "<tr><td>privbayes             </td><td>0.6379 +/- 0.0056</td><td>0.4928 +/- 0.0091</td><td>0.494 +/- 0.0226 </td><td>0.4522 +/- 0.0057</td></tr>\n",
       "<tr><td>ctgan                 </td><td>0.6379 +/- 0.0056</td><td>0.8536 +/- 0.0075</td><td>0.8318 +/- 0.0048</td><td>0.6618 +/- 0.0071</td></tr>\n",
       "<tr><td>marginal_distributions</td><td>0.6379 +/- 0.0056</td><td>0.4828 +/- 0.0063</td><td>0.5006 +/- 0.006 </td><td>0.5804 +/- 0.0075</td></tr>\n",
       "<tr><td>copulagan             </td><td>0.6379 +/- 0.0056</td><td>0.7389 +/- 0.0057</td><td>0.5095 +/- 0.0128</td><td>0.5259 +/- 0.0113</td></tr>\n",
       "<tr><td>gaussian_copula       </td><td>0.6379 +/- 0.0056</td><td>0.6291 +/- 0.0074</td><td>0.6238 +/- 0.0091</td><td>0.6542 +/- 0.0076</td></tr>\n",
       "<tr><td>rtvae                 </td><td>0.6379 +/- 0.0056</td><td>0 +/- 0          </td><td>0 +/- 0          </td><td>0.5415 +/- 0.005 </td></tr>\n",
       "<tr><td>nflow                 </td><td>0.6379 +/- 0.0056</td><td>0.5809 +/- 0.0044</td><td>0.5767 +/- 0.0017</td><td>0.6488 +/- 0.0091</td></tr>\n",
       "</tbody>\n",
       "</table>"
      ],
      "text/plain": [
       "<IPython.core.display.HTML object>"
      ]
     },
     "metadata": {},
     "output_type": "display_data"
    },
    {
     "name": "stdout",
     "output_type": "stream",
     "text": [
      "brier_score\n"
     ]
    },
    {
     "data": {
      "text/html": [
       "<table>\n",
       "<thead>\n",
       "<tr><th>generator             </th><th>real_real       </th><th>syn_syn          </th><th>real_syn         </th><th>syn_real         </th></tr>\n",
       "</thead>\n",
       "<tbody>\n",
       "<tr><td>adsgan                </td><td>0.2084 +/- 0.004</td><td>0.1911 +/- 0.0078</td><td>0.2425 +/- 0.0053</td><td>0.2712 +/- 0.005 </td></tr>\n",
       "<tr><td>pategan               </td><td>0.2084 +/- 0.004</td><td>1 +/- 0          </td><td>1 +/- 0          </td><td>0.3047 +/- 0.0052</td></tr>\n",
       "<tr><td>tvae                  </td><td>0.2084 +/- 0.004</td><td>0.1457 +/- 0.0037</td><td>0.1771 +/- 0.0032</td><td>0.2484 +/- 0.0027</td></tr>\n",
       "<tr><td>bayesian_network      </td><td>0.2084 +/- 0.004</td><td>0.2094 +/- 0.0013</td><td>0.209 +/- 0.0015 </td><td>0.2091 +/- 0.0043</td></tr>\n",
       "<tr><td>privbayes             </td><td>0.2084 +/- 0.004</td><td>0.2227 +/- 0.0011</td><td>0.3029 +/- 0.0021</td><td>0.2808 +/- 0.0025</td></tr>\n",
       "<tr><td>ctgan                 </td><td>0.2084 +/- 0.004</td><td>0.1676 +/- 0.0061</td><td>0.1782 +/- 0.0068</td><td>0.2167 +/- 0.0042</td></tr>\n",
       "<tr><td>marginal_distributions</td><td>0.2084 +/- 0.004</td><td>0.1909 +/- 0.0014</td><td>0.5345 +/- 0.0146</td><td>0.3501 +/- 0.0014</td></tr>\n",
       "<tr><td>copulagan             </td><td>0.2084 +/- 0.004</td><td>0.1987 +/- 0.0069</td><td>0.2284 +/- 0.0078</td><td>0.2411 +/- 0.0063</td></tr>\n",
       "<tr><td>gaussian_copula       </td><td>0.2084 +/- 0.004</td><td>0.2157 +/- 0.0037</td><td>0.2183 +/- 0.0042</td><td>0.2103 +/- 0.0045</td></tr>\n",
       "<tr><td>rtvae                 </td><td>0.2084 +/- 0.004</td><td>1 +/- 0          </td><td>1 +/- 0          </td><td>0.2775 +/- 0.0063</td></tr>\n",
       "<tr><td>nflow                 </td><td>0.2084 +/- 0.004</td><td>0.234 +/- 0.0023 </td><td>0.2485 +/- 0.0024</td><td>0.2269 +/- 0.0032</td></tr>\n",
       "</tbody>\n",
       "</table>"
      ],
      "text/plain": [
       "<IPython.core.display.HTML object>"
      ]
     },
     "metadata": {},
     "output_type": "display_data"
    }
   ],
   "source": [
    "plot_metrics(model_metrics)"
   ]
  }
 ],
 "metadata": {
  "kernelspec": {
   "display_name": "py38",
   "language": "python",
   "name": "py38"
  },
  "language_info": {
   "codemirror_mode": {
    "name": "ipython",
    "version": 3
   },
   "file_extension": ".py",
   "mimetype": "text/x-python",
   "name": "python",
   "nbconvert_exporter": "python",
   "pygments_lexer": "ipython3",
   "version": "3.8.12"
  }
 },
 "nbformat": 4,
 "nbformat_minor": 5
}
